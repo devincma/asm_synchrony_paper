{
 "cells": [
  {
   "cell_type": "markdown",
   "metadata": {},
   "source": [
    "# Figure 3 (Mixed Model Analysis)"
   ]
  },
  {
   "cell_type": "code",
   "execution_count": 2,
   "metadata": {},
   "outputs": [],
   "source": [
    "import os\n",
    "\n",
    "import matplotlib.pyplot as plt\n",
    "import numpy as np\n",
    "import pandas as pd\n",
    "import seaborn as sns\n",
    "import statsmodels.formula.api as smf"
   ]
  },
  {
   "cell_type": "code",
   "execution_count": 3,
   "metadata": {},
   "outputs": [],
   "source": [
    "# Replace with the path to where you store data\n",
    "DATA_PATH = \"../../cnt-data/\"\n",
    "\n",
    "# Set up the seaborn style\n",
    "sns.set_style(\"whitegrid\")"
   ]
  },
  {
   "cell_type": "code",
   "execution_count": 4,
   "metadata": {},
   "outputs": [],
   "source": [
    "def get_patient_hup_ids(directory):\n",
    "    # List all files in the directory\n",
    "    files = os.listdir(directory)\n",
    "\n",
    "    # Filter out files based on the given pattern and extract patient_hup_id as integers\n",
    "    patient_hup_ids = [\n",
    "        int(f.split(\"_\")[1].split(\".\")[0]) for f in files if f.startswith(\"HUP_\")\n",
    "    ]\n",
    "\n",
    "    return patient_hup_ids\n",
    "\n",
    "\n",
    "TABLES_PATH = os.path.join(DATA_PATH, \"giant_new_tables\")\n",
    "completed_hup_ids = get_patient_hup_ids(TABLES_PATH)\n",
    "completed_hup_ids.sort()"
   ]
  },
  {
   "cell_type": "markdown",
   "metadata": {},
   "source": [
    "## Pre first seizure data only"
   ]
  },
  {
   "cell_type": "code",
   "execution_count": 5,
   "metadata": {},
   "outputs": [],
   "source": [
    "def get_relevant_data(df):\n",
    "    # Find the first seizure time\n",
    "    first_seizure_time = df[df[\"had_seizure\"] >= 1][\"emu_minute\"].min()\n",
    "\n",
    "    # Select the data for the period before the first seizure\n",
    "    pre_seizure_data = df[\n",
    "        (df[\"emu_minute\"] >= 10) & (df[\"emu_minute\"] < first_seizure_time - 20)\n",
    "    ]\n",
    "\n",
    "    # Return the combined data\n",
    "    return pre_seizure_data\n",
    "\n",
    "\n",
    "# Prepare dataframes for all patients\n",
    "dfs = []\n",
    "for patient_hup_id in completed_hup_ids:\n",
    "    patient_features_df = pd.read_csv(\n",
    "        os.path.join(TABLES_PATH, f\"HUP_{str(patient_hup_id)}.csv\")\n",
    "    )\n",
    "\n",
    "    # Only keep emu_minute, synchrony_broadband,med_sum_no_lorazepam_raw, and had_seizure columns\n",
    "    patient_features_df = patient_features_df[\n",
    "        [\n",
    "            \"synchrony_broadband\",\n",
    "            \"med_sum_no_lorazepam_raw\",\n",
    "            \"ad_ratio\",\n",
    "            \"had_seizure\",\n",
    "            \"emu_minute\",\n",
    "        ]\n",
    "    ]\n",
    "\n",
    "    # Add a column for patient_hup_id\n",
    "    patient_features_df[\"patient_hup_id\"] = patient_hup_id\n",
    "\n",
    "    dfs.append(get_relevant_data(patient_features_df))\n",
    "\n",
    "# Combine them into one dataframe\n",
    "all_data = pd.concat(dfs).reset_index(drop=True)\n",
    "# drop rows with any missing values\n",
    "all_data = all_data.dropna()\n",
    "# Reset the index\n",
    "all_data = all_data.reset_index(drop=True)"
   ]
  },
  {
   "cell_type": "code",
   "execution_count": 6,
   "metadata": {},
   "outputs": [
    {
     "data": {
      "text/html": [
       "<div>\n",
       "<style scoped>\n",
       "    .dataframe tbody tr th:only-of-type {\n",
       "        vertical-align: middle;\n",
       "    }\n",
       "\n",
       "    .dataframe tbody tr th {\n",
       "        vertical-align: top;\n",
       "    }\n",
       "\n",
       "    .dataframe thead th {\n",
       "        text-align: right;\n",
       "    }\n",
       "</style>\n",
       "<table border=\"1\" class=\"dataframe\">\n",
       "  <thead>\n",
       "    <tr style=\"text-align: right;\">\n",
       "      <th></th>\n",
       "      <th>hup_id</th>\n",
       "      <th>taper_start_hr</th>\n",
       "    </tr>\n",
       "  </thead>\n",
       "  <tbody>\n",
       "    <tr>\n",
       "      <th>0</th>\n",
       "      <td>140</td>\n",
       "      <td>80.0</td>\n",
       "    </tr>\n",
       "    <tr>\n",
       "      <th>1</th>\n",
       "      <td>142</td>\n",
       "      <td>75.0</td>\n",
       "    </tr>\n",
       "    <tr>\n",
       "      <th>2</th>\n",
       "      <td>143</td>\n",
       "      <td>75.0</td>\n",
       "    </tr>\n",
       "    <tr>\n",
       "      <th>3</th>\n",
       "      <td>145</td>\n",
       "      <td>100.0</td>\n",
       "    </tr>\n",
       "    <tr>\n",
       "      <th>4</th>\n",
       "      <td>151</td>\n",
       "      <td>80.0</td>\n",
       "    </tr>\n",
       "    <tr>\n",
       "      <th>5</th>\n",
       "      <td>152</td>\n",
       "      <td>120.0</td>\n",
       "    </tr>\n",
       "    <tr>\n",
       "      <th>6</th>\n",
       "      <td>160</td>\n",
       "      <td>100.0</td>\n",
       "    </tr>\n",
       "    <tr>\n",
       "      <th>7</th>\n",
       "      <td>163</td>\n",
       "      <td>75.0</td>\n",
       "    </tr>\n",
       "    <tr>\n",
       "      <th>8</th>\n",
       "      <td>164</td>\n",
       "      <td>60.0</td>\n",
       "    </tr>\n",
       "    <tr>\n",
       "      <th>9</th>\n",
       "      <td>165</td>\n",
       "      <td>100.0</td>\n",
       "    </tr>\n",
       "    <tr>\n",
       "      <th>10</th>\n",
       "      <td>166</td>\n",
       "      <td>75.0</td>\n",
       "    </tr>\n",
       "    <tr>\n",
       "      <th>11</th>\n",
       "      <td>171</td>\n",
       "      <td>100.0</td>\n",
       "    </tr>\n",
       "    <tr>\n",
       "      <th>12</th>\n",
       "      <td>177</td>\n",
       "      <td>120.0</td>\n",
       "    </tr>\n",
       "    <tr>\n",
       "      <th>13</th>\n",
       "      <td>182</td>\n",
       "      <td>100.0</td>\n",
       "    </tr>\n",
       "    <tr>\n",
       "      <th>14</th>\n",
       "      <td>190</td>\n",
       "      <td>100.0</td>\n",
       "    </tr>\n",
       "    <tr>\n",
       "      <th>15</th>\n",
       "      <td>192</td>\n",
       "      <td>75.0</td>\n",
       "    </tr>\n",
       "  </tbody>\n",
       "</table>\n",
       "</div>"
      ],
      "text/plain": [
       "    hup_id  taper_start_hr\n",
       "0      140            80.0\n",
       "1      142            75.0\n",
       "2      143            75.0\n",
       "3      145           100.0\n",
       "4      151            80.0\n",
       "5      152           120.0\n",
       "6      160           100.0\n",
       "7      163            75.0\n",
       "8      164            60.0\n",
       "9      165           100.0\n",
       "10     166            75.0\n",
       "11     171           100.0\n",
       "12     177           120.0\n",
       "13     182           100.0\n",
       "14     190           100.0\n",
       "15     192            75.0"
      ]
     },
     "execution_count": 6,
     "metadata": {},
     "output_type": "execute_result"
    }
   ],
   "source": [
    "# Load taper_annotations.csv from the data directory\n",
    "taper_df = pd.read_csv(os.path.join(DATA_PATH, \"taper_annotations.csv\"))\n",
    "# Drop rows with any missing values in taper_start_hr\n",
    "taper_df = taper_df.dropna(subset=[\"taper_start_hr\"])\n",
    "# Drop the reinit_start_hr column\n",
    "taper_df = taper_df.drop(columns=[\"reinit_start_hr\"]).reset_index(drop=True)\n",
    "taper_df"
   ]
  },
  {
   "cell_type": "code",
   "execution_count": 7,
   "metadata": {},
   "outputs": [
    {
     "name": "stdout",
     "output_type": "stream",
     "text": [
      "                Mixed Linear Model Regression Results\n",
      "======================================================================\n",
      "Model:            MixedLM Dependent Variable: med_sum_no_lorazepam_raw\n",
      "No. Observations: 959     Method:             REML                    \n",
      "No. Groups:       16      Scale:              0.0000                  \n",
      "Min. group size:  59      Log-Likelihood:     3400.1501               \n",
      "Max. group size:  60      Converged:          Yes                     \n",
      "Mean group size:  59.9                                                \n",
      "-----------------------------------------------------------------------\n",
      "                       Coef.   Std.Err.     z     P>|z|  [0.025  0.975]\n",
      "-----------------------------------------------------------------------\n",
      "Intercept               0.407     0.110    3.698  0.000   0.191   0.623\n",
      "synchrony_broadband    -0.001     0.000   -3.384  0.001  -0.002  -0.000\n",
      "emu_minute             -0.367     0.006  -62.267  0.000  -0.378  -0.355\n",
      "ad_ratio               -0.001     0.000   -3.155  0.002  -0.002  -0.000\n",
      "Group Var               0.194    11.505                                \n",
      "======================================================================\n",
      "\n"
     ]
    }
   ],
   "source": [
    "from sklearn.preprocessing import StandardScaler\n",
    "\n",
    "\n",
    "# Define the function to get relevant data before the first seizure\n",
    "def get_relevant_data(df, taper_start_hr):\n",
    "    # Find the first seizure time\n",
    "    first_seizure_time = df[df[\"had_seizure\"] >= 1][\"emu_minute\"].min()\n",
    "\n",
    "    # Select the data for the period before the first seizure\n",
    "    pre_seizure_data = df[\n",
    "        (taper_start_hr * 60 - 60 <= df[\"emu_minute\"])\n",
    "        & (df[\"emu_minute\"] < taper_start_hr * 60 + 60)\n",
    "    ].copy()  # Use .copy() to avoid SettingWithCopyWarning\n",
    "\n",
    "    return pre_seizure_data\n",
    "\n",
    "\n",
    "# Prepare dataframes for all patients\n",
    "dfs = []\n",
    "\n",
    "# Loop over all patients\n",
    "for i, row in taper_df.iterrows():\n",
    "    patient_hup_id = int(row[\"hup_id\"])\n",
    "    taper_start_hr = row[\"taper_start_hr\"]\n",
    "    patient_features_df = pd.read_csv(\n",
    "        os.path.join(TABLES_PATH, f\"HUP_{str(patient_hup_id)}.csv\")\n",
    "    )\n",
    "\n",
    "    # Only keep emu_minute, synchrony_broadband, med_sum_no_lorazepam_raw, and had_seizure columns\n",
    "    patient_features_df = patient_features_df[\n",
    "        [\n",
    "            \"synchrony_broadband\",\n",
    "            \"med_sum_no_lorazepam_raw\",\n",
    "            \"ad_ratio\",\n",
    "            \"had_seizure\",\n",
    "            \"emu_minute\",\n",
    "        ]\n",
    "    ]\n",
    "\n",
    "    # Add a column for patient_hup_id\n",
    "    patient_features_df[\"patient_hup_id\"] = patient_hup_id\n",
    "\n",
    "    # Apply get_relevant_data to filter pre-first-seizure data\n",
    "    pre_seizure_data = get_relevant_data(patient_features_df, taper_start_hr)\n",
    "\n",
    "    # Append to list\n",
    "    dfs.append(pre_seizure_data)\n",
    "\n",
    "# Combine all filtered data into one dataframe\n",
    "all_pre_seizure_data = pd.concat(dfs).reset_index(drop=True)\n",
    "\n",
    "# Drop rows with any missing values\n",
    "all_pre_seizure_data = all_pre_seizure_data.dropna()\n",
    "\n",
    "# Now standardize the relevant columns (synchrony_broadband, ad_ratio, emu_minute)\n",
    "scaler = StandardScaler()\n",
    "all_pre_seizure_data[[\"synchrony_broadband\", \"ad_ratio\", \"emu_minute\"]] = (\n",
    "    scaler.fit_transform(\n",
    "        all_pre_seizure_data[[\"synchrony_broadband\", \"ad_ratio\", \"emu_minute\"]]\n",
    "    )\n",
    ")\n",
    "\n",
    "# Prepare the mixed model using the filtered and standardized data\n",
    "model = smf.mixedlm(\n",
    "    \"med_sum_no_lorazepam_raw ~ synchrony_broadband + emu_minute + ad_ratio\",\n",
    "    all_pre_seizure_data,\n",
    "    groups=all_pre_seizure_data[\"patient_hup_id\"],\n",
    ")\n",
    "\n",
    "# Fit the model\n",
    "result = model.fit()\n",
    "print(result.summary())"
   ]
  },
  {
   "cell_type": "code",
   "execution_count": 8,
   "metadata": {},
   "outputs": [
    {
     "data": {
      "image/png": "[encoded data removed]",
      "text/plain": [
       "<Figure size 800x500 with 1 Axes>"
      ]
     },
     "metadata": {},
     "output_type": "display_data"
    }
   ],
   "source": [
    "# Extracting the coefficients, confidence intervals, and standard errors\n",
    "params = result.params\n",
    "conf_int = result.conf_int()\n",
    "errors = result.bse\n",
    "\n",
    "# Coefficients and their confidence intervals\n",
    "coef_names = params.index\n",
    "coef_values = params.values\n",
    "lower_ci = conf_int[0].values\n",
    "upper_ci = conf_int[1].values\n",
    "\n",
    "# Create the plot\n",
    "fig, ax = plt.subplots(figsize=(8, 5))\n",
    "\n",
    "# Plot the coefficients as points\n",
    "ax.errorbar(\n",
    "    coef_values,\n",
    "    coef_names,\n",
    "    xerr=[\n",
    "        np.array(coef_values) - np.array(lower_ci),\n",
    "        np.array(upper_ci) - np.array(coef_values),\n",
    "    ],\n",
    "    fmt=\"o\",\n",
    "    color=\"black\",\n",
    "    ecolor=\"gray\",\n",
    "    elinewidth=2,\n",
    "    capsize=4,\n",
    ")\n",
    "\n",
    "# Add a vertical line at x=0 for reference\n",
    "ax.axvline(x=0, color=\"red\", linestyle=\"--\")\n",
    "\n",
    "# Labeling the plot\n",
    "ax.set_xlabel(\"Coefficient Value\")\n",
    "ax.set_title(\"Coefficient Plot (Forest Plot)\")\n",
    "\n",
    "# Show plot\n",
    "plt.tight_layout()\n",
    "plt.show()"
   ]
  },
  {
   "cell_type": "markdown",
   "metadata": {},
   "source": [
    "## All data"
   ]
  },
  {
   "cell_type": "code",
   "execution_count": 9,
   "metadata": {},
   "outputs": [],
   "source": [
    "# Prepare dataframes for all patients\n",
    "dfs = []\n",
    "for patient_hup_id in completed_hup_ids:\n",
    "    patient_features_df = pd.read_csv(\n",
    "        os.path.join(TABLES_PATH, f\"HUP_{str(patient_hup_id)}.csv\")\n",
    "    )\n",
    "\n",
    "    # Only keep emu_minute, synchrony_broadband,med_sum_no_lorazepam_raw, and had_seizure columns\n",
    "    patient_features_df = patient_features_df[\n",
    "        [\n",
    "            \"emu_minute\",\n",
    "            \"synchrony_broadband\",\n",
    "            \"med_sum_no_lorazepam_raw\",\n",
    "            \"time_since_last_seizure\",\n",
    "            \"ad_ratio\",\n",
    "        ]\n",
    "    ]\n",
    "\n",
    "    # Add a column for patient_hup_id\n",
    "    patient_features_df[\"patient_hup_id\"] = patient_hup_id\n",
    "    dfs.append(patient_features_df)\n",
    "\n",
    "\n",
    "# Combine them into one dataframe\n",
    "all_data = pd.concat(dfs).reset_index(drop=True)\n",
    "# drop rows with any missing values\n",
    "all_data = all_data.dropna()\n",
    "# Reset the index\n",
    "all_data = all_data.reset_index(drop=True)"
   ]
  },
  {
   "cell_type": "code",
   "execution_count": 10,
   "metadata": {},
   "outputs": [
    {
     "name": "stdout",
     "output_type": "stream",
     "text": [
      "                Mixed Linear Model Regression Results\n",
      "======================================================================\n",
      "Model:            MixedLM Dependent Variable: med_sum_no_lorazepam_raw\n",
      "No. Observations: 222360  Method:             REML                    \n",
      "No. Groups:       68      Scale:              0.0299                  \n",
      "Min. group size:  2       Log-Likelihood:     74286.6000              \n",
      "Max. group size:  9111    Converged:          Yes                     \n",
      "Mean group size:  3270.0                                              \n",
      "----------------------------------------------------------------------\n",
      "                           Coef.  Std.Err.    z    P>|z| [0.025 0.975]\n",
      "----------------------------------------------------------------------\n",
      "Intercept                   0.289    0.028  10.299 0.000  0.234  0.344\n",
      "synchrony_broadband        -0.117    0.006 -20.302 0.000 -0.128 -0.106\n",
      "time_since_last_seizure    -0.000    0.000 -22.043 0.000 -0.000 -0.000\n",
      "emu_minute                  0.000    0.000  26.732 0.000  0.000  0.000\n",
      "ad_ratio                   -0.001    0.000  -4.308 0.000 -0.002 -0.001\n",
      "Group Var                   0.053    0.051                            \n",
      "======================================================================\n",
      "\n"
     ]
    }
   ],
   "source": [
    "# Prepare the model\n",
    "model = smf.mixedlm(\n",
    "    \"med_sum_no_lorazepam_raw ~ synchrony_broadband + time_since_last_seizure + emu_minute + ad_ratio\",\n",
    "    all_data,\n",
    "    groups=all_data[\"patient_hup_id\"],\n",
    ")\n",
    "\n",
    "# Fit the model\n",
    "result = model.fit()\n",
    "print(result.summary())\n",
    "\n",
    "# print the r^2 value\n",
    "# print(\"r^2 value:\", result.rsquared)"
   ]
  },
  {
   "cell_type": "code",
   "execution_count": 11,
   "metadata": {},
   "outputs": [
    {
     "name": "stdout",
     "output_type": "stream",
     "text": [
      "Marginal R²: 0.34600239764815865\n"
     ]
    }
   ],
   "source": [
    "import numpy as np\n",
    "\n",
    "# Get the fitted values based solely on fixed effects\n",
    "# (For a linear model, these are the predictions; ensure that random effects are excluded)\n",
    "fixed_effects_pred = result.fittedvalues\n",
    "var_fixed = np.var(fixed_effects_pred)\n",
    "\n",
    "# Extract the random effects variance (for a random intercept model, this is a single value)\n",
    "# Note: If your model has more complex random structures, you may need to sum across components\n",
    "var_random = result.cov_re.iloc[0, 0]\n",
    "\n",
    "# Get the residual variance (scale parameter)\n",
    "var_residual = result.scale\n",
    "\n",
    "# Compute marginal R²\n",
    "marginal_R2 = var_fixed / (var_fixed + var_random + var_residual)\n",
    "print(\"Marginal R²:\", marginal_R2)"
   ]
  },
  {
   "cell_type": "code",
   "execution_count": 12,
   "metadata": {},
   "outputs": [
    {
     "name": "stdout",
     "output_type": "stream",
     "text": [
      "                   feature       VIF\n",
      "0                    const  6.340126\n",
      "1      synchrony_broadband  1.001905\n",
      "2  time_since_last_seizure  1.379494\n",
      "3               emu_minute  1.382592\n",
      "4                 ad_ratio  1.002397\n"
     ]
    }
   ],
   "source": [
    "import statsmodels.api as sm\n",
    "from statsmodels.stats.outliers_influence import variance_inflation_factor\n",
    "\n",
    "# Create a dataframe with the predictors\n",
    "X = all_data[\n",
    "    [\"synchrony_broadband\", \"time_since_last_seizure\", \"emu_minute\", \"ad_ratio\"]\n",
    "]\n",
    "# Add an intercept term\n",
    "X = sm.add_constant(X)\n",
    "\n",
    "# Calculate VIF for each feature\n",
    "vif_data = pd.DataFrame()\n",
    "vif_data[\"feature\"] = X.columns\n",
    "vif_data[\"VIF\"] = [variance_inflation_factor(X.values, i) for i in range(X.shape[1])]\n",
    "print(vif_data)"
   ]
  },
  {
   "cell_type": "code",
   "execution_count": 13,
   "metadata": {},
   "outputs": [
    {
     "data": {
      "text/plain": [
       "array([ 2.88600588e-01, -1.16801318e-01, -5.92810757e-06,  4.76830166e-06,\n",
       "       -1.40795176e-03,  1.77022785e+00])"
      ]
     },
     "execution_count": 13,
     "metadata": {},
     "output_type": "execute_result"
    }
   ],
   "source": [
    "result.params.values"
   ]
  },
  {
   "cell_type": "markdown",
   "metadata": {},
   "source": [
    "### With standarization"
   ]
  },
  {
   "cell_type": "code",
   "execution_count": 14,
   "metadata": {},
   "outputs": [
    {
     "name": "stdout",
     "output_type": "stream",
     "text": [
      "                Mixed Linear Model Regression Results\n",
      "======================================================================\n",
      "Model:            MixedLM Dependent Variable: med_sum_no_lorazepam_raw\n",
      "No. Observations: 222360  Method:             REML                    \n",
      "No. Groups:       68      Scale:              0.0299                  \n",
      "Min. group size:  2       Log-Likelihood:     74301.5488              \n",
      "Max. group size:  9111    Converged:          Yes                     \n",
      "Mean group size:  3270.0                                              \n",
      "----------------------------------------------------------------------\n",
      "                           Coef.  Std.Err.    z    P>|z| [0.025 0.975]\n",
      "----------------------------------------------------------------------\n",
      "Intercept                   0.310    0.028  11.092 0.000  0.255  0.365\n",
      "synchrony_broadband        -0.019    0.001 -20.302 0.000 -0.021 -0.017\n",
      "time_since_last_seizure    -0.017    0.001 -22.043 0.000 -0.019 -0.016\n",
      "emu_minute                  0.027    0.001  26.732 0.000  0.025  0.029\n",
      "ad_ratio                   -0.002    0.000  -4.308 0.000 -0.002 -0.001\n",
      "Group Var                   0.053    0.051                            \n",
      "======================================================================\n",
      "\n"
     ]
    }
   ],
   "source": [
    "from sklearn.preprocessing import StandardScaler\n",
    "\n",
    "# Prepare dataframes for all patients\n",
    "dfs = []\n",
    "for patient_hup_id in completed_hup_ids:\n",
    "    patient_features_df = pd.read_csv(\n",
    "        os.path.join(TABLES_PATH, f\"HUP_{str(patient_hup_id)}.csv\")\n",
    "    )\n",
    "\n",
    "    # Only keep emu_minute, synchrony_broadband, med_sum_no_lorazepam_raw, and had_seizure columns\n",
    "    patient_features_df = patient_features_df[\n",
    "        [\n",
    "            \"emu_minute\",\n",
    "            \"synchrony_broadband\",\n",
    "            \"med_sum_no_lorazepam_raw\",\n",
    "            \"time_since_last_seizure\",\n",
    "            \"ad_ratio\",\n",
    "        ]\n",
    "    ]\n",
    "\n",
    "    # Add a column for patient_hup_id\n",
    "    patient_features_df[\"patient_hup_id\"] = patient_hup_id\n",
    "    dfs.append(patient_features_df)\n",
    "\n",
    "# Combine them into one dataframe\n",
    "all_data = pd.concat(dfs).reset_index(drop=True)\n",
    "\n",
    "# Drop rows with any missing values\n",
    "all_data = all_data.dropna()\n",
    "\n",
    "# Reset the index\n",
    "all_data = all_data.reset_index(drop=True)\n",
    "\n",
    "# Standardize continuous variables\n",
    "scaler = StandardScaler()\n",
    "\n",
    "# Standardize 'synchrony_broadband', 'time_since_last_seizure', 'emu_minute', and 'ad_ratio'\n",
    "all_data[\n",
    "    [\"synchrony_broadband\", \"time_since_last_seizure\", \"emu_minute\", \"ad_ratio\"]\n",
    "] = scaler.fit_transform(\n",
    "    all_data[\n",
    "        [\"synchrony_broadband\", \"time_since_last_seizure\", \"emu_minute\", \"ad_ratio\"]\n",
    "    ]\n",
    ")\n",
    "\n",
    "# Prepare the model\n",
    "model = smf.mixedlm(\n",
    "    \"med_sum_no_lorazepam_raw ~ synchrony_broadband + time_since_last_seizure + emu_minute + ad_ratio\",\n",
    "    all_data,\n",
    "    groups=all_data[\"patient_hup_id\"],\n",
    ")\n",
    "\n",
    "# Fit the model\n",
    "result = model.fit()\n",
    "print(result.summary())"
   ]
  },
  {
   "cell_type": "code",
   "execution_count": 15,
   "metadata": {},
   "outputs": [
    {
     "name": "stdout",
     "output_type": "stream",
     "text": [
      "Marginal R²: 0.3460023976466922\n"
     ]
    }
   ],
   "source": [
    "import numpy as np\n",
    "\n",
    "# Get the fitted values based solely on fixed effects\n",
    "# (For a linear model, these are the predictions; ensure that random effects are excluded)\n",
    "fixed_effects_pred = result.fittedvalues\n",
    "var_fixed = np.var(fixed_effects_pred)\n",
    "\n",
    "# Extract the random effects variance (for a random intercept model, this is a single value)\n",
    "# Note: If your model has more complex random structures, you may need to sum across components\n",
    "var_random = result.cov_re.iloc[0, 0]\n",
    "\n",
    "# Get the residual variance (scale parameter)\n",
    "var_residual = result.scale\n",
    "\n",
    "# Compute marginal R²\n",
    "marginal_R2 = var_fixed / (var_fixed + var_random + var_residual)\n",
    "print(\"Marginal R²:\", marginal_R2)"
   ]
  },
  {
   "cell_type": "markdown",
   "metadata": {},
   "source": [
    "## Figure 3 (A) - Coefficients of Linear Mixed Model"
   ]
  },
  {
   "cell_type": "code",
   "execution_count": 16,
   "metadata": {},
   "outputs": [
    {
     "data": {
      "image/png": "[encoded data removed]",
      "text/plain": [
       "<Figure size 500x300 with 1 Axes>"
      ]
     },
     "metadata": {},
     "output_type": "display_data"
    }
   ],
   "source": [
    "# Drop Group Var and Intercept from the results\n",
    "coefficients = result.params.drop([\"Group Var\", \"Intercept\"]).values\n",
    "predictors = result.params.drop([\"Group Var\", \"Intercept\"]).index\n",
    "std_errors = result.bse.drop([\"Group Var\", \"Intercept\"]).values\n",
    "\n",
    "# For a 95% confidence interval, z value is approximately 1.96\n",
    "z_value = 1.96\n",
    "conf_intervals = [\n",
    "    (coef - z_value * se, coef + z_value * se)\n",
    "    for coef, se in zip(coefficients, std_errors)\n",
    "]\n",
    "\n",
    "# Calculate lower and upper errors for each coefficient\n",
    "lower_errors = [\n",
    "    coef - ci_low for coef, (ci_low, ci_high) in zip(coefficients, conf_intervals)\n",
    "]\n",
    "upper_errors = [\n",
    "    ci_high - coef for coef, (ci_low, ci_high) in zip(coefficients, conf_intervals)\n",
    "]\n",
    "\n",
    "\n",
    "# Create the coefficient plot\n",
    "plt.figure(figsize=(5, 3))\n",
    "for idx, (coef, predictor) in enumerate(zip(coefficients, predictors)):\n",
    "    plt.errorbar(\n",
    "        coef,\n",
    "        idx,\n",
    "        xerr=[[lower_errors[idx]], [upper_errors[idx]]],\n",
    "        fmt=\"o\",\n",
    "        color=\"blue\",\n",
    "        ecolor=\"gray\",\n",
    "        elinewidth=2,\n",
    "        capsize=5,\n",
    "    )\n",
    "\n",
    "# Formatting\n",
    "plt.yticks(range(len(predictors)), predictors)\n",
    "plt.axvline(0, color=\"red\", linestyle=\"--\")  # Add a vertical line for 0\n",
    "plt.xlabel(\"Coefficient Value\")\n",
    "plt.ylabel(\"Predictors\")\n",
    "# plt.title(\"Mixed Model Coefficients with 95% Confidence Intervals\")\n",
    "plt.tight_layout()\n",
    "plt.show()"
   ]
  },
  {
   "cell_type": "code",
   "execution_count": null,
   "metadata": {},
   "outputs": [],
   "source": []
  },
  {
   "cell_type": "markdown",
   "metadata": {},
   "source": [
    "## Figure 3 (B) - Relative Importance from Dominance Analysis"
   ]
  },
  {
   "cell_type": "markdown",
   "metadata": {},
   "source": [
    "#### Without standardization"
   ]
  },
  {
   "cell_type": "code",
   "execution_count": 17,
   "metadata": {},
   "outputs": [
    {
     "data": {
      "image/png": "[encoded data removed]",
      "text/plain": [
       "<Figure size 600x300 with 1 Axes>"
      ]
     },
     "metadata": {},
     "output_type": "display_data"
    }
   ],
   "source": [
    "# Number of bootstraps\n",
    "n_boots = 1000\n",
    "\n",
    "# List of predictors\n",
    "predictors = [\n",
    "    \"synchrony_broadband\",\n",
    "    \"time_since_last_seizure\",\n",
    "    \"emu_minute\",\n",
    "    \"ad_ratio\",\n",
    "]\n",
    "coefficients = {pred: [] for pred in predictors}\n",
    "\n",
    "for _ in range(n_boots):\n",
    "    # Sample data with replacement\n",
    "    boot_data = all_data.sample(frac=1, replace=True)\n",
    "\n",
    "    # Fit model on bootstrap sample\n",
    "    model = smf.mixedlm(\n",
    "        \"med_sum_no_lorazepam_raw ~ synchrony_broadband + time_since_last_seizure + emu_minute + ad_ratio\",\n",
    "        boot_data,\n",
    "        groups=boot_data[\"patient_hup_id\"],\n",
    "    )\n",
    "    result = model.fit()\n",
    "\n",
    "    # Store coefficients\n",
    "    for pred in predictors:\n",
    "        coefficients[pred].append(result.params[pred])\n",
    "\n",
    "# Calculate variability (standard deviation) of coefficients for each predictor\n",
    "relative_importance = {pred: np.std(coefficients[pred]) for pred in predictors}\n",
    "\n",
    "# Compute standard error for each predictor\n",
    "standard_errors = {\n",
    "    pred: std / np.sqrt(n_boots) for pred, std in relative_importance.items()\n",
    "}\n",
    "\n",
    "# Sort the predictors based on relative importance\n",
    "sorted_predictors = sorted(\n",
    "    relative_importance, key=relative_importance.get, reverse=True\n",
    ")\n",
    "\n",
    "# Visualization\n",
    "plt.figure(figsize=(6, 3))\n",
    "plt.bar(\n",
    "    sorted_predictors,\n",
    "    [relative_importance[pred] for pred in sorted_predictors],\n",
    "    yerr=[standard_errors[pred] for pred in sorted_predictors],\n",
    "    capsize=10,\n",
    ")\n",
    "plt.ylabel(\"Standard Deviation of Coefficients\")\n",
    "plt.title(\"Relative Importance of Predictors with Error Bars\")\n",
    "plt.xticks(rotation=45)  # Rotate predictor names for better readability\n",
    "plt.show()"
   ]
  },
  {
   "cell_type": "markdown",
   "metadata": {},
   "source": [
    "#### With standardization"
   ]
  },
  {
   "cell_type": "code",
   "execution_count": 18,
   "metadata": {},
   "outputs": [
    {
     "data": {
      "image/png": "[encoded data removed]",
      "text/plain": [
       "<Figure size 600x300 with 1 Axes>"
      ]
     },
     "metadata": {},
     "output_type": "display_data"
    }
   ],
   "source": [
    "from sklearn.preprocessing import StandardScaler\n",
    "\n",
    "# Number of bootstraps\n",
    "n_boots = 1000\n",
    "\n",
    "# List of predictors\n",
    "predictors = [\n",
    "    \"synchrony_broadband\",\n",
    "    \"time_since_last_seizure\",\n",
    "    \"emu_minute\",\n",
    "    \"ad_ratio\",\n",
    "]\n",
    "coefficients = {pred: [] for pred in predictors}\n",
    "\n",
    "# Standardize the data before bootstrapping\n",
    "scaler = StandardScaler()\n",
    "all_data[\n",
    "    [\"synchrony_broadband\", \"time_since_last_seizure\", \"emu_minute\", \"ad_ratio\"]\n",
    "] = scaler.fit_transform(\n",
    "    all_data[\n",
    "        [\"synchrony_broadband\", \"time_since_last_seizure\", \"emu_minute\", \"ad_ratio\"]\n",
    "    ]\n",
    ")\n",
    "\n",
    "for _ in range(n_boots):\n",
    "    # Sample data with replacement\n",
    "    boot_data = all_data.sample(frac=1, replace=True)\n",
    "\n",
    "    # Fit model on bootstrap sample\n",
    "    model = smf.mixedlm(\n",
    "        \"med_sum_no_lorazepam_raw ~ synchrony_broadband + time_since_last_seizure + emu_minute + ad_ratio\",\n",
    "        boot_data,\n",
    "        groups=boot_data[\"patient_hup_id\"],\n",
    "    )\n",
    "    result = model.fit()\n",
    "\n",
    "    # Store coefficients\n",
    "    for pred in predictors:\n",
    "        coefficients[pred].append(result.params[pred])\n",
    "\n",
    "# Calculate variability (standard deviation) of coefficients for each predictor\n",
    "relative_importance = {pred: np.std(coefficients[pred]) for pred in predictors}\n",
    "\n",
    "# Compute standard error for each predictor\n",
    "standard_errors = {\n",
    "    pred: std / np.sqrt(n_boots) for pred, std in relative_importance.items()\n",
    "}\n",
    "\n",
    "# Sort the predictors based on relative importance\n",
    "sorted_predictors = sorted(\n",
    "    relative_importance, key=relative_importance.get, reverse=True\n",
    ")\n",
    "\n",
    "# Visualization\n",
    "plt.figure(figsize=(6, 3))\n",
    "plt.bar(\n",
    "    sorted_predictors,\n",
    "    [relative_importance[pred] for pred in sorted_predictors],\n",
    "    yerr=[standard_errors[pred] for pred in sorted_predictors],\n",
    "    capsize=10,\n",
    ")\n",
    "plt.ylabel(\"Standard Deviation of Coefficients\")\n",
    "plt.title(\"Relative Importance of Predictors with Error Bars\")\n",
    "plt.xticks(rotation=45)  # Rotate predictor names for better readability\n",
    "plt.show()"
   ]
  },
  {
   "cell_type": "code",
   "execution_count": null,
   "metadata": {},
   "outputs": [
    {
     "name": "stdout",
     "output_type": "stream",
     "text": [
      "Predictor: synchrony_broadband, Height: 0.0012, Error Bar: 0.0000\n",
      "Predictor: time_since_last_seizure, Height: 0.0010, Error Bar: 0.0000\n",
      "Predictor: emu_minute, Height: 0.0009, Error Bar: 0.0000\n",
      "Predictor: ad_ratio, Height: 0.0004, Error Bar: 0.0000\n",
      "                 Predictor    Height  Error Bar\n",
      "0      synchrony_broadband  0.001175   0.000037\n",
      "1  time_since_last_seizure  0.000956   0.000030\n",
      "2               emu_minute  0.000948   0.000030\n",
      "3                 ad_ratio  0.000390   0.000012\n"
     ]
    }
   ],
   "source": [
    "# After computing relative_importance, standard_errors, and sorted_predictors...\n",
    "\n",
    "# Extract the bar heights and error values based on the sorted order\n",
    "bar_labels = sorted_predictors  # predictors sorted by relative importance\n",
    "bar_heights = [relative_importance[pred] for pred in sorted_predictors]\n",
    "error_values = [standard_errors[pred] for pred in sorted_predictors]\n",
    "\n",
    "# Option 1: Print the extracted results\n",
    "for label, height, error in zip(bar_labels, bar_heights, error_values):\n",
    "    print(f\"Predictor: {label}, Height: {height:.4f}, Error Bar: {error:.4f}\")\n",
    "\n",
    "# Option 2: Create a DataFrame for further analysis or exporting\n",
    "import pandas as pd\n",
    "\n",
    "results_df = pd.DataFrame(\n",
    "    {\"Predictor\": bar_labels, \"Height\": bar_heights, \"Error Bar\": error_values}\n",
    ")\n",
    "print(results_df)"
   ]
  }
 ],
 "metadata": {
  "kernelspec": {
   "display_name": "base",
   "language": "python",
   "name": "python3"
  },
  "language_info": {
   "codemirror_mode": {
    "name": "ipython",
    "version": 3
   },
   "file_extension": ".py",
   "mimetype": "text/x-python",
   "name": "python",
   "nbconvert_exporter": "python",
   "pygments_lexer": "ipython3",
   "version": "3.9.18"
  }
 },
 "nbformat": 4,
 "nbformat_minor": 2
}
