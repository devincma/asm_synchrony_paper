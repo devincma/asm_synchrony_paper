{
 "cells": [
  {
   "cell_type": "code",
   "execution_count": 4,
   "metadata": {},
   "outputs": [
    {
     "name": "stdout",
     "output_type": "stream",
     "text": [
      "Original function time: 0.00744 seconds\n",
      "Optimized function time: 0.22901 seconds\n"
     ]
    }
   ],
   "source": [
    "import numpy as np\n",
    "import numba\n",
    "import timeit\n",
    "\n",
    "\n",
    "# Original function\n",
    "def original_find_peaks(signal):\n",
    "    ds = np.diff(signal, axis=0)\n",
    "    ds = np.insert(ds, 0, ds[0])\n",
    "    mask = np.argwhere(np.abs(ds[1:]) <= 1e-3).squeeze()\n",
    "    ds[mask] = ds[mask - 1]\n",
    "    ds = np.sign(ds)\n",
    "    ds = np.diff(ds)\n",
    "    ds = np.insert(ds, 0, ds[0])\n",
    "    t = np.argwhere(ds > 0)\n",
    "    p = np.argwhere(ds < 0)\n",
    "    return p, t\n",
    "\n",
    "\n",
    "# Optimized function with numba\n",
    "@numba.jit(nopython=True)\n",
    "def optimized_find_peaks(signal):\n",
    "    n = len(signal)\n",
    "    ds = np.empty(n, dtype=signal.dtype)\n",
    "    ds[0] = 0\n",
    "    for i in range(1, n):\n",
    "        ds[i] = signal[i] - signal[i - 1]\n",
    "\n",
    "    mask = np.abs(ds) <= 1e-3\n",
    "    for i in range(n):\n",
    "        if mask[i]:\n",
    "            ds[i] = ds[i - 1]\n",
    "\n",
    "    for i in range(1, n):\n",
    "        ds[i] = np.sign(ds[i])\n",
    "    ds[0] = ds[1]\n",
    "\n",
    "    changes = np.empty(n - 1, dtype=ds.dtype)\n",
    "    for i in range(1, n):\n",
    "        changes[i - 1] = ds[i] - ds[i - 1]\n",
    "\n",
    "    t = np.where(changes > 0)[0]\n",
    "    p = np.where(changes < 0)[0]\n",
    "    return p, t\n",
    "\n",
    "\n",
    "def time_functions():\n",
    "    signal = np.random.rand(1000)  # Adjust size as needed\n",
    "\n",
    "    original_time = timeit.timeit(lambda: original_find_peaks(signal), number=100)\n",
    "    optimized_time = timeit.timeit(lambda: optimized_find_peaks(signal), number=100)\n",
    "\n",
    "    print(f\"Original function time: {original_time:.5f} seconds\")\n",
    "    print(f\"Optimized function time: {optimized_time:.5f} seconds\")\n",
    "\n",
    "\n",
    "time_functions()"
   ]
  },
  {
   "cell_type": "code",
   "execution_count": null,
   "metadata": {},
   "outputs": [],
   "source": []
  }
 ],
 "metadata": {
  "kernelspec": {
   "display_name": "base",
   "language": "python",
   "name": "python3"
  },
  "language_info": {
   "codemirror_mode": {
    "name": "ipython",
    "version": 3
   },
   "file_extension": ".py",
   "mimetype": "text/x-python",
   "name": "python",
   "nbconvert_exporter": "python",
   "pygments_lexer": "ipython3",
   "version": "3.11.4"
  },
  "orig_nbformat": 4
 },
 "nbformat": 4,
 "nbformat_minor": 2
}
