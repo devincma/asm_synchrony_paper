{
 "cells": [
  {
   "cell_type": "code",
   "execution_count": null,
   "metadata": {},
   "outputs": [],
   "source": [
    "import numpy as np\n",
    "import pandas as pd"
   ]
  },
  {
   "cell_type": "code",
   "execution_count": null,
   "metadata": {},
   "outputs": [],
   "source": [
    "# import csv file from f\"../../Public/spikes/v2/HUP_{patient_hup_id}.csv\"\n",
    "patient_hup_id = 138\n",
    "df = pd.read_csv(f\"../../Public/spikes/v2/HUP_{patient_hup_id}.csv\")\n",
    "# df = pd.read_csv(f\"../../Public/spikes/v1_August_29/HUP_{patient_hup_id}.csv\")"
   ]
  },
  {
   "cell_type": "code",
   "execution_count": null,
   "metadata": {},
   "outputs": [],
   "source": [
    "# Drop peak_time_seconds column\n",
    "df = df[df.columns.drop(list(df.filter(regex=\"peak_time_seconds\")))]\n",
    "# Drop is_soz column\n",
    "df = df[df.columns.drop(list(df.filter(regex=\"is_soz\")))]\n",
    "# Drop inter_spike_interval_samples\n",
    "df = df[df.columns.drop(list(df.filter(regex=\"inter_spike_interval_samples\")))]"
   ]
  },
  {
   "cell_type": "code",
   "execution_count": null,
   "metadata": {},
   "outputs": [],
   "source": [
    "# Convert peak_time_microseconds from microseconds to seconds\n",
    "df[\"peak_time_seconds\"] = df[\"peak_time_microseconds\"] / 1000000\n",
    "df"
   ]
  },
  {
   "cell_type": "code",
   "execution_count": null,
   "metadata": {},
   "outputs": [],
   "source": [
    "# find the rows where the peak_time_seconds is between 24666,24726\n",
    "window = df[(df[\"peak_time_seconds\"] >= 24666) & (df[\"peak_time_seconds\"] <= 24726)]"
   ]
  },
  {
   "cell_type": "code",
   "execution_count": null,
   "metadata": {},
   "outputs": [],
   "source": [
    "window = df[(df[\"peak_time_seconds\"] >= 43362) & (df[\"peak_time_seconds\"] <= 43422)]"
   ]
  },
  {
   "cell_type": "code",
   "execution_count": null,
   "metadata": {},
   "outputs": [],
   "source": [
    "window = df[(df[\"peak_time_seconds\"] >= 4938) & (df[\"peak_time_seconds\"] <= 4998)]"
   ]
  },
  {
   "cell_type": "code",
   "execution_count": null,
   "metadata": {},
   "outputs": [],
   "source": [
    "window = df[(df[\"peak_time_seconds\"] >= 38464) & (df[\"peak_time_seconds\"] <= 38524)]"
   ]
  },
  {
   "cell_type": "code",
   "execution_count": null,
   "metadata": {},
   "outputs": [],
   "source": [
    "window.shape"
   ]
  },
  {
   "cell_type": "code",
   "execution_count": null,
   "metadata": {},
   "outputs": [],
   "source": [
    "window"
   ]
  },
  {
   "cell_type": "code",
   "execution_count": null,
   "metadata": {},
   "outputs": [],
   "source": []
  }
 ],
 "metadata": {
  "kernelspec": {
   "display_name": "base",
   "language": "python",
   "name": "python3"
  },
  "language_info": {
   "codemirror_mode": {
    "name": "ipython",
    "version": 3
   },
   "file_extension": ".py",
   "mimetype": "text/x-python",
   "name": "python",
   "nbconvert_exporter": "python",
   "pygments_lexer": "ipython3",
   "version": "3.11.4"
  },
  "orig_nbformat": 4
 },
 "nbformat": 4,
 "nbformat_minor": 2
}
