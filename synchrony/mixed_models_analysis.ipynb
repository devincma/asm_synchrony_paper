{
 "cells": [
  {
   "cell_type": "code",
   "execution_count": 1,
   "metadata": {},
   "outputs": [],
   "source": [
    "import os\n",
    "import numpy as np\n",
    "import pandas as pd\n",
    "import seaborn as sns\n",
    "import matplotlib.pyplot as plt\n",
    "import statsmodels.formula.api as smf"
   ]
  },
  {
   "cell_type": "code",
   "execution_count": 2,
   "metadata": {},
   "outputs": [],
   "source": [
    "TABLES_DIRECTORY = \"../../Data/giant_new_tables\"\n",
    "\n",
    "# Set up the seaborn style\n",
    "sns.set_style(\"whitegrid\")"
   ]
  },
  {
   "cell_type": "code",
   "execution_count": 3,
   "metadata": {},
   "outputs": [
    {
     "name": "stdout",
     "output_type": "stream",
     "text": [
      "[138, 139, 141, 142, 143, 144, 145, 146, 150, 151, 154, 155, 157, 158, 160, 161, 162, 163, 164, 165, 166, 169, 170, 171, 172, 173, 174, 175, 177, 178, 180, 182, 184, 185, 186, 187, 188, 189, 190, 191, 192, 196, 199, 202, 204, 205, 206, 207, 210, 217, 219, 221, 223, 225]\n"
     ]
    },
    {
     "data": {
      "text/plain": [
       "54"
      ]
     },
     "execution_count": 3,
     "metadata": {},
     "output_type": "execute_result"
    }
   ],
   "source": [
    "def get_patient_hup_ids(directory):\n",
    "    # List all files in the directory\n",
    "    files = os.listdir(directory)\n",
    "\n",
    "    # Filter out files based on the given pattern and extract patient_hup_id as integers\n",
    "    patient_hup_ids = [\n",
    "        int(f.split(\"_\")[1].split(\".\")[0])\n",
    "        for f in files\n",
    "        if f.startswith(\"HUP_\") and f.endswith(\".npy\")\n",
    "    ]\n",
    "\n",
    "    return patient_hup_ids\n",
    "\n",
    "\n",
    "directory = \"../../Data/synchrony/all/broadband/\"\n",
    "completed_hup_ids = get_patient_hup_ids(directory)\n",
    "completed_hup_ids.sort()\n",
    "print(completed_hup_ids)\n",
    "len(completed_hup_ids)"
   ]
  },
  {
   "cell_type": "code",
   "execution_count": 4,
   "metadata": {},
   "outputs": [],
   "source": [
    "def get_relevant_data(df, hours_before=12):\n",
    "    # Find the first seizure time\n",
    "    first_seizure_time = df[df[\"had_seizure\"] >= 1][\"emu_minute\"].min()\n",
    "\n",
    "    # Find the last seizure time\n",
    "    last_seizure_time = df[df[\"had_seizure\"] >= 1][\"emu_minute\"].max()\n",
    "\n",
    "    # Calculate the start time for the 12-hour period before the first seizure\n",
    "    start_time = (\n",
    "        first_seizure_time - 2 * hours_before * 30\n",
    "    )  # Since each row represents 2 minutes\n",
    "\n",
    "    # Select the data for the period before the first seizure\n",
    "    pre_seizure_data = df[\n",
    "        (df[\"emu_minute\"] >= start_time) & (df[\"emu_minute\"] < first_seizure_time)\n",
    "    ]\n",
    "\n",
    "    # Select the data after the last seizure\n",
    "    post_seizure_data = df[df[\"emu_minute\"] > last_seizure_time]\n",
    "\n",
    "    # Return the combined data\n",
    "    return pd.concat([pre_seizure_data, post_seizure_data])\n",
    "\n",
    "\n",
    "# Prepare dataframes for all patients\n",
    "dfs = []\n",
    "for patient_hup_id in completed_hup_ids:\n",
    "    patient_features_df = pd.read_csv(\n",
    "        os.path.join(TABLES_DIRECTORY, f\"HUP_{str(patient_hup_id)}.csv\")\n",
    "    )\n",
    "\n",
    "    # Only keep emu_minute, synchrony_broadband,med_sum_no_lorazepam_raw, and had_seizure columns\n",
    "    patient_features_df = patient_features_df[\n",
    "        [\n",
    "            \"emu_minute\",\n",
    "            \"synchrony_broadband\",\n",
    "            \"med_sum_no_lorazepam_raw\",\n",
    "            \"had_seizure\",\n",
    "            \"time_since_last_seizure\",\n",
    "            \"ad_ratio\",\n",
    "        ]\n",
    "    ]\n",
    "\n",
    "    # Add a column for patient_hup_id\n",
    "    patient_features_df[\"patient_hup_id\"] = patient_hup_id\n",
    "\n",
    "    # dfs.append(get_relevant_data(patient_features_df))\n",
    "    dfs.append(patient_features_df)\n",
    "\n",
    "\n",
    "# Combine them into one dataframe\n",
    "all_data = pd.concat(dfs).reset_index(drop=True)\n",
    "# drop rows with any missing values\n",
    "all_data = all_data.dropna()\n",
    "# Reset the index\n",
    "all_data = all_data.reset_index(drop=True)"
   ]
  },
  {
   "cell_type": "code",
   "execution_count": 5,
   "metadata": {},
   "outputs": [
    {
     "name": "stdout",
     "output_type": "stream",
     "text": [
      "                Mixed Linear Model Regression Results\n",
      "======================================================================\n",
      "Model:            MixedLM Dependent Variable: med_sum_no_lorazepam_raw\n",
      "No. Observations: 155412  Method:             REML                    \n",
      "No. Groups:       47      Scale:              0.0307                  \n",
      "Min. group size:  625     Log-Likelihood:     49855.7763              \n",
      "Max. group size:  9111    Converged:          Yes                     \n",
      "Mean group size:  3306.6                                              \n",
      "----------------------------------------------------------------------\n",
      "                           Coef.  Std.Err.    z    P>|z| [0.025 0.975]\n",
      "----------------------------------------------------------------------\n",
      "Intercept                   0.363    0.034  10.677 0.000  0.296  0.429\n",
      "synchrony_broadband        -0.375    0.012 -30.205 0.000 -0.400 -0.351\n",
      "time_since_last_seizure    -0.000    0.000 -11.808 0.000 -0.000 -0.000\n",
      "emu_minute                  0.000    0.000  16.239 0.000  0.000  0.000\n",
      "ad_ratio                   -0.004    0.000 -10.142 0.000 -0.005 -0.003\n",
      "had_seizure                -0.020    0.008  -2.501 0.012 -0.036 -0.004\n",
      "Group Var                   0.054    0.062                            \n",
      "======================================================================\n",
      "\n"
     ]
    }
   ],
   "source": [
    "# Prepare the model\n",
    "model = smf.mixedlm(\n",
    "    \"med_sum_no_lorazepam_raw ~ synchrony_broadband + time_since_last_seizure + emu_minute + ad_ratio + had_seizure\",\n",
    "    all_data,\n",
    "    groups=all_data[\"patient_hup_id\"],\n",
    ")\n",
    "\n",
    "# Fit the model\n",
    "result = model.fit()\n",
    "print(result.summary())\n",
    "\n",
    "# print the r^2 value\n",
    "# print(\"r^2 value:\", result.rsquared)"
   ]
  },
  {
   "cell_type": "code",
   "execution_count": 6,
   "metadata": {},
   "outputs": [
    {
     "data": {
      "image/png": "[encoded data removed]",
      "text/plain": [
       "<Figure size 500x300 with 1 Axes>"
      ]
     },
     "metadata": {},
     "output_type": "display_data"
    }
   ],
   "source": [
    "# Drop Group Var and Intercept from the results\n",
    "coefficients = result.params.drop([\"Group Var\", \"Intercept\"]).values\n",
    "predictors = result.params.drop([\"Group Var\", \"Intercept\"]).index\n",
    "std_errors = result.bse.drop([\"Group Var\", \"Intercept\"]).values\n",
    "\n",
    "# For a 95% confidence interval, z value is approximately 1.96\n",
    "z_value = 1.96\n",
    "conf_intervals = [\n",
    "    (coef - z_value * se, coef + z_value * se)\n",
    "    for coef, se in zip(coefficients, std_errors)\n",
    "]\n",
    "\n",
    "# Calculate lower and upper errors for each coefficient\n",
    "lower_errors = [\n",
    "    coef - ci_low for coef, (ci_low, ci_high) in zip(coefficients, conf_intervals)\n",
    "]\n",
    "upper_errors = [\n",
    "    ci_high - coef for coef, (ci_low, ci_high) in zip(coefficients, conf_intervals)\n",
    "]\n",
    "\n",
    "\n",
    "# Create the coefficient plot\n",
    "plt.figure(figsize=(5, 3))\n",
    "for idx, (coef, predictor) in enumerate(zip(coefficients, predictors)):\n",
    "    plt.errorbar(\n",
    "        coef,\n",
    "        idx,\n",
    "        xerr=[[lower_errors[idx]], [upper_errors[idx]]],\n",
    "        fmt=\"o\",\n",
    "        color=\"blue\",\n",
    "        ecolor=\"gray\",\n",
    "        elinewidth=2,\n",
    "        capsize=5,\n",
    "    )\n",
    "\n",
    "# Formatting\n",
    "plt.yticks(range(len(predictors)), predictors)\n",
    "plt.axvline(0, color=\"red\", linestyle=\"--\")  # Add a vertical line for 0\n",
    "plt.xlabel(\"Coefficient Value\")\n",
    "plt.ylabel(\"Predictors\")\n",
    "# plt.title(\"Mixed Model Coefficients with 95% Confidence Intervals\")\n",
    "plt.tight_layout()\n",
    "plt.show()"
   ]
  },
  {
   "cell_type": "markdown",
   "metadata": {},
   "source": [
    "## Dominance Analysis"
   ]
  },
  {
   "cell_type": "code",
   "execution_count": 7,
   "metadata": {},
   "outputs": [
    {
     "data": {
      "image/png": "[encoded data removed]",
      "text/plain": [
       "<Figure size 600x300 with 1 Axes>"
      ]
     },
     "metadata": {},
     "output_type": "display_data"
    }
   ],
   "source": [
    "# Number of bootstraps\n",
    "n_boots = 1000\n",
    "\n",
    "# List of predictors\n",
    "predictors = [\n",
    "    \"synchrony_broadband\",\n",
    "    \"time_since_last_seizure\",\n",
    "    \"emu_minute\",\n",
    "    \"ad_ratio\",\n",
    "    \"had_seizure\",\n",
    "]\n",
    "coefficients = {pred: [] for pred in predictors}\n",
    "\n",
    "for _ in range(n_boots):\n",
    "    # Sample data with replacement\n",
    "    boot_data = all_data.sample(frac=1, replace=True)\n",
    "\n",
    "    # Fit model on bootstrap sample\n",
    "    model = smf.mixedlm(\n",
    "        \"med_sum_no_lorazepam_raw ~ synchrony_broadband + time_since_last_seizure + emu_minute + ad_ratio + had_seizure\",\n",
    "        boot_data,\n",
    "        groups=boot_data[\"patient_hup_id\"],\n",
    "    )\n",
    "    result = model.fit()\n",
    "\n",
    "    # Store coefficients\n",
    "    for pred in predictors:\n",
    "        coefficients[pred].append(result.params[pred])\n",
    "\n",
    "# Calculate variability (standard deviation) of coefficients for each predictor\n",
    "relative_importance = {pred: np.std(coefficients[pred]) for pred in predictors}\n",
    "\n",
    "# Compute standard error for each predictor\n",
    "standard_errors = {\n",
    "    pred: std / np.sqrt(n_boots) for pred, std in relative_importance.items()\n",
    "}\n",
    "\n",
    "# Sort the predictors based on relative importance\n",
    "sorted_predictors = sorted(\n",
    "    relative_importance, key=relative_importance.get, reverse=True\n",
    ")\n",
    "\n",
    "# Visualization\n",
    "plt.figure(figsize=(6, 3))\n",
    "plt.bar(\n",
    "    sorted_predictors,\n",
    "    [relative_importance[pred] for pred in sorted_predictors],\n",
    "    yerr=[standard_errors[pred] for pred in sorted_predictors],\n",
    "    capsize=10,\n",
    ")\n",
    "plt.ylabel(\"Standard Deviation of Coefficients\")\n",
    "plt.title(\"Relative Importance of Predictors with Error Bars\")\n",
    "plt.xticks(rotation=45)  # Rotate predictor names for better readability\n",
    "plt.show()"
   ]
  },
  {
   "cell_type": "code",
   "execution_count": 8,
   "metadata": {},
   "outputs": [],
   "source": [
    "# Number of bootstraps\n",
    "n_boots = 1000\n",
    "\n",
    "# List of predictors\n",
    "predictors = [\n",
    "    \"med_sum_no_lorazepam_raw\",\n",
    "    \"time_since_last_seizure\",\n",
    "    \"emu_minute\",\n",
    "    \"ad_ratio\",\n",
    "    \"had_seizure\",\n",
    "]\n",
    "coefficients = {pred: [] for pred in predictors}\n",
    "\n",
    "for _ in range(n_boots):\n",
    "    # Sample data with replacement\n",
    "    boot_data = all_data.sample(frac=1, replace=True)\n",
    "\n",
    "    # Fit model on bootstrap sample\n",
    "    model = smf.mixedlm(\n",
    "        \"synchrony_broadband ~ med_sum_no_lorazepam_raw + time_since_last_seizure + emu_minute + ad_ratio + had_seizure\",\n",
    "        boot_data,\n",
    "        groups=boot_data[\"patient_hup_id\"],\n",
    "    )\n",
    "    result = model.fit()\n",
    "\n",
    "    # Store coefficients\n",
    "    for pred in predictors:\n",
    "        coefficients[pred].append(result.params[pred])\n",
    "\n",
    "# Calculate variability (standard deviation) of coefficients for each predictor\n",
    "relative_importance = {pred: np.std(coefficients[pred]) for pred in predictors}\n",
    "\n",
    "# Compute standard error for each predictor\n",
    "standard_errors = {\n",
    "    pred: std / np.sqrt(n_boots) for pred, std in relative_importance.items()\n",
    "}\n",
    "\n",
    "# Sort the predictors based on relative importance\n",
    "sorted_predictors = sorted(\n",
    "    relative_importance, key=relative_importance.get, reverse=True\n",
    ")\n",
    "\n",
    "# Visualization\n",
    "plt.figure(figsize=(6, 3))\n",
    "plt.bar(\n",
    "    sorted_predictors,\n",
    "    [relative_importance[pred] for pred in sorted_predictors],\n",
    "    yerr=[standard_errors[pred] for pred in sorted_predictors],\n",
    "    capsize=10,\n",
    ")\n",
    "plt.ylabel(\"Standard Deviation of Coefficients\")\n",
    "plt.title(\"Relative Importance of Predictors with Error Bars\")\n",
    "plt.xticks(rotation=45)  # Rotate predictor names for better readability\n",
    "plt.show()"
   ]
  },
  {
   "cell_type": "markdown",
   "metadata": {},
   "source": [
    "### Include seizure binary variable and time since last seizure. time of day, hour of emu stay"
   ]
  },
  {
   "cell_type": "code",
   "execution_count": null,
   "metadata": {},
   "outputs": [],
   "source": [
    "g = sns.FacetGrid(\n",
    "    all_data, col=\"patient_hup_id\", col_wrap=3, height=4, sharex=True, sharey=True\n",
    ")\n",
    "g = g.map(\n",
    "    sns.regplot,\n",
    "    \"med_sum_no_lorazepam_raw\",\n",
    "    \"synchrony_broadband\",\n",
    "    scatter_kws={\"s\": 10, \"alpha\": 0.5},\n",
    "    line_kws={\"color\": \"red\"},\n",
    ")\n",
    "g.set_titles(\"Patient {col_name}\")\n",
    "g.set_axis_labels(\"Medication Level\", \"EEG Synchrony\")\n",
    "plt.tight_layout()\n",
    "plt.show()"
   ]
  },
  {
   "cell_type": "code",
   "execution_count": null,
   "metadata": {},
   "outputs": [],
   "source": []
  }
 ],
 "metadata": {
  "kernelspec": {
   "display_name": "base",
   "language": "python",
   "name": "python3"
  },
  "language_info": {
   "codemirror_mode": {
    "name": "ipython",
    "version": 3
   },
   "file_extension": ".py",
   "mimetype": "text/x-python",
   "name": "python",
   "nbconvert_exporter": "python",
   "pygments_lexer": "ipython3",
   "version": "3.11.4"
  },
  "orig_nbformat": 4
 },
 "nbformat": 4,
 "nbformat_minor": 2
}
