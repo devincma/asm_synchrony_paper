{
 "cells": [
  {
   "cell_type": "code",
   "execution_count": 1,
   "metadata": {},
   "outputs": [],
   "source": [
    "import os\n",
    "import numpy as np\n",
    "import pandas as pd\n",
    "from ieeg.auth import Session\n",
    "\n",
    "from get_iEEG_data import *\n",
    "from iEEG_helper_functions import *"
   ]
  },
  {
   "cell_type": "code",
   "execution_count": 2,
   "metadata": {},
   "outputs": [],
   "source": [
    "SYNCHRONY_BROADBAND_DIRECTORY = \"../../Data/synchrony/all/broadband\""
   ]
  },
  {
   "cell_type": "code",
   "execution_count": 3,
   "metadata": {},
   "outputs": [],
   "source": [
    "def find_nan_segments(arr, min_length=100):\n",
    "    nan_segments = []\n",
    "    start_index = None\n",
    "    nan_count = 0\n",
    "\n",
    "    for i, value in enumerate(arr):\n",
    "        if np.isnan(value):\n",
    "            nan_count += 1\n",
    "            if start_index is None:\n",
    "                start_index = i\n",
    "        else:\n",
    "            if nan_count >= min_length:\n",
    "                nan_segments.append((start_index, i - 1))\n",
    "            start_index = None\n",
    "            nan_count = 0\n",
    "\n",
    "    # Check for the case where the array ends with a NaN segment\n",
    "    if nan_count >= min_length:\n",
    "        nan_segments.append((start_index, len(arr) - 1))\n",
    "\n",
    "    return nan_segments"
   ]
  },
  {
   "cell_type": "code",
   "execution_count": 8,
   "metadata": {},
   "outputs": [
    {
     "name": "stdout",
     "output_type": "stream",
     "text": [
      "Filling incomplete data for HUP 192...\n",
      "[(23, 207), (4041, 4193), (5459, 6419)]\n",
      "Filling incomplete data for HUP 184...\n",
      "[(693, 880), (4384, 5099)]\n",
      "Filling incomplete data for HUP 205...\n",
      "[(23, 619), (5931, 6629)]\n",
      "Filling incomplete data for HUP 202...\n",
      "[(3364, 3587), (3827, 4117), (5720, 6419)]\n",
      "Filling incomplete data for HUP 204...\n",
      "[(2785, 2945), (3667, 4379)]\n",
      "Filling incomplete data for HUP 182...\n",
      "[(990, 1308), (6630, 8489)]\n",
      "Filling incomplete data for HUP 185...\n",
      "[(975, 1229), (4366, 4532), (6784, 6967), (6985, 7679)]\n",
      "Filling incomplete data for HUP 186...\n",
      "[(6106, 6296), (6313, 7199)]\n",
      "Filling incomplete data for HUP 174...\n",
      "[(4529, 4871), (7811, 8519)]\n",
      "Filling incomplete data for HUP 189...\n",
      "[(29, 128), (2299, 2999)]\n",
      "Filling incomplete data for HUP 180...\n",
      "[(2291, 2666), (5015, 5729)]\n",
      "Filling incomplete data for HUP 217...\n",
      "[(4059, 4211), (5797, 12659)]\n",
      "Filling incomplete data for HUP 210...\n",
      "[(20, 550), (4040, 8519)]\n",
      "Filling incomplete data for HUP 172...\n",
      "[(6728, 7046), (7191, 7889)]\n",
      "Filling incomplete data for HUP 196...\n",
      "[(4304, 4848), (5570, 6269)]\n",
      "Filling incomplete data for HUP 191...\n",
      "[(488, 757), (6472, 7199)]\n"
     ]
    }
   ],
   "source": [
    "# Iterate through all files in SYNCHRONY_BROADBAND_DIRECTORY\n",
    "for filename in os.listdir(SYNCHRONY_BROADBAND_DIRECTORY):\n",
    "    # load only .npy files\n",
    "    if filename.endswith(\".npy\"):\n",
    "        # Filenames are in the format of HUP_{patient_id}.npy\n",
    "        hup_id = filename.split(\"_\")[1].split(\".\")[0]\n",
    "        # Load the data\n",
    "        og_data = np.load(os.path.join(SYNCHRONY_BROADBAND_DIRECTORY, filename))\n",
    "        # Find NaN segments\n",
    "        nan_segments = find_nan_segments(og_data)\n",
    "        # If the first element of the first tuple in nan_segments is 0, then delete the first tuple\n",
    "        if nan_segments[0][0] == 0:\n",
    "            nan_segments = nan_segments[1:]\n",
    "        if len(nan_segments) > 1:\n",
    "            print(f\"Filling incomplete data for HUP {hup_id}...\")\n",
    "            print(nan_segments)"
   ]
  },
  {
   "cell_type": "code",
   "execution_count": null,
   "metadata": {},
   "outputs": [],
   "source": []
  }
 ],
 "metadata": {
  "kernelspec": {
   "display_name": "base",
   "language": "python",
   "name": "python3"
  },
  "language_info": {
   "codemirror_mode": {
    "name": "ipython",
    "version": 3
   },
   "file_extension": ".py",
   "mimetype": "text/x-python",
   "name": "python",
   "nbconvert_exporter": "python",
   "pygments_lexer": "ipython3",
   "version": "3.11.4"
  }
 },
 "nbformat": 4,
 "nbformat_minor": 2
}
