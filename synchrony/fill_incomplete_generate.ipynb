{
 "cells": [
  {
   "cell_type": "markdown",
   "metadata": {},
   "source": [
    "# Actually generate new synchrony arrays"
   ]
  },
  {
   "cell_type": "code",
   "execution_count": 1,
   "metadata": {},
   "outputs": [],
   "source": [
    "import os\n",
    "import numpy as np"
   ]
  },
  {
   "cell_type": "code",
   "execution_count": 2,
   "metadata": {},
   "outputs": [],
   "source": [
    "ORIGINAL_SYNCHRONY_BROADBAND_DIRECTORY = \"../../Data/synchrony/all/broadband\"\n",
    "SYNCHRONY_BROADBAND_FILL_DIRECTORY = \"../../Data/synchrony/all/broadband_fill\"\n",
    "NEW_SYNCHRONY_BROADBAND_DIRECTORY = \"../../Data/synchrony/all/broadband_new_after_fill\""
   ]
  },
  {
   "cell_type": "code",
   "execution_count": 3,
   "metadata": {},
   "outputs": [
    {
     "name": "stdout",
     "output_type": "stream",
     "text": [
      "HUP_139_4119_8489.npy has non-nan values: 431\n",
      "HUP_188_2753_4889.npy has non-nan values: 1401\n",
      "HUP_160_8175_10769.npy has non-nan values: 75\n",
      "HUP_210_4040_8519.npy has non-nan values: 3743\n",
      "HUP_217_5797_12659.npy has non-nan values: 6136\n",
      "HUP_192_5459_6419.npy has non-nan values: 252\n",
      "HUP_146_706_11639.npy has non-nan values: 688\n",
      "HUP_177_5236_6479.npy has non-nan values: 537\n",
      "HUP_163_4120_9539.npy has non-nan values: 4666\n",
      "HUP_164_2194_5549.npy has non-nan values: 2653\n",
      "HUP_206_1065_11249.npy has non-nan values: 9372\n",
      "HUP_162_537_9809.npy has non-nan values: 528\n",
      "HUP_157_1737_6419.npy has non-nan values: 3934\n",
      "HUP_161_2999_9389.npy has non-nan values: 1646\n",
      "HUP_178_3312_6269.npy has non-nan values: 1934\n",
      "HUP_143_545_7889.npy has non-nan values: 3385\n",
      "HUP_171_718_9299.npy has non-nan values: 667\n",
      "HUP_182_6630_8489.npy has non-nan values: 1132\n",
      "HUP_155_1276_5939.npy has non-nan values: 414\n",
      "HUP_165_6046_14489.npy has non-nan values: 2003\n"
     ]
    }
   ],
   "source": [
    "# Iterate through all files in the directory\n",
    "for filename in os.listdir(SYNCHRONY_BROADBAND_FILL_DIRECTORY):\n",
    "    # Load the file\n",
    "    new_array = np.load(os.path.join(SYNCHRONY_BROADBAND_FILL_DIRECTORY, filename))\n",
    "\n",
    "    if np.isnan(new_array).all():\n",
    "        continue\n",
    "\n",
    "    hup_id = int(filename.split(\"_\")[1])\n",
    "    # Count number of non-nan values\n",
    "    num_non_nan = np.count_nonzero(~np.isnan(new_array))\n",
    "    print(f\"{filename} has non-nan values: {num_non_nan}\")\n",
    "\n",
    "    og_array_to_fill = np.load(\n",
    "        os.path.join(ORIGINAL_SYNCHRONY_BROADBAND_DIRECTORY, f\"HUP_{hup_id}.npy\")\n",
    "    )\n",
    "\n",
    "    assert og_array_to_fill.shape == new_array.shape\n",
    "\n",
    "    og_array_to_fill[np.isnan(og_array_to_fill)] = new_array[np.isnan(og_array_to_fill)]\n",
    "    # Save the new array\n",
    "    np.save(\n",
    "        os.path.join(NEW_SYNCHRONY_BROADBAND_DIRECTORY, f\"HUP_{hup_id}.npy\"),\n",
    "        og_array_to_fill,\n",
    "    )"
   ]
  }
 ],
 "metadata": {
  "kernelspec": {
   "display_name": "base",
   "language": "python",
   "name": "python3"
  },
  "language_info": {
   "codemirror_mode": {
    "name": "ipython",
    "version": 3
   },
   "file_extension": ".py",
   "mimetype": "text/x-python",
   "name": "python",
   "nbconvert_exporter": "python",
   "pygments_lexer": "ipython3",
   "version": "3.11.4"
  }
 },
 "nbformat": 4,
 "nbformat_minor": 2
}
