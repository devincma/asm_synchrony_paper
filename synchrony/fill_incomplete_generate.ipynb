{
 "cells": [
  {
   "cell_type": "markdown",
   "metadata": {},
   "source": [
    "# Actually generate new synchrony arrays"
   ]
  },
  {
   "cell_type": "code",
   "execution_count": 1,
   "metadata": {},
   "outputs": [],
   "source": [
    "import os\n",
    "import numpy as np"
   ]
  },
  {
   "cell_type": "code",
   "execution_count": 2,
   "metadata": {},
   "outputs": [],
   "source": [
    "ORIGINAL_SYNCHRONY_BROADBAND_DIRECTORY = (\n",
    "    \"../../Data/synchrony/all/broadband_new_after_fill\"\n",
    ")\n",
    "SYNCHRONY_BROADBAND_FILL_DIRECTORY = \"../../Data/synchrony/all/broadband_fill\"\n",
    "NEW_SYNCHRONY_BROADBAND_DIRECTORY = (\n",
    "    \"../../Data/synchrony/all/broadband_fill_intermediate\"\n",
    ")"
   ]
  },
  {
   "cell_type": "code",
   "execution_count": 3,
   "metadata": {},
   "outputs": [
    {
     "name": "stdout",
     "output_type": "stream",
     "text": [
      "HUP_161_4646_9389.npy has non-nan values: 3977\n",
      "HUP_171_1420_9299.npy has non-nan values: 6585\n",
      "HUP_146_1394_11639.npy has non-nan values: 638\n",
      "HUP_155_1705_5939.npy has non-nan values: 3509\n",
      "HUP_165_8051_14489.npy has non-nan values: 98\n",
      "HUP_160_8250_10769.npy has non-nan values: 1814\n",
      "HUP_143_3932_7889.npy has non-nan values: 3226\n",
      "HUP_139_4550_8489.npy has non-nan values: 3211\n",
      "HUP_162_1065_9809.npy has non-nan values: 1547\n"
     ]
    }
   ],
   "source": [
    "# Iterate through all files in the directory\n",
    "for filename in os.listdir(SYNCHRONY_BROADBAND_FILL_DIRECTORY):\n",
    "    # Load the file\n",
    "    new_array = np.load(os.path.join(SYNCHRONY_BROADBAND_FILL_DIRECTORY, filename))\n",
    "\n",
    "    if np.isnan(new_array).all():\n",
    "        continue\n",
    "\n",
    "    hup_id = int(filename.split(\"_\")[1])\n",
    "    # Count number of non-nan values\n",
    "    num_non_nan = np.count_nonzero(~np.isnan(new_array))\n",
    "    print(f\"{filename} has non-nan values: {num_non_nan}\")\n",
    "\n",
    "    og_array_to_fill = np.load(\n",
    "        os.path.join(ORIGINAL_SYNCHRONY_BROADBAND_DIRECTORY, f\"HUP_{hup_id}.npy\")\n",
    "    )\n",
    "    # count the number of non-nan values in the original array\n",
    "    num_non_nan_og = np.count_nonzero(~np.isnan(og_array_to_fill))\n",
    "\n",
    "    assert og_array_to_fill.shape == new_array.shape\n",
    "\n",
    "    og_array_to_fill[np.isnan(og_array_to_fill)] = new_array[np.isnan(og_array_to_fill)]\n",
    "    assert np.count_nonzero(~np.isnan(og_array_to_fill)) == num_non_nan_og + num_non_nan\n",
    "    # Save the new array\n",
    "    np.save(\n",
    "        os.path.join(NEW_SYNCHRONY_BROADBAND_DIRECTORY, f\"HUP_{hup_id}.npy\"),\n",
    "        og_array_to_fill,\n",
    "    )"
   ]
  },
  {
   "cell_type": "code",
   "execution_count": null,
   "metadata": {},
   "outputs": [],
   "source": []
  }
 ],
 "metadata": {
  "kernelspec": {
   "display_name": "base",
   "language": "python",
   "name": "python3"
  },
  "language_info": {
   "codemirror_mode": {
    "name": "ipython",
    "version": 3
   },
   "file_extension": ".py",
   "mimetype": "text/x-python",
   "name": "python",
   "nbconvert_exporter": "python",
   "pygments_lexer": "ipython3",
   "version": "3.11.4"
  }
 },
 "nbformat": 4,
 "nbformat_minor": 2
}
