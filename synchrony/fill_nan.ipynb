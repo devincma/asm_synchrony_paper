{
 "cells": [
  {
   "cell_type": "code",
   "execution_count": 1,
   "metadata": {},
   "outputs": [],
   "source": [
    "import numpy as np"
   ]
  },
  {
   "cell_type": "code",
   "execution_count": 6,
   "metadata": {},
   "outputs": [
    {
     "name": "stdout",
     "output_type": "stream",
     "text": [
      "[(0, 4), (6, 10), (16, 20)]\n"
     ]
    }
   ],
   "source": [
    "def find_nan_segments(arr):\n",
    "    nan_segments = []\n",
    "    start_index = None\n",
    "    nan_count = 0\n",
    "\n",
    "    for i, value in enumerate(arr):\n",
    "        if np.isnan(value):\n",
    "            nan_count += 1\n",
    "            if start_index is None:\n",
    "                start_index = i\n",
    "        else:\n",
    "            if nan_count >= 5:\n",
    "                nan_segments.append((start_index, i - 1))\n",
    "            start_index = None\n",
    "            nan_count = 0\n",
    "\n",
    "    # Check for the case where the array ends with a NaN segment\n",
    "    if nan_count >= 5:\n",
    "        nan_segments.append((start_index, len(arr) - 1))\n",
    "\n",
    "    return nan_segments\n",
    "\n",
    "\n",
    "# Example usage\n",
    "arr = np.array(\n",
    "    [\n",
    "        np.nan,\n",
    "        np.nan,\n",
    "        np.nan,\n",
    "        np.nan,\n",
    "        np.nan,\n",
    "        1,\n",
    "        np.nan,\n",
    "        np.nan,\n",
    "        np.nan,\n",
    "        np.nan,\n",
    "        np.nan,\n",
    "        2,\n",
    "        np.nan,\n",
    "        np.nan,\n",
    "        np.nan,\n",
    "        1,\n",
    "        np.nan,\n",
    "        np.nan,\n",
    "        np.nan,\n",
    "        np.nan,\n",
    "        np.nan,\n",
    "    ]\n",
    ")\n",
    "nan_segments = find_nan_segments(arr)\n",
    "print(nan_segments)"
   ]
  },
  {
   "cell_type": "code",
   "execution_count": 7,
   "metadata": {},
   "outputs": [
    {
     "name": "stdout",
     "output_type": "stream",
     "text": [
      "Test Case: Empty Array, Output: []\n",
      "Test Case: All Non-NaN Values, Output: []\n",
      "Test Case: All NaN Values, Output: [(0, 5)]\n",
      "Test Case: Single NaN Segment, Output: [(1, 5)]\n",
      "Test Case: Multiple NaN Segments, Output: [(0, 4), (6, 10)]\n",
      "Test Case: Segments with Less than 5 NaN Values, Output: []\n",
      "Test Case: Mixed Segments, Output: [(5, 9)]\n",
      "Test Case: NaN Segment at Start, Output: [(0, 4)]\n",
      "Test Case: NaN Segment at End, Output: [(3, 7)]\n",
      "Test Case: Single NaN Values, Output: []\n"
     ]
    }
   ],
   "source": [
    "# Test cases\n",
    "test_cases = {\n",
    "    \"Empty Array\": np.array([]),\n",
    "    \"All Non-NaN Values\": np.array([1, 2, 3, 4, 5]),\n",
    "    \"All NaN Values\": np.array([np.nan] * 6),\n",
    "    \"Single NaN Segment\": np.array([1, np.nan, np.nan, np.nan, np.nan, np.nan, 2]),\n",
    "    \"Multiple NaN Segments\": np.array(\n",
    "        [\n",
    "            np.nan,\n",
    "            np.nan,\n",
    "            np.nan,\n",
    "            np.nan,\n",
    "            np.nan,\n",
    "            1,\n",
    "            np.nan,\n",
    "            np.nan,\n",
    "            np.nan,\n",
    "            np.nan,\n",
    "            np.nan,\n",
    "        ]\n",
    "    ),\n",
    "    \"Segments with Less than 5 NaN Values\": np.array(\n",
    "        [np.nan, np.nan, 1, np.nan, np.nan, np.nan, 2]\n",
    "    ),\n",
    "    \"Mixed Segments\": np.array(\n",
    "        [np.nan, np.nan, np.nan, np.nan, 1, np.nan, np.nan, np.nan, np.nan, np.nan]\n",
    "    ),\n",
    "    \"NaN Segment at Start\": np.array([np.nan, np.nan, np.nan, np.nan, np.nan, 1, 2, 3]),\n",
    "    \"NaN Segment at End\": np.array([1, 2, 3, np.nan, np.nan, np.nan, np.nan, np.nan]),\n",
    "    \"Single NaN Values\": np.array([1, np.nan, 2, np.nan, 3, np.nan, 4]),\n",
    "}\n",
    "\n",
    "# Running the test cases\n",
    "for name, arr in test_cases.items():\n",
    "    print(f\"Test Case: {name}, Output: {find_nan_segments(arr)}\")"
   ]
  },
  {
   "cell_type": "code",
   "execution_count": null,
   "metadata": {},
   "outputs": [],
   "source": []
  }
 ],
 "metadata": {
  "kernelspec": {
   "display_name": "base",
   "language": "python",
   "name": "python3"
  },
  "language_info": {
   "codemirror_mode": {
    "name": "ipython",
    "version": 3
   },
   "file_extension": ".py",
   "mimetype": "text/x-python",
   "name": "python",
   "nbconvert_exporter": "python",
   "pygments_lexer": "ipython3",
   "version": "3.11.4"
  }
 },
 "nbformat": 4,
 "nbformat_minor": 2
}
