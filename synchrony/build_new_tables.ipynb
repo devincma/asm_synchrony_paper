{
 "cells": [
  {
   "cell_type": "markdown",
   "metadata": {},
   "source": [
    "# Build giant tables"
   ]
  },
  {
   "cell_type": "code",
   "execution_count": 11,
   "metadata": {},
   "outputs": [],
   "source": [
    "import os\n",
    "import numpy as np\n",
    "import pandas as pd\n",
    "import scipy.io\n",
    "from scipy.stats import iqr\n",
    "from scipy import interpolate"
   ]
  },
  {
   "cell_type": "code",
   "execution_count": 12,
   "metadata": {},
   "outputs": [
    {
     "data": {
      "text/html": [
       "<div>\n",
       "<style scoped>\n",
       "    .dataframe tbody tr th:only-of-type {\n",
       "        vertical-align: middle;\n",
       "    }\n",
       "\n",
       "    .dataframe tbody tr th {\n",
       "        vertical-align: top;\n",
       "    }\n",
       "\n",
       "    .dataframe thead th {\n",
       "        text-align: right;\n",
       "    }\n",
       "</style>\n",
       "<table border=\"1\" class=\"dataframe\">\n",
       "  <thead>\n",
       "    <tr style=\"text-align: right;\">\n",
       "      <th></th>\n",
       "      <th>hup_id</th>\n",
       "      <th>IEEG_Portal_Number</th>\n",
       "      <th>Implant_Date</th>\n",
       "      <th>implant_time</th>\n",
       "      <th>Explant_Date</th>\n",
       "      <th>weight_kg</th>\n",
       "    </tr>\n",
       "  </thead>\n",
       "  <tbody>\n",
       "    <tr>\n",
       "      <th>0</th>\n",
       "      <td>225</td>\n",
       "      <td>HUP225_phaseII</td>\n",
       "      <td>2021-10-18</td>\n",
       "      <td>07:15:00</td>\n",
       "      <td>2021-10-26 17:30:00</td>\n",
       "      <td>58.5</td>\n",
       "    </tr>\n",
       "    <tr>\n",
       "      <th>1</th>\n",
       "      <td>224</td>\n",
       "      <td>HUP224_phaseII</td>\n",
       "      <td>2021-10-13</td>\n",
       "      <td>07:15:00</td>\n",
       "      <td>2021-10-20 00:00:00</td>\n",
       "      <td>85.5</td>\n",
       "    </tr>\n",
       "    <tr>\n",
       "      <th>2</th>\n",
       "      <td>223</td>\n",
       "      <td>HUP223_phaseII</td>\n",
       "      <td>2021-09-29</td>\n",
       "      <td>07:15:00</td>\n",
       "      <td>2021-10-08 08:21:00</td>\n",
       "      <td>101.4</td>\n",
       "    </tr>\n",
       "    <tr>\n",
       "      <th>3</th>\n",
       "      <td>221</td>\n",
       "      <td>HUP221_phaseII</td>\n",
       "      <td>2021-08-16</td>\n",
       "      <td>07:15:00</td>\n",
       "      <td>2021-08-23 00:00:00</td>\n",
       "      <td>124.3</td>\n",
       "    </tr>\n",
       "    <tr>\n",
       "      <th>4</th>\n",
       "      <td>219</td>\n",
       "      <td>HUP219_phaseII</td>\n",
       "      <td>2021-07-12</td>\n",
       "      <td>07:15:00</td>\n",
       "      <td>2021-07-16 08:18:00</td>\n",
       "      <td>101.6</td>\n",
       "    </tr>\n",
       "    <tr>\n",
       "      <th>...</th>\n",
       "      <td>...</td>\n",
       "      <td>...</td>\n",
       "      <td>...</td>\n",
       "      <td>...</td>\n",
       "      <td>...</td>\n",
       "      <td>...</td>\n",
       "    </tr>\n",
       "    <tr>\n",
       "      <th>75</th>\n",
       "      <td>141</td>\n",
       "      <td>HUP141_phaseII</td>\n",
       "      <td>2017-05-24</td>\n",
       "      <td>07:15:00</td>\n",
       "      <td>2017-06-01 00:00:00</td>\n",
       "      <td>85.7</td>\n",
       "    </tr>\n",
       "    <tr>\n",
       "      <th>76</th>\n",
       "      <td>140</td>\n",
       "      <td>HUP140_phaseII_D01-D02</td>\n",
       "      <td>2017-05-10</td>\n",
       "      <td>07:15:00</td>\n",
       "      <td>2017-05-19 00:00:00</td>\n",
       "      <td>56.7</td>\n",
       "    </tr>\n",
       "    <tr>\n",
       "      <th>77</th>\n",
       "      <td>139</td>\n",
       "      <td>HUP139_phaseII</td>\n",
       "      <td>2017-04-26</td>\n",
       "      <td>07:15:00</td>\n",
       "      <td>2017-05-09 00:00:00</td>\n",
       "      <td>69.8</td>\n",
       "    </tr>\n",
       "    <tr>\n",
       "      <th>78</th>\n",
       "      <td>138</td>\n",
       "      <td>HUP138_phaseII</td>\n",
       "      <td>2017-04-12</td>\n",
       "      <td>07:15:00</td>\n",
       "      <td>2017-04-20 00:00:00</td>\n",
       "      <td>84.4</td>\n",
       "    </tr>\n",
       "    <tr>\n",
       "      <th>79</th>\n",
       "      <td>137</td>\n",
       "      <td>HUP137_phaseII_D01-D03</td>\n",
       "      <td>2017-03-22</td>\n",
       "      <td>07:15:00</td>\n",
       "      <td>2017-03-29 13:30:00</td>\n",
       "      <td>141.3</td>\n",
       "    </tr>\n",
       "  </tbody>\n",
       "</table>\n",
       "<p>80 rows × 6 columns</p>\n",
       "</div>"
      ],
      "text/plain": [
       "    hup_id      IEEG_Portal_Number Implant_Date implant_time  \\\n",
       "0      225          HUP225_phaseII   2021-10-18     07:15:00   \n",
       "1      224          HUP224_phaseII   2021-10-13     07:15:00   \n",
       "2      223          HUP223_phaseII   2021-09-29     07:15:00   \n",
       "3      221          HUP221_phaseII   2021-08-16     07:15:00   \n",
       "4      219          HUP219_phaseII   2021-07-12     07:15:00   \n",
       "..     ...                     ...          ...          ...   \n",
       "75     141          HUP141_phaseII   2017-05-24     07:15:00   \n",
       "76     140  HUP140_phaseII_D01-D02   2017-05-10     07:15:00   \n",
       "77     139          HUP139_phaseII   2017-04-26     07:15:00   \n",
       "78     138          HUP138_phaseII   2017-04-12     07:15:00   \n",
       "79     137  HUP137_phaseII_D01-D03   2017-03-22     07:15:00   \n",
       "\n",
       "          Explant_Date  weight_kg  \n",
       "0  2021-10-26 17:30:00       58.5  \n",
       "1  2021-10-20 00:00:00       85.5  \n",
       "2  2021-10-08 08:21:00      101.4  \n",
       "3  2021-08-23 00:00:00      124.3  \n",
       "4  2021-07-16 08:18:00      101.6  \n",
       "..                 ...        ...  \n",
       "75 2017-06-01 00:00:00       85.7  \n",
       "76 2017-05-19 00:00:00       56.7  \n",
       "77 2017-05-09 00:00:00       69.8  \n",
       "78 2017-04-20 00:00:00       84.4  \n",
       "79 2017-03-29 13:30:00      141.3  \n",
       "\n",
       "[80 rows x 6 columns]"
      ]
     },
     "execution_count": 12,
     "metadata": {},
     "output_type": "execute_result"
    }
   ],
   "source": [
    "# Load HUP_implant_dates.xlsx\n",
    "patients_df = pd.read_excel(\"../../Data/HUP_implant_dates.xlsx\")\n",
    "patients_df"
   ]
  },
  {
   "cell_type": "code",
   "execution_count": 13,
   "metadata": {},
   "outputs": [],
   "source": [
    "# Create a mapping between patient ids and the index of the patient in the patients_df dataframe\n",
    "patient_hup_id_to_index = {}\n",
    "for i, patient_id in enumerate(patients_df[\"hup_id\"]):\n",
    "    patient_hup_id_to_index[patient_id] = i"
   ]
  },
  {
   "cell_type": "code",
   "execution_count": 14,
   "metadata": {},
   "outputs": [
    {
     "name": "stdout",
     "output_type": "stream",
     "text": [
      "[138, 139, 141, 142, 143, 144, 145, 146, 150, 151, 154, 155, 157, 158, 160, 161, 163, 164, 165, 166, 169, 170, 171, 172, 173, 174, 175, 177, 178, 180, 182, 184, 185, 186, 187, 188, 189, 190, 191, 192, 196, 199, 202, 204, 205, 206, 207, 210, 217, 219, 223]\n"
     ]
    },
    {
     "data": {
      "text/plain": [
       "51"
      ]
     },
     "execution_count": 14,
     "metadata": {},
     "output_type": "execute_result"
    }
   ],
   "source": [
    "def get_patient_hup_ids(directory):\n",
    "    # List all files in the directory\n",
    "    files = os.listdir(directory)\n",
    "\n",
    "    # Filter out files based on the given pattern and extract patient_hup_id as integers\n",
    "    patient_hup_ids = [\n",
    "        int(f.split(\"_\")[1].split(\".\")[0])\n",
    "        for f in files\n",
    "        if f.startswith(\"HUP_\") and f.endswith(\".npy\")\n",
    "    ]\n",
    "\n",
    "    return patient_hup_ids\n",
    "\n",
    "\n",
    "directory = \"../../Data/synchrony/all/broadband/\"\n",
    "completed_hup_ids = get_patient_hup_ids(directory)\n",
    "completed_hup_ids.sort()\n",
    "print(completed_hup_ids)\n",
    "len(completed_hup_ids)"
   ]
  },
  {
   "cell_type": "code",
   "execution_count": 15,
   "metadata": {},
   "outputs": [
    {
     "data": {
      "text/html": [
       "<div>\n",
       "<style scoped>\n",
       "    .dataframe tbody tr th:only-of-type {\n",
       "        vertical-align: middle;\n",
       "    }\n",
       "\n",
       "    .dataframe tbody tr th {\n",
       "        vertical-align: top;\n",
       "    }\n",
       "\n",
       "    .dataframe thead th {\n",
       "        text-align: right;\n",
       "    }\n",
       "</style>\n",
       "<table border=\"1\" class=\"dataframe\">\n",
       "  <thead>\n",
       "    <tr style=\"text-align: right;\">\n",
       "      <th></th>\n",
       "      <th>hup_id</th>\n",
       "      <th>IEEG_Portal_Number</th>\n",
       "      <th>Implant_Date</th>\n",
       "      <th>implant_time</th>\n",
       "      <th>Explant_Date</th>\n",
       "      <th>weight_kg</th>\n",
       "    </tr>\n",
       "  </thead>\n",
       "  <tbody>\n",
       "    <tr>\n",
       "      <th>0</th>\n",
       "      <td>223</td>\n",
       "      <td>HUP223_phaseII</td>\n",
       "      <td>2021-09-29</td>\n",
       "      <td>07:15:00</td>\n",
       "      <td>2021-10-08 08:21:00</td>\n",
       "      <td>101.4</td>\n",
       "    </tr>\n",
       "    <tr>\n",
       "      <th>1</th>\n",
       "      <td>219</td>\n",
       "      <td>HUP219_phaseII</td>\n",
       "      <td>2021-07-12</td>\n",
       "      <td>07:15:00</td>\n",
       "      <td>2021-07-16 08:18:00</td>\n",
       "      <td>101.6</td>\n",
       "    </tr>\n",
       "    <tr>\n",
       "      <th>2</th>\n",
       "      <td>217</td>\n",
       "      <td>HUP217_phaseII</td>\n",
       "      <td>2021-05-17</td>\n",
       "      <td>07:15:00</td>\n",
       "      <td>2021-06-04 00:00:00</td>\n",
       "      <td>58.5</td>\n",
       "    </tr>\n",
       "    <tr>\n",
       "      <th>3</th>\n",
       "      <td>210</td>\n",
       "      <td>HUP210_phaseII</td>\n",
       "      <td>2020-11-30</td>\n",
       "      <td>07:15:00</td>\n",
       "      <td>2020-12-11 00:00:00</td>\n",
       "      <td>66.6</td>\n",
       "    </tr>\n",
       "    <tr>\n",
       "      <th>4</th>\n",
       "      <td>207</td>\n",
       "      <td>HUP207_phaseII</td>\n",
       "      <td>2020-10-05</td>\n",
       "      <td>07:15:00</td>\n",
       "      <td>2020-10-19 16:10:00</td>\n",
       "      <td>114.8</td>\n",
       "    </tr>\n",
       "    <tr>\n",
       "      <th>5</th>\n",
       "      <td>206</td>\n",
       "      <td>HUP206_phaseII</td>\n",
       "      <td>2020-08-24</td>\n",
       "      <td>07:15:00</td>\n",
       "      <td>2020-09-09 00:00:00</td>\n",
       "      <td>97.3</td>\n",
       "    </tr>\n",
       "    <tr>\n",
       "      <th>6</th>\n",
       "      <td>205</td>\n",
       "      <td>HUP205_phaseII</td>\n",
       "      <td>2020-08-10</td>\n",
       "      <td>07:15:00</td>\n",
       "      <td>2020-08-19 08:49:00</td>\n",
       "      <td>53.7</td>\n",
       "    </tr>\n",
       "    <tr>\n",
       "      <th>7</th>\n",
       "      <td>204</td>\n",
       "      <td>HUP204_phaseII</td>\n",
       "      <td>2020-07-29</td>\n",
       "      <td>07:15:00</td>\n",
       "      <td>2020-08-04 00:00:00</td>\n",
       "      <td>82.1</td>\n",
       "    </tr>\n",
       "    <tr>\n",
       "      <th>8</th>\n",
       "      <td>202</td>\n",
       "      <td>HUP202_phaseII</td>\n",
       "      <td>2020-07-13</td>\n",
       "      <td>07:15:00</td>\n",
       "      <td>2020-07-22 15:14:00</td>\n",
       "      <td>89.0</td>\n",
       "    </tr>\n",
       "    <tr>\n",
       "      <th>9</th>\n",
       "      <td>199</td>\n",
       "      <td>HUP199_phaseII</td>\n",
       "      <td>2019-11-13</td>\n",
       "      <td>07:15:00</td>\n",
       "      <td>2019-11-20 00:00:00</td>\n",
       "      <td>64.9</td>\n",
       "    </tr>\n",
       "    <tr>\n",
       "      <th>10</th>\n",
       "      <td>196</td>\n",
       "      <td>HUP196_phaseII</td>\n",
       "      <td>2019-08-12</td>\n",
       "      <td>07:15:00</td>\n",
       "      <td>2019-08-21 08:06:00</td>\n",
       "      <td>60.8</td>\n",
       "    </tr>\n",
       "    <tr>\n",
       "      <th>11</th>\n",
       "      <td>192</td>\n",
       "      <td>HUP192_phaseII</td>\n",
       "      <td>2019-04-24</td>\n",
       "      <td>07:15:00</td>\n",
       "      <td>2019-05-03 15:04:00</td>\n",
       "      <td>49.4</td>\n",
       "    </tr>\n",
       "    <tr>\n",
       "      <th>12</th>\n",
       "      <td>191</td>\n",
       "      <td>HUP191_phaseII</td>\n",
       "      <td>2019-04-15</td>\n",
       "      <td>07:15:00</td>\n",
       "      <td>2019-04-25 00:00:00</td>\n",
       "      <td>97.1</td>\n",
       "    </tr>\n",
       "    <tr>\n",
       "      <th>13</th>\n",
       "      <td>190</td>\n",
       "      <td>HUP190_phaseII</td>\n",
       "      <td>2019-04-10</td>\n",
       "      <td>07:15:00</td>\n",
       "      <td>2019-04-24 00:00:00</td>\n",
       "      <td>105.4</td>\n",
       "    </tr>\n",
       "    <tr>\n",
       "      <th>14</th>\n",
       "      <td>189</td>\n",
       "      <td>HUP189_phaseII</td>\n",
       "      <td>2019-04-01</td>\n",
       "      <td>07:15:00</td>\n",
       "      <td>2019-04-05 00:00:00</td>\n",
       "      <td>92.7</td>\n",
       "    </tr>\n",
       "    <tr>\n",
       "      <th>15</th>\n",
       "      <td>188</td>\n",
       "      <td>HUP188_phaseII</td>\n",
       "      <td>2019-03-13</td>\n",
       "      <td>07:15:00</td>\n",
       "      <td>2019-03-20 00:00:00</td>\n",
       "      <td>70.7</td>\n",
       "    </tr>\n",
       "    <tr>\n",
       "      <th>16</th>\n",
       "      <td>187</td>\n",
       "      <td>HUP187_phaseII</td>\n",
       "      <td>2019-03-11</td>\n",
       "      <td>07:15:00</td>\n",
       "      <td>2019-03-19 00:00:00</td>\n",
       "      <td>86.2</td>\n",
       "    </tr>\n",
       "    <tr>\n",
       "      <th>17</th>\n",
       "      <td>186</td>\n",
       "      <td>HUP186_phaseII</td>\n",
       "      <td>2019-02-27</td>\n",
       "      <td>07:15:00</td>\n",
       "      <td>2019-03-08 00:00:00</td>\n",
       "      <td>64.9</td>\n",
       "    </tr>\n",
       "    <tr>\n",
       "      <th>18</th>\n",
       "      <td>185</td>\n",
       "      <td>HUP185_phaseII</td>\n",
       "      <td>2019-01-21</td>\n",
       "      <td>07:15:00</td>\n",
       "      <td>2019-02-01 00:00:00</td>\n",
       "      <td>76.2</td>\n",
       "    </tr>\n",
       "    <tr>\n",
       "      <th>19</th>\n",
       "      <td>184</td>\n",
       "      <td>HUP184_phaseII</td>\n",
       "      <td>2019-01-14</td>\n",
       "      <td>07:15:00</td>\n",
       "      <td>2019-01-21 00:00:00</td>\n",
       "      <td>90.7</td>\n",
       "    </tr>\n",
       "    <tr>\n",
       "      <th>20</th>\n",
       "      <td>182</td>\n",
       "      <td>HUP182_phaseII</td>\n",
       "      <td>2018-12-12</td>\n",
       "      <td>07:15:00</td>\n",
       "      <td>2018-12-24 00:00:00</td>\n",
       "      <td>55.8</td>\n",
       "    </tr>\n",
       "    <tr>\n",
       "      <th>21</th>\n",
       "      <td>180</td>\n",
       "      <td>HUP180_phaseII</td>\n",
       "      <td>2018-11-05</td>\n",
       "      <td>07:15:00</td>\n",
       "      <td>2018-11-13 00:00:00</td>\n",
       "      <td>51.3</td>\n",
       "    </tr>\n",
       "    <tr>\n",
       "      <th>22</th>\n",
       "      <td>178</td>\n",
       "      <td>HUP178_phaseII</td>\n",
       "      <td>2018-09-12</td>\n",
       "      <td>07:15:00</td>\n",
       "      <td>2018-09-21 00:00:00</td>\n",
       "      <td>79.4</td>\n",
       "    </tr>\n",
       "    <tr>\n",
       "      <th>23</th>\n",
       "      <td>177</td>\n",
       "      <td>HUP177_phaseII</td>\n",
       "      <td>2018-08-22</td>\n",
       "      <td>07:15:00</td>\n",
       "      <td>2018-08-31 00:00:00</td>\n",
       "      <td>88.4</td>\n",
       "    </tr>\n",
       "    <tr>\n",
       "      <th>24</th>\n",
       "      <td>175</td>\n",
       "      <td>HUP175_phaseII</td>\n",
       "      <td>2018-07-16</td>\n",
       "      <td>07:15:00</td>\n",
       "      <td>2018-07-19 00:00:00</td>\n",
       "      <td>61.7</td>\n",
       "    </tr>\n",
       "    <tr>\n",
       "      <th>25</th>\n",
       "      <td>174</td>\n",
       "      <td>HUP174_phaseII</td>\n",
       "      <td>2018-07-11</td>\n",
       "      <td>07:15:00</td>\n",
       "      <td>2018-07-19 00:00:00</td>\n",
       "      <td>70.6</td>\n",
       "    </tr>\n",
       "    <tr>\n",
       "      <th>26</th>\n",
       "      <td>173</td>\n",
       "      <td>HUP173_phaseII</td>\n",
       "      <td>2018-07-02</td>\n",
       "      <td>07:15:00</td>\n",
       "      <td>2018-07-13 00:00:00</td>\n",
       "      <td>76.6</td>\n",
       "    </tr>\n",
       "    <tr>\n",
       "      <th>27</th>\n",
       "      <td>172</td>\n",
       "      <td>HUP172_phaseII</td>\n",
       "      <td>2018-06-16</td>\n",
       "      <td>07:15:00</td>\n",
       "      <td>2018-06-29 00:00:00</td>\n",
       "      <td>109.4</td>\n",
       "    </tr>\n",
       "    <tr>\n",
       "      <th>28</th>\n",
       "      <td>171</td>\n",
       "      <td>HUP171_phaseII</td>\n",
       "      <td>2018-06-13</td>\n",
       "      <td>07:15:00</td>\n",
       "      <td>2018-06-27 00:00:00</td>\n",
       "      <td>107.2</td>\n",
       "    </tr>\n",
       "    <tr>\n",
       "      <th>29</th>\n",
       "      <td>170</td>\n",
       "      <td>HUP170_phaseII</td>\n",
       "      <td>2018-05-09</td>\n",
       "      <td>07:15:00</td>\n",
       "      <td>2018-05-16 00:00:00</td>\n",
       "      <td>63.5</td>\n",
       "    </tr>\n",
       "    <tr>\n",
       "      <th>30</th>\n",
       "      <td>169</td>\n",
       "      <td>HUP169_phaseII</td>\n",
       "      <td>2018-04-30</td>\n",
       "      <td>07:15:00</td>\n",
       "      <td>2018-05-11 00:00:00</td>\n",
       "      <td>62.2</td>\n",
       "    </tr>\n",
       "    <tr>\n",
       "      <th>31</th>\n",
       "      <td>166</td>\n",
       "      <td>HUP166_phaseII</td>\n",
       "      <td>2018-03-19</td>\n",
       "      <td>07:15:00</td>\n",
       "      <td>2018-03-28 00:00:00</td>\n",
       "      <td>60.3</td>\n",
       "    </tr>\n",
       "    <tr>\n",
       "      <th>32</th>\n",
       "      <td>165</td>\n",
       "      <td>HUP165_phaseII</td>\n",
       "      <td>2018-03-14</td>\n",
       "      <td>07:15:00</td>\n",
       "      <td>2018-04-04 00:00:00</td>\n",
       "      <td>95.3</td>\n",
       "    </tr>\n",
       "    <tr>\n",
       "      <th>33</th>\n",
       "      <td>164</td>\n",
       "      <td>HUP164_phaseII</td>\n",
       "      <td>2018-02-19</td>\n",
       "      <td>07:15:00</td>\n",
       "      <td>2018-02-27 00:00:00</td>\n",
       "      <td>95.3</td>\n",
       "    </tr>\n",
       "    <tr>\n",
       "      <th>34</th>\n",
       "      <td>163</td>\n",
       "      <td>HUP163_phaseII</td>\n",
       "      <td>2018-02-14</td>\n",
       "      <td>07:15:00</td>\n",
       "      <td>2018-02-27 21:05:00</td>\n",
       "      <td>82.1</td>\n",
       "    </tr>\n",
       "    <tr>\n",
       "      <th>35</th>\n",
       "      <td>161</td>\n",
       "      <td>HUP161_phaseII</td>\n",
       "      <td>2018-01-24</td>\n",
       "      <td>07:15:00</td>\n",
       "      <td>2018-02-08 11:37:00</td>\n",
       "      <td>96.2</td>\n",
       "    </tr>\n",
       "    <tr>\n",
       "      <th>36</th>\n",
       "      <td>160</td>\n",
       "      <td>HUP160_phaseII</td>\n",
       "      <td>2018-01-17</td>\n",
       "      <td>07:15:00</td>\n",
       "      <td>2018-02-01 00:00:00</td>\n",
       "      <td>80.6</td>\n",
       "    </tr>\n",
       "    <tr>\n",
       "      <th>37</th>\n",
       "      <td>158</td>\n",
       "      <td>HUP158_phaseII</td>\n",
       "      <td>2017-12-27</td>\n",
       "      <td>07:15:00</td>\n",
       "      <td>2018-01-05 00:00:00</td>\n",
       "      <td>79.4</td>\n",
       "    </tr>\n",
       "    <tr>\n",
       "      <th>38</th>\n",
       "      <td>157</td>\n",
       "      <td>HUP157_phaseII</td>\n",
       "      <td>2017-12-18</td>\n",
       "      <td>07:15:00</td>\n",
       "      <td>2017-12-27 00:00:00</td>\n",
       "      <td>74.8</td>\n",
       "    </tr>\n",
       "    <tr>\n",
       "      <th>39</th>\n",
       "      <td>155</td>\n",
       "      <td>HUP155_phaseII</td>\n",
       "      <td>2017-12-07</td>\n",
       "      <td>07:15:00</td>\n",
       "      <td>2017-12-14 00:00:00</td>\n",
       "      <td>68.9</td>\n",
       "    </tr>\n",
       "    <tr>\n",
       "      <th>40</th>\n",
       "      <td>154</td>\n",
       "      <td>HUP154_phaseII</td>\n",
       "      <td>2017-11-27</td>\n",
       "      <td>07:15:00</td>\n",
       "      <td>2017-12-01 00:00:00</td>\n",
       "      <td>62.6</td>\n",
       "    </tr>\n",
       "    <tr>\n",
       "      <th>41</th>\n",
       "      <td>151</td>\n",
       "      <td>HUP151_phaseII</td>\n",
       "      <td>2017-10-25</td>\n",
       "      <td>07:15:00</td>\n",
       "      <td>2017-11-03 00:00:00</td>\n",
       "      <td>81.6</td>\n",
       "    </tr>\n",
       "    <tr>\n",
       "      <th>42</th>\n",
       "      <td>150</td>\n",
       "      <td>HUP150_phaseII</td>\n",
       "      <td>2017-09-27</td>\n",
       "      <td>07:15:00</td>\n",
       "      <td>2017-10-03 11:34:00</td>\n",
       "      <td>108.0</td>\n",
       "    </tr>\n",
       "    <tr>\n",
       "      <th>43</th>\n",
       "      <td>146</td>\n",
       "      <td>HUP146_phaseII</td>\n",
       "      <td>2017-08-14</td>\n",
       "      <td>07:15:00</td>\n",
       "      <td>2017-08-31 00:00:00</td>\n",
       "      <td>102.1</td>\n",
       "    </tr>\n",
       "    <tr>\n",
       "      <th>44</th>\n",
       "      <td>145</td>\n",
       "      <td>HUP145_phaseII</td>\n",
       "      <td>2017-08-09</td>\n",
       "      <td>07:15:00</td>\n",
       "      <td>2017-08-21 00:00:00</td>\n",
       "      <td>122.9</td>\n",
       "    </tr>\n",
       "    <tr>\n",
       "      <th>45</th>\n",
       "      <td>144</td>\n",
       "      <td>HUP144_phaseII</td>\n",
       "      <td>2017-07-26</td>\n",
       "      <td>07:15:00</td>\n",
       "      <td>2017-08-03 00:00:00</td>\n",
       "      <td>62.8</td>\n",
       "    </tr>\n",
       "    <tr>\n",
       "      <th>46</th>\n",
       "      <td>143</td>\n",
       "      <td>HUP143_phaseII</td>\n",
       "      <td>2017-07-17</td>\n",
       "      <td>07:15:00</td>\n",
       "      <td>2017-07-29 00:00:00</td>\n",
       "      <td>61.5</td>\n",
       "    </tr>\n",
       "    <tr>\n",
       "      <th>47</th>\n",
       "      <td>142</td>\n",
       "      <td>HUP142_phaseII</td>\n",
       "      <td>2017-06-28</td>\n",
       "      <td>07:15:00</td>\n",
       "      <td>2017-07-13 00:00:00</td>\n",
       "      <td>65.3</td>\n",
       "    </tr>\n",
       "    <tr>\n",
       "      <th>48</th>\n",
       "      <td>141</td>\n",
       "      <td>HUP141_phaseII</td>\n",
       "      <td>2017-05-24</td>\n",
       "      <td>07:15:00</td>\n",
       "      <td>2017-06-01 00:00:00</td>\n",
       "      <td>85.7</td>\n",
       "    </tr>\n",
       "    <tr>\n",
       "      <th>49</th>\n",
       "      <td>139</td>\n",
       "      <td>HUP139_phaseII</td>\n",
       "      <td>2017-04-26</td>\n",
       "      <td>07:15:00</td>\n",
       "      <td>2017-05-09 00:00:00</td>\n",
       "      <td>69.8</td>\n",
       "    </tr>\n",
       "    <tr>\n",
       "      <th>50</th>\n",
       "      <td>138</td>\n",
       "      <td>HUP138_phaseII</td>\n",
       "      <td>2017-04-12</td>\n",
       "      <td>07:15:00</td>\n",
       "      <td>2017-04-20 00:00:00</td>\n",
       "      <td>84.4</td>\n",
       "    </tr>\n",
       "  </tbody>\n",
       "</table>\n",
       "</div>"
      ],
      "text/plain": [
       "    hup_id IEEG_Portal_Number Implant_Date implant_time        Explant_Date  \\\n",
       "0      223     HUP223_phaseII   2021-09-29     07:15:00 2021-10-08 08:21:00   \n",
       "1      219     HUP219_phaseII   2021-07-12     07:15:00 2021-07-16 08:18:00   \n",
       "2      217     HUP217_phaseII   2021-05-17     07:15:00 2021-06-04 00:00:00   \n",
       "3      210     HUP210_phaseII   2020-11-30     07:15:00 2020-12-11 00:00:00   \n",
       "4      207     HUP207_phaseII   2020-10-05     07:15:00 2020-10-19 16:10:00   \n",
       "5      206     HUP206_phaseII   2020-08-24     07:15:00 2020-09-09 00:00:00   \n",
       "6      205     HUP205_phaseII   2020-08-10     07:15:00 2020-08-19 08:49:00   \n",
       "7      204     HUP204_phaseII   2020-07-29     07:15:00 2020-08-04 00:00:00   \n",
       "8      202     HUP202_phaseII   2020-07-13     07:15:00 2020-07-22 15:14:00   \n",
       "9      199     HUP199_phaseII   2019-11-13     07:15:00 2019-11-20 00:00:00   \n",
       "10     196     HUP196_phaseII   2019-08-12     07:15:00 2019-08-21 08:06:00   \n",
       "11     192     HUP192_phaseII   2019-04-24     07:15:00 2019-05-03 15:04:00   \n",
       "12     191     HUP191_phaseII   2019-04-15     07:15:00 2019-04-25 00:00:00   \n",
       "13     190     HUP190_phaseII   2019-04-10     07:15:00 2019-04-24 00:00:00   \n",
       "14     189     HUP189_phaseII   2019-04-01     07:15:00 2019-04-05 00:00:00   \n",
       "15     188     HUP188_phaseII   2019-03-13     07:15:00 2019-03-20 00:00:00   \n",
       "16     187     HUP187_phaseII   2019-03-11     07:15:00 2019-03-19 00:00:00   \n",
       "17     186     HUP186_phaseII   2019-02-27     07:15:00 2019-03-08 00:00:00   \n",
       "18     185     HUP185_phaseII   2019-01-21     07:15:00 2019-02-01 00:00:00   \n",
       "19     184     HUP184_phaseII   2019-01-14     07:15:00 2019-01-21 00:00:00   \n",
       "20     182     HUP182_phaseII   2018-12-12     07:15:00 2018-12-24 00:00:00   \n",
       "21     180     HUP180_phaseII   2018-11-05     07:15:00 2018-11-13 00:00:00   \n",
       "22     178     HUP178_phaseII   2018-09-12     07:15:00 2018-09-21 00:00:00   \n",
       "23     177     HUP177_phaseII   2018-08-22     07:15:00 2018-08-31 00:00:00   \n",
       "24     175     HUP175_phaseII   2018-07-16     07:15:00 2018-07-19 00:00:00   \n",
       "25     174     HUP174_phaseII   2018-07-11     07:15:00 2018-07-19 00:00:00   \n",
       "26     173     HUP173_phaseII   2018-07-02     07:15:00 2018-07-13 00:00:00   \n",
       "27     172     HUP172_phaseII   2018-06-16     07:15:00 2018-06-29 00:00:00   \n",
       "28     171     HUP171_phaseII   2018-06-13     07:15:00 2018-06-27 00:00:00   \n",
       "29     170     HUP170_phaseII   2018-05-09     07:15:00 2018-05-16 00:00:00   \n",
       "30     169     HUP169_phaseII   2018-04-30     07:15:00 2018-05-11 00:00:00   \n",
       "31     166     HUP166_phaseII   2018-03-19     07:15:00 2018-03-28 00:00:00   \n",
       "32     165     HUP165_phaseII   2018-03-14     07:15:00 2018-04-04 00:00:00   \n",
       "33     164     HUP164_phaseII   2018-02-19     07:15:00 2018-02-27 00:00:00   \n",
       "34     163     HUP163_phaseII   2018-02-14     07:15:00 2018-02-27 21:05:00   \n",
       "35     161     HUP161_phaseII   2018-01-24     07:15:00 2018-02-08 11:37:00   \n",
       "36     160     HUP160_phaseII   2018-01-17     07:15:00 2018-02-01 00:00:00   \n",
       "37     158     HUP158_phaseII   2017-12-27     07:15:00 2018-01-05 00:00:00   \n",
       "38     157     HUP157_phaseII   2017-12-18     07:15:00 2017-12-27 00:00:00   \n",
       "39     155     HUP155_phaseII   2017-12-07     07:15:00 2017-12-14 00:00:00   \n",
       "40     154     HUP154_phaseII   2017-11-27     07:15:00 2017-12-01 00:00:00   \n",
       "41     151     HUP151_phaseII   2017-10-25     07:15:00 2017-11-03 00:00:00   \n",
       "42     150     HUP150_phaseII   2017-09-27     07:15:00 2017-10-03 11:34:00   \n",
       "43     146     HUP146_phaseII   2017-08-14     07:15:00 2017-08-31 00:00:00   \n",
       "44     145     HUP145_phaseII   2017-08-09     07:15:00 2017-08-21 00:00:00   \n",
       "45     144     HUP144_phaseII   2017-07-26     07:15:00 2017-08-03 00:00:00   \n",
       "46     143     HUP143_phaseII   2017-07-17     07:15:00 2017-07-29 00:00:00   \n",
       "47     142     HUP142_phaseII   2017-06-28     07:15:00 2017-07-13 00:00:00   \n",
       "48     141     HUP141_phaseII   2017-05-24     07:15:00 2017-06-01 00:00:00   \n",
       "49     139     HUP139_phaseII   2017-04-26     07:15:00 2017-05-09 00:00:00   \n",
       "50     138     HUP138_phaseII   2017-04-12     07:15:00 2017-04-20 00:00:00   \n",
       "\n",
       "    weight_kg  \n",
       "0       101.4  \n",
       "1       101.6  \n",
       "2        58.5  \n",
       "3        66.6  \n",
       "4       114.8  \n",
       "5        97.3  \n",
       "6        53.7  \n",
       "7        82.1  \n",
       "8        89.0  \n",
       "9        64.9  \n",
       "10       60.8  \n",
       "11       49.4  \n",
       "12       97.1  \n",
       "13      105.4  \n",
       "14       92.7  \n",
       "15       70.7  \n",
       "16       86.2  \n",
       "17       64.9  \n",
       "18       76.2  \n",
       "19       90.7  \n",
       "20       55.8  \n",
       "21       51.3  \n",
       "22       79.4  \n",
       "23       88.4  \n",
       "24       61.7  \n",
       "25       70.6  \n",
       "26       76.6  \n",
       "27      109.4  \n",
       "28      107.2  \n",
       "29       63.5  \n",
       "30       62.2  \n",
       "31       60.3  \n",
       "32       95.3  \n",
       "33       95.3  \n",
       "34       82.1  \n",
       "35       96.2  \n",
       "36       80.6  \n",
       "37       79.4  \n",
       "38       74.8  \n",
       "39       68.9  \n",
       "40       62.6  \n",
       "41       81.6  \n",
       "42      108.0  \n",
       "43      102.1  \n",
       "44      122.9  \n",
       "45       62.8  \n",
       "46       61.5  \n",
       "47       65.3  \n",
       "48       85.7  \n",
       "49       69.8  \n",
       "50       84.4  "
      ]
     },
     "execution_count": 15,
     "metadata": {},
     "output_type": "execute_result"
    }
   ],
   "source": [
    "# Only keep the rows in patients_df that correspond to the completed_hup_ids\n",
    "patients_df = patients_df[patients_df[\"hup_id\"].isin(completed_hup_ids)]\n",
    "# reset the index of patients_df\n",
    "patients_df = patients_df.reset_index(drop=True)\n",
    "patients_df"
   ]
  },
  {
   "cell_type": "code",
   "execution_count": 16,
   "metadata": {},
   "outputs": [
    {
     "data": {
      "text/html": [
       "<div>\n",
       "<style scoped>\n",
       "    .dataframe tbody tr th:only-of-type {\n",
       "        vertical-align: middle;\n",
       "    }\n",
       "\n",
       "    .dataframe tbody tr th {\n",
       "        vertical-align: top;\n",
       "    }\n",
       "\n",
       "    .dataframe thead th {\n",
       "        text-align: right;\n",
       "    }\n",
       "</style>\n",
       "<table border=\"1\" class=\"dataframe\">\n",
       "  <thead>\n",
       "    <tr style=\"text-align: right;\">\n",
       "      <th></th>\n",
       "      <th>hup_id</th>\n",
       "      <th>ieeg_offset_1</th>\n",
       "      <th>ieeg_offset_2</th>\n",
       "      <th>ieeg_offset_3</th>\n",
       "      <th>ieeg_offset_4</th>\n",
       "    </tr>\n",
       "  </thead>\n",
       "  <tbody>\n",
       "    <tr>\n",
       "      <th>0</th>\n",
       "      <td>225</td>\n",
       "      <td>136590</td>\n",
       "      <td>NaN</td>\n",
       "      <td>NaN</td>\n",
       "      <td>NaN</td>\n",
       "    </tr>\n",
       "    <tr>\n",
       "      <th>1</th>\n",
       "      <td>224</td>\n",
       "      <td>135178</td>\n",
       "      <td>NaN</td>\n",
       "      <td>NaN</td>\n",
       "      <td>NaN</td>\n",
       "    </tr>\n",
       "    <tr>\n",
       "      <th>2</th>\n",
       "      <td>223</td>\n",
       "      <td>118454</td>\n",
       "      <td>NaN</td>\n",
       "      <td>NaN</td>\n",
       "      <td>NaN</td>\n",
       "    </tr>\n",
       "    <tr>\n",
       "      <th>3</th>\n",
       "      <td>221</td>\n",
       "      <td>135123</td>\n",
       "      <td>NaN</td>\n",
       "      <td>NaN</td>\n",
       "      <td>NaN</td>\n",
       "    </tr>\n",
       "    <tr>\n",
       "      <th>4</th>\n",
       "      <td>219</td>\n",
       "      <td>119758</td>\n",
       "      <td>NaN</td>\n",
       "      <td>NaN</td>\n",
       "      <td>NaN</td>\n",
       "    </tr>\n",
       "    <tr>\n",
       "      <th>...</th>\n",
       "      <td>...</td>\n",
       "      <td>...</td>\n",
       "      <td>...</td>\n",
       "      <td>...</td>\n",
       "      <td>...</td>\n",
       "    </tr>\n",
       "    <tr>\n",
       "      <th>75</th>\n",
       "      <td>141</td>\n",
       "      <td>133760</td>\n",
       "      <td>NaN</td>\n",
       "      <td>NaN</td>\n",
       "      <td>NaN</td>\n",
       "    </tr>\n",
       "    <tr>\n",
       "      <th>76</th>\n",
       "      <td>140</td>\n",
       "      <td>126678</td>\n",
       "      <td>283535.0</td>\n",
       "      <td>NaN</td>\n",
       "      <td>NaN</td>\n",
       "    </tr>\n",
       "    <tr>\n",
       "      <th>77</th>\n",
       "      <td>139</td>\n",
       "      <td>133613</td>\n",
       "      <td>NaN</td>\n",
       "      <td>NaN</td>\n",
       "      <td>NaN</td>\n",
       "    </tr>\n",
       "    <tr>\n",
       "      <th>78</th>\n",
       "      <td>138</td>\n",
       "      <td>134989</td>\n",
       "      <td>NaN</td>\n",
       "      <td>NaN</td>\n",
       "      <td>NaN</td>\n",
       "    </tr>\n",
       "    <tr>\n",
       "      <th>79</th>\n",
       "      <td>137</td>\n",
       "      <td>48893</td>\n",
       "      <td>370830.0</td>\n",
       "      <td>NaN</td>\n",
       "      <td>NaN</td>\n",
       "    </tr>\n",
       "  </tbody>\n",
       "</table>\n",
       "<p>80 rows × 5 columns</p>\n",
       "</div>"
      ],
      "text/plain": [
       "    hup_id  ieeg_offset_1  ieeg_offset_2  ieeg_offset_3  ieeg_offset_4\n",
       "0      225         136590            NaN            NaN            NaN\n",
       "1      224         135178            NaN            NaN            NaN\n",
       "2      223         118454            NaN            NaN            NaN\n",
       "3      221         135123            NaN            NaN            NaN\n",
       "4      219         119758            NaN            NaN            NaN\n",
       "..     ...            ...            ...            ...            ...\n",
       "75     141         133760            NaN            NaN            NaN\n",
       "76     140         126678       283535.0            NaN            NaN\n",
       "77     139         133613            NaN            NaN            NaN\n",
       "78     138         134989            NaN            NaN            NaN\n",
       "79     137          48893       370830.0            NaN            NaN\n",
       "\n",
       "[80 rows x 5 columns]"
      ]
     },
     "execution_count": 16,
     "metadata": {},
     "output_type": "execute_result"
    }
   ],
   "source": [
    "ieeg_offset_df = pd.read_excel(\"../../Data/ieeg_offset_new.xlsx\")\n",
    "ieeg_offset_df"
   ]
  },
  {
   "cell_type": "code",
   "execution_count": 17,
   "metadata": {},
   "outputs": [
    {
     "data": {
      "text/plain": [
       "array(['brivaracetam', 'carbamazepine', 'clobazam', 'clonazepam',\n",
       "       'eslicarbazepine', 'felbamate', 'gabapentin', 'lacosamide',\n",
       "       'lamotrigine', 'levetiracetam', 'lorazepam', 'oxcarbazepine',\n",
       "       'phenytoin', 'pregabalin', 'rufinamide', 'topiramate',\n",
       "       'valproic acid', 'zonisamide'], dtype='<U15')"
      ]
     },
     "execution_count": 17,
     "metadata": {},
     "output_type": "execute_result"
    }
   ],
   "source": [
    "all_med_names = []\n",
    "\n",
    "for i, row in patients_df.iterrows():\n",
    "    # Get patient id and weight\n",
    "    patient_hup_id = row.hup_id\n",
    "\n",
    "    # Load HUP_{patient_hup_id}.npy from ../../Data/medications\n",
    "    aed_np_file = np.load(\n",
    "        f\"../../Data/medications/HUP_{patient_hup_id}.npy\", allow_pickle=True\n",
    "    )\n",
    "\n",
    "    all_dose_curves_plot = aed_np_file[0]\n",
    "    all_tHr_plot = aed_np_file[1]\n",
    "    all_med_names_plot = aed_np_file[2]\n",
    "\n",
    "    # Plot dose curves\n",
    "    for med_name in all_med_names_plot:\n",
    "        all_med_names.append(med_name)\n",
    "\n",
    "all_med_names = np.unique(np.array(all_med_names, dtype=str))\n",
    "all_med_names"
   ]
  },
  {
   "cell_type": "code",
   "execution_count": 18,
   "metadata": {},
   "outputs": [
    {
     "name": "stdout",
     "output_type": "stream",
     "text": [
      "['mg/L' 'ug/mL' 'ng/mL']\n"
     ]
    },
    {
     "data": {
      "text/html": [
       "<div>\n",
       "<style scoped>\n",
       "    .dataframe tbody tr th:only-of-type {\n",
       "        vertical-align: middle;\n",
       "    }\n",
       "\n",
       "    .dataframe tbody tr th {\n",
       "        vertical-align: top;\n",
       "    }\n",
       "\n",
       "    .dataframe thead th {\n",
       "        text-align: right;\n",
       "    }\n",
       "</style>\n",
       "<table border=\"1\" class=\"dataframe\">\n",
       "  <thead>\n",
       "    <tr style=\"text-align: right;\">\n",
       "      <th></th>\n",
       "      <th>Drug</th>\n",
       "      <th>Min</th>\n",
       "      <th>Max</th>\n",
       "      <th>Unit</th>\n",
       "      <th>Avg</th>\n",
       "    </tr>\n",
       "  </thead>\n",
       "  <tbody>\n",
       "    <tr>\n",
       "      <th>0</th>\n",
       "      <td>levetiracetam</td>\n",
       "      <td>12.00</td>\n",
       "      <td>46.00</td>\n",
       "      <td>mg/L</td>\n",
       "      <td>29.000</td>\n",
       "    </tr>\n",
       "    <tr>\n",
       "      <th>1</th>\n",
       "      <td>carbamazepine</td>\n",
       "      <td>4.00</td>\n",
       "      <td>10.00</td>\n",
       "      <td>mg/L</td>\n",
       "      <td>7.000</td>\n",
       "    </tr>\n",
       "    <tr>\n",
       "      <th>2</th>\n",
       "      <td>oxcarbazepine</td>\n",
       "      <td>3.00</td>\n",
       "      <td>35.00</td>\n",
       "      <td>ug/mL</td>\n",
       "      <td>19.000</td>\n",
       "    </tr>\n",
       "    <tr>\n",
       "      <th>3</th>\n",
       "      <td>clobazam</td>\n",
       "      <td>0.03</td>\n",
       "      <td>0.30</td>\n",
       "      <td>ng/mL</td>\n",
       "      <td>0.165</td>\n",
       "    </tr>\n",
       "    <tr>\n",
       "      <th>4</th>\n",
       "      <td>n-desmethylclobazam</td>\n",
       "      <td>0.30</td>\n",
       "      <td>3.00</td>\n",
       "      <td>ng/mL</td>\n",
       "      <td>1.650</td>\n",
       "    </tr>\n",
       "    <tr>\n",
       "      <th>5</th>\n",
       "      <td>topiramate</td>\n",
       "      <td>5.00</td>\n",
       "      <td>20.00</td>\n",
       "      <td>mg/L</td>\n",
       "      <td>12.500</td>\n",
       "    </tr>\n",
       "    <tr>\n",
       "      <th>6</th>\n",
       "      <td>valproic acid</td>\n",
       "      <td>50.00</td>\n",
       "      <td>125.00</td>\n",
       "      <td>ug/mL</td>\n",
       "      <td>87.500</td>\n",
       "    </tr>\n",
       "    <tr>\n",
       "      <th>7</th>\n",
       "      <td>lacosamide</td>\n",
       "      <td>1.00</td>\n",
       "      <td>10.00</td>\n",
       "      <td>ug/mL</td>\n",
       "      <td>5.500</td>\n",
       "    </tr>\n",
       "    <tr>\n",
       "      <th>8</th>\n",
       "      <td>felbamate</td>\n",
       "      <td>30.00</td>\n",
       "      <td>60.00</td>\n",
       "      <td>ug/mL</td>\n",
       "      <td>45.000</td>\n",
       "    </tr>\n",
       "    <tr>\n",
       "      <th>9</th>\n",
       "      <td>lamotrigine</td>\n",
       "      <td>2.50</td>\n",
       "      <td>15.00</td>\n",
       "      <td>mg/L</td>\n",
       "      <td>8.750</td>\n",
       "    </tr>\n",
       "    <tr>\n",
       "      <th>10</th>\n",
       "      <td>clonazepam</td>\n",
       "      <td>0.02</td>\n",
       "      <td>0.07</td>\n",
       "      <td>ng/mL</td>\n",
       "      <td>0.045</td>\n",
       "    </tr>\n",
       "    <tr>\n",
       "      <th>11</th>\n",
       "      <td>zonisamide</td>\n",
       "      <td>10.00</td>\n",
       "      <td>40.00</td>\n",
       "      <td>mg/L</td>\n",
       "      <td>25.000</td>\n",
       "    </tr>\n",
       "    <tr>\n",
       "      <th>12</th>\n",
       "      <td>pregabalin</td>\n",
       "      <td>2.00</td>\n",
       "      <td>10.00</td>\n",
       "      <td>ug/mL</td>\n",
       "      <td>6.000</td>\n",
       "    </tr>\n",
       "    <tr>\n",
       "      <th>13</th>\n",
       "      <td>phenytoin</td>\n",
       "      <td>10.00</td>\n",
       "      <td>20.00</td>\n",
       "      <td>ug/mL</td>\n",
       "      <td>15.000</td>\n",
       "    </tr>\n",
       "    <tr>\n",
       "      <th>14</th>\n",
       "      <td>brivaracetam</td>\n",
       "      <td>0.20</td>\n",
       "      <td>2.00</td>\n",
       "      <td>ug/mL</td>\n",
       "      <td>1.100</td>\n",
       "    </tr>\n",
       "    <tr>\n",
       "      <th>15</th>\n",
       "      <td>eslicarbazepine</td>\n",
       "      <td>3.00</td>\n",
       "      <td>26.00</td>\n",
       "      <td>mg/L</td>\n",
       "      <td>14.500</td>\n",
       "    </tr>\n",
       "    <tr>\n",
       "      <th>16</th>\n",
       "      <td>gabapentin</td>\n",
       "      <td>3.00</td>\n",
       "      <td>21.00</td>\n",
       "      <td>mg/L</td>\n",
       "      <td>12.000</td>\n",
       "    </tr>\n",
       "    <tr>\n",
       "      <th>17</th>\n",
       "      <td>rufinamide</td>\n",
       "      <td>4.00</td>\n",
       "      <td>31.00</td>\n",
       "      <td>mg/L</td>\n",
       "      <td>17.500</td>\n",
       "    </tr>\n",
       "  </tbody>\n",
       "</table>\n",
       "</div>"
      ],
      "text/plain": [
       "                   Drug    Min     Max   Unit     Avg\n",
       "0         levetiracetam  12.00   46.00   mg/L  29.000\n",
       "1         carbamazepine   4.00   10.00   mg/L   7.000\n",
       "2         oxcarbazepine   3.00   35.00  ug/mL  19.000\n",
       "3              clobazam   0.03    0.30  ng/mL   0.165\n",
       "4   n-desmethylclobazam   0.30    3.00  ng/mL   1.650\n",
       "5            topiramate   5.00   20.00   mg/L  12.500\n",
       "6         valproic acid  50.00  125.00  ug/mL  87.500\n",
       "7            lacosamide   1.00   10.00  ug/mL   5.500\n",
       "8             felbamate  30.00   60.00  ug/mL  45.000\n",
       "9           lamotrigine   2.50   15.00   mg/L   8.750\n",
       "10           clonazepam   0.02    0.07  ng/mL   0.045\n",
       "11           zonisamide  10.00   40.00   mg/L  25.000\n",
       "12           pregabalin   2.00   10.00  ug/mL   6.000\n",
       "13            phenytoin  10.00   20.00  ug/mL  15.000\n",
       "14         brivaracetam   0.20    2.00  ug/mL   1.100\n",
       "15      eslicarbazepine   3.00   26.00   mg/L  14.500\n",
       "16           gabapentin   3.00   21.00   mg/L  12.000\n",
       "17           rufinamide   4.00   31.00   mg/L  17.500"
      ]
     },
     "execution_count": 18,
     "metadata": {},
     "output_type": "execute_result"
    }
   ],
   "source": [
    "# Load aed_ref_ranges.xlsx from ./data/\n",
    "aed_ref_ranges_df = pd.read_excel(\"../../Data/aed_ref_ranges.xlsx\")\n",
    "# Lowercase Drug column\n",
    "aed_ref_ranges_df[\"Drug\"] = aed_ref_ranges_df[\"Drug\"].str.lower()\n",
    "# show unique units\n",
    "print(aed_ref_ranges_df[\"Unit\"].unique())\n",
    "# mg/L and ug/mL are the same\n",
    "# If Unit is ng/mL, convert to ug/mL\n",
    "aed_ref_ranges_df.loc[aed_ref_ranges_df[\"Unit\"] == \"ng/mL\", \"Min\"] = (\n",
    "    aed_ref_ranges_df[\"Min\"] / 1000\n",
    ")\n",
    "aed_ref_ranges_df.loc[aed_ref_ranges_df[\"Unit\"] == \"ng/mL\", \"Max\"] = (\n",
    "    aed_ref_ranges_df[\"Max\"] / 1000\n",
    ")\n",
    "# Add a column that takes the average of Min and Max\n",
    "aed_ref_ranges_df[\"Avg\"] = (aed_ref_ranges_df[\"Min\"] + aed_ref_ranges_df[\"Max\"]) / 2\n",
    "aed_ref_ranges_df"
   ]
  },
  {
   "cell_type": "code",
   "execution_count": 19,
   "metadata": {},
   "outputs": [],
   "source": [
    "# frequency_bands = [\"broadband\", \"60_100\", \"100_125\"]\n",
    "frequency_bands = [\"broadband\"]"
   ]
  },
  {
   "cell_type": "code",
   "execution_count": 20,
   "metadata": {},
   "outputs": [
    {
     "name": "stdout",
     "output_type": "stream",
     "text": [
      "Processing HUP 223\n",
      "ieeg_offset_seconds: 118454.0\n"
     ]
    },
    {
     "name": "stderr",
     "output_type": "stream",
     "text": [
      "/tmp/ipykernel_50756/1984501546.py:209: RuntimeWarning: Mean of empty slice\n",
      "  ad_ratio = np.nanmean(ad_ratio, axis=0)\n"
     ]
    },
    {
     "name": "stdout",
     "output_type": "stream",
     "text": [
      "Processing HUP 219\n",
      "ieeg_offset_seconds: 119758.0\n"
     ]
    },
    {
     "name": "stderr",
     "output_type": "stream",
     "text": [
      "/tmp/ipykernel_50756/1984501546.py:209: RuntimeWarning: Mean of empty slice\n",
      "  ad_ratio = np.nanmean(ad_ratio, axis=0)\n"
     ]
    },
    {
     "name": "stdout",
     "output_type": "stream",
     "text": [
      "Processing HUP 217\n",
      "ieeg_offset_seconds: 143982.0\n"
     ]
    },
    {
     "name": "stderr",
     "output_type": "stream",
     "text": [
      "/tmp/ipykernel_50756/1984501546.py:209: RuntimeWarning: Mean of empty slice\n",
      "  ad_ratio = np.nanmean(ad_ratio, axis=0)\n"
     ]
    },
    {
     "name": "stdout",
     "output_type": "stream",
     "text": [
      "Processing HUP 210\n",
      "ieeg_offset_seconds: 53647.0\n",
      "start_index is actually 0...\n"
     ]
    },
    {
     "name": "stderr",
     "output_type": "stream",
     "text": [
      "/tmp/ipykernel_50756/1984501546.py:209: RuntimeWarning: Mean of empty slice\n",
      "  ad_ratio = np.nanmean(ad_ratio, axis=0)\n",
      "/tmp/ipykernel_50756/1984501546.py:238: DeprecationWarning: In a future version, `df.iloc[:, i] = newvals` will attempt to set the values inplace instead of always setting a new array. To retain the old behavior, use either `df[df.columns[i]] = newvals` or, if columns are non-unique, `df.isetitem(i, newvals)`\n",
      "  hourly_patient_features_df.iloc[\n"
     ]
    },
    {
     "name": "stdout",
     "output_type": "stream",
     "text": [
      "Processing HUP 207\n",
      "ieeg_offset_seconds: 71206.0\n",
      "start_index is actually 0...\n"
     ]
    },
    {
     "name": "stderr",
     "output_type": "stream",
     "text": [
      "/tmp/ipykernel_50756/1984501546.py:209: RuntimeWarning: Mean of empty slice\n",
      "  ad_ratio = np.nanmean(ad_ratio, axis=0)\n",
      "/tmp/ipykernel_50756/1984501546.py:238: DeprecationWarning: In a future version, `df.iloc[:, i] = newvals` will attempt to set the values inplace instead of always setting a new array. To retain the old behavior, use either `df[df.columns[i]] = newvals` or, if columns are non-unique, `df.isetitem(i, newvals)`\n",
      "  hourly_patient_features_df.iloc[\n"
     ]
    },
    {
     "name": "stdout",
     "output_type": "stream",
     "text": [
      "Processing HUP 206\n",
      "ieeg_offset_seconds: 68154.0\n"
     ]
    },
    {
     "name": "stderr",
     "output_type": "stream",
     "text": [
      "/tmp/ipykernel_50756/1984501546.py:209: RuntimeWarning: Mean of empty slice\n",
      "  ad_ratio = np.nanmean(ad_ratio, axis=0)\n"
     ]
    },
    {
     "name": "stdout",
     "output_type": "stream",
     "text": [
      "Processing HUP 205\n",
      "ieeg_offset_seconds: 61053.0\n",
      "start_index is actually 0...\n"
     ]
    },
    {
     "name": "stderr",
     "output_type": "stream",
     "text": [
      "/tmp/ipykernel_50756/1984501546.py:209: RuntimeWarning: Mean of empty slice\n",
      "  ad_ratio = np.nanmean(ad_ratio, axis=0)\n"
     ]
    },
    {
     "name": "stdout",
     "output_type": "stream",
     "text": [
      "Processing HUP 204\n",
      "ieeg_offset_seconds: 125793.0\n"
     ]
    },
    {
     "name": "stderr",
     "output_type": "stream",
     "text": [
      "/tmp/ipykernel_50756/1984501546.py:209: RuntimeWarning: Mean of empty slice\n",
      "  ad_ratio = np.nanmean(ad_ratio, axis=0)\n"
     ]
    },
    {
     "name": "stdout",
     "output_type": "stream",
     "text": [
      "Processing HUP 202\n",
      "ieeg_offset_seconds: 139096.0\n"
     ]
    },
    {
     "name": "stderr",
     "output_type": "stream",
     "text": [
      "/tmp/ipykernel_50756/1984501546.py:209: RuntimeWarning: Mean of empty slice\n",
      "  ad_ratio = np.nanmean(ad_ratio, axis=0)\n"
     ]
    },
    {
     "name": "stdout",
     "output_type": "stream",
     "text": [
      "Processing HUP 199\n",
      "ieeg_offset_seconds: 123863.0\n"
     ]
    },
    {
     "name": "stderr",
     "output_type": "stream",
     "text": [
      "/tmp/ipykernel_50756/1984501546.py:209: RuntimeWarning: Mean of empty slice\n",
      "  ad_ratio = np.nanmean(ad_ratio, axis=0)\n"
     ]
    },
    {
     "name": "stdout",
     "output_type": "stream",
     "text": [
      "Processing HUP 196\n",
      "ieeg_offset_seconds: 134453.0\n"
     ]
    },
    {
     "name": "stderr",
     "output_type": "stream",
     "text": [
      "/tmp/ipykernel_50756/1984501546.py:209: RuntimeWarning: Mean of empty slice\n",
      "  ad_ratio = np.nanmean(ad_ratio, axis=0)\n"
     ]
    },
    {
     "name": "stdout",
     "output_type": "stream",
     "text": [
      "Processing HUP 192\n",
      "ieeg_offset_seconds: 127524.0\n"
     ]
    },
    {
     "name": "stderr",
     "output_type": "stream",
     "text": [
      "/tmp/ipykernel_50756/1984501546.py:209: RuntimeWarning: Mean of empty slice\n",
      "  ad_ratio = np.nanmean(ad_ratio, axis=0)\n"
     ]
    },
    {
     "name": "stdout",
     "output_type": "stream",
     "text": [
      "Processing HUP 191\n",
      "ieeg_offset_seconds: 138603.0\n"
     ]
    },
    {
     "name": "stderr",
     "output_type": "stream",
     "text": [
      "/tmp/ipykernel_50756/1984501546.py:209: RuntimeWarning: Mean of empty slice\n",
      "  ad_ratio = np.nanmean(ad_ratio, axis=0)\n"
     ]
    },
    {
     "name": "stdout",
     "output_type": "stream",
     "text": [
      "Processing HUP 190\n",
      "ieeg_offset_seconds: 142679.0\n"
     ]
    },
    {
     "name": "stderr",
     "output_type": "stream",
     "text": [
      "/tmp/ipykernel_50756/1984501546.py:209: RuntimeWarning: Mean of empty slice\n",
      "  ad_ratio = np.nanmean(ad_ratio, axis=0)\n"
     ]
    },
    {
     "name": "stdout",
     "output_type": "stream",
     "text": [
      "Processing HUP 189\n",
      "ieeg_offset_seconds: 123901.0\n"
     ]
    },
    {
     "name": "stderr",
     "output_type": "stream",
     "text": [
      "/tmp/ipykernel_50756/1984501546.py:209: RuntimeWarning: Mean of empty slice\n",
      "  ad_ratio = np.nanmean(ad_ratio, axis=0)\n"
     ]
    },
    {
     "name": "stdout",
     "output_type": "stream",
     "text": [
      "Processing HUP 188\n",
      "ieeg_offset_seconds: 152890.0\n"
     ]
    },
    {
     "name": "stderr",
     "output_type": "stream",
     "text": [
      "/tmp/ipykernel_50756/1984501546.py:209: RuntimeWarning: Mean of empty slice\n",
      "  ad_ratio = np.nanmean(ad_ratio, axis=0)\n"
     ]
    },
    {
     "name": "stdout",
     "output_type": "stream",
     "text": [
      "Processing HUP 187\n",
      "ieeg_offset_seconds: 121019.0\n"
     ]
    },
    {
     "name": "stderr",
     "output_type": "stream",
     "text": [
      "/tmp/ipykernel_50756/1984501546.py:209: RuntimeWarning: Mean of empty slice\n",
      "  ad_ratio = np.nanmean(ad_ratio, axis=0)\n"
     ]
    },
    {
     "name": "stdout",
     "output_type": "stream",
     "text": [
      "Processing HUP 186\n",
      "ieeg_offset_seconds: 122672.0\n"
     ]
    },
    {
     "name": "stderr",
     "output_type": "stream",
     "text": [
      "/tmp/ipykernel_50756/1984501546.py:209: RuntimeWarning: Mean of empty slice\n",
      "  ad_ratio = np.nanmean(ad_ratio, axis=0)\n"
     ]
    },
    {
     "name": "stdout",
     "output_type": "stream",
     "text": [
      "Processing HUP 185\n",
      "ieeg_offset_seconds: 135857.0\n"
     ]
    },
    {
     "name": "stderr",
     "output_type": "stream",
     "text": [
      "/tmp/ipykernel_50756/1984501546.py:209: RuntimeWarning: Mean of empty slice\n",
      "  ad_ratio = np.nanmean(ad_ratio, axis=0)\n"
     ]
    },
    {
     "name": "stdout",
     "output_type": "stream",
     "text": [
      "Processing HUP 184\n",
      "ieeg_offset_seconds: 124663.0\n"
     ]
    },
    {
     "name": "stderr",
     "output_type": "stream",
     "text": [
      "/tmp/ipykernel_50756/1984501546.py:209: RuntimeWarning: Mean of empty slice\n",
      "  ad_ratio = np.nanmean(ad_ratio, axis=0)\n"
     ]
    },
    {
     "name": "stdout",
     "output_type": "stream",
     "text": [
      "Processing HUP 182\n",
      "ieeg_offset_seconds: 125950.0\n"
     ]
    },
    {
     "name": "stderr",
     "output_type": "stream",
     "text": [
      "/tmp/ipykernel_50756/1984501546.py:209: RuntimeWarning: Mean of empty slice\n",
      "  ad_ratio = np.nanmean(ad_ratio, axis=0)\n"
     ]
    },
    {
     "name": "stdout",
     "output_type": "stream",
     "text": [
      "Processing HUP 180\n",
      "ieeg_offset_seconds: 136260.0\n"
     ]
    },
    {
     "name": "stderr",
     "output_type": "stream",
     "text": [
      "/tmp/ipykernel_50756/1984501546.py:209: RuntimeWarning: Mean of empty slice\n",
      "  ad_ratio = np.nanmean(ad_ratio, axis=0)\n"
     ]
    },
    {
     "name": "stdout",
     "output_type": "stream",
     "text": [
      "Processing HUP 178\n",
      "ieeg_offset_seconds: 133237.0\n"
     ]
    },
    {
     "name": "stderr",
     "output_type": "stream",
     "text": [
      "/tmp/ipykernel_50756/1984501546.py:209: RuntimeWarning: Mean of empty slice\n",
      "  ad_ratio = np.nanmean(ad_ratio, axis=0)\n"
     ]
    },
    {
     "name": "stdout",
     "output_type": "stream",
     "text": [
      "Processing HUP 177\n",
      "ieeg_offset_seconds: 127780.0\n"
     ]
    },
    {
     "name": "stderr",
     "output_type": "stream",
     "text": [
      "/tmp/ipykernel_50756/1984501546.py:209: RuntimeWarning: Mean of empty slice\n",
      "  ad_ratio = np.nanmean(ad_ratio, axis=0)\n"
     ]
    },
    {
     "name": "stdout",
     "output_type": "stream",
     "text": [
      "Processing HUP 175\n",
      "ieeg_offset_seconds: 140095.0\n"
     ]
    },
    {
     "name": "stderr",
     "output_type": "stream",
     "text": [
      "/tmp/ipykernel_50756/1984501546.py:209: RuntimeWarning: Mean of empty slice\n",
      "  ad_ratio = np.nanmean(ad_ratio, axis=0)\n"
     ]
    },
    {
     "name": "stdout",
     "output_type": "stream",
     "text": [
      "Processing HUP 174\n",
      "ieeg_offset_seconds: 136438.0\n"
     ]
    },
    {
     "name": "stderr",
     "output_type": "stream",
     "text": [
      "/tmp/ipykernel_50756/1984501546.py:209: RuntimeWarning: Mean of empty slice\n",
      "  ad_ratio = np.nanmean(ad_ratio, axis=0)\n"
     ]
    },
    {
     "name": "stdout",
     "output_type": "stream",
     "text": [
      "Processing HUP 173\n",
      "ieeg_offset_seconds: 141119.0\n"
     ]
    },
    {
     "name": "stderr",
     "output_type": "stream",
     "text": [
      "/tmp/ipykernel_50756/1984501546.py:209: RuntimeWarning: Mean of empty slice\n",
      "  ad_ratio = np.nanmean(ad_ratio, axis=0)\n"
     ]
    },
    {
     "name": "stdout",
     "output_type": "stream",
     "text": [
      "Processing HUP 172\n",
      "ieeg_offset_seconds: 143801.0\n"
     ]
    },
    {
     "name": "stderr",
     "output_type": "stream",
     "text": [
      "/tmp/ipykernel_50756/1984501546.py:209: RuntimeWarning: Mean of empty slice\n",
      "  ad_ratio = np.nanmean(ad_ratio, axis=0)\n"
     ]
    },
    {
     "name": "stdout",
     "output_type": "stream",
     "text": [
      "Processing HUP 171\n",
      "ieeg_offset_seconds: 128330.0\n"
     ]
    },
    {
     "name": "stderr",
     "output_type": "stream",
     "text": [
      "/tmp/ipykernel_50756/1984501546.py:209: RuntimeWarning: Mean of empty slice\n",
      "  ad_ratio = np.nanmean(ad_ratio, axis=0)\n"
     ]
    },
    {
     "name": "stdout",
     "output_type": "stream",
     "text": [
      "Processing HUP 170\n",
      "ieeg_offset_seconds: 137359.0\n"
     ]
    },
    {
     "name": "stderr",
     "output_type": "stream",
     "text": [
      "/tmp/ipykernel_50756/1984501546.py:209: RuntimeWarning: Mean of empty slice\n",
      "  ad_ratio = np.nanmean(ad_ratio, axis=0)\n"
     ]
    },
    {
     "name": "stdout",
     "output_type": "stream",
     "text": [
      "Processing HUP 169\n",
      "ieeg_offset_seconds: 214307.0\n"
     ]
    },
    {
     "name": "stderr",
     "output_type": "stream",
     "text": [
      "/tmp/ipykernel_50756/1984501546.py:209: RuntimeWarning: Mean of empty slice\n",
      "  ad_ratio = np.nanmean(ad_ratio, axis=0)\n"
     ]
    },
    {
     "name": "stdout",
     "output_type": "stream",
     "text": [
      "Processing HUP 166\n",
      "ieeg_offset_seconds: 132768.0\n"
     ]
    },
    {
     "name": "stderr",
     "output_type": "stream",
     "text": [
      "/tmp/ipykernel_50756/1984501546.py:209: RuntimeWarning: Mean of empty slice\n",
      "  ad_ratio = np.nanmean(ad_ratio, axis=0)\n"
     ]
    },
    {
     "name": "stdout",
     "output_type": "stream",
     "text": [
      "Processing HUP 165\n",
      "ieeg_offset_seconds: 128821.0\n"
     ]
    },
    {
     "name": "stderr",
     "output_type": "stream",
     "text": [
      "/tmp/ipykernel_50756/1984501546.py:209: RuntimeWarning: Mean of empty slice\n",
      "  ad_ratio = np.nanmean(ad_ratio, axis=0)\n"
     ]
    },
    {
     "name": "stdout",
     "output_type": "stream",
     "text": [
      "Processing HUP 164\n",
      "ieeg_offset_seconds: 48069.0\n"
     ]
    },
    {
     "name": "stderr",
     "output_type": "stream",
     "text": [
      "/tmp/ipykernel_50756/1984501546.py:209: RuntimeWarning: Mean of empty slice\n",
      "  ad_ratio = np.nanmean(ad_ratio, axis=0)\n"
     ]
    },
    {
     "name": "stdout",
     "output_type": "stream",
     "text": [
      "Processing HUP 163\n",
      "ieeg_offset_seconds: 137432.0\n"
     ]
    },
    {
     "name": "stderr",
     "output_type": "stream",
     "text": [
      "/tmp/ipykernel_50756/1984501546.py:209: RuntimeWarning: Mean of empty slice\n",
      "  ad_ratio = np.nanmean(ad_ratio, axis=0)\n"
     ]
    },
    {
     "name": "stdout",
     "output_type": "stream",
     "text": [
      "Processing HUP 161\n",
      "ieeg_offset_seconds: 126905.0\n"
     ]
    },
    {
     "name": "stderr",
     "output_type": "stream",
     "text": [
      "/tmp/ipykernel_50756/1984501546.py:209: RuntimeWarning: Mean of empty slice\n",
      "  ad_ratio = np.nanmean(ad_ratio, axis=0)\n"
     ]
    },
    {
     "name": "stdout",
     "output_type": "stream",
     "text": [
      "Processing HUP 160\n",
      "ieeg_offset_seconds: 127579.0\n"
     ]
    },
    {
     "name": "stderr",
     "output_type": "stream",
     "text": [
      "/tmp/ipykernel_50756/1984501546.py:209: RuntimeWarning: Mean of empty slice\n",
      "  ad_ratio = np.nanmean(ad_ratio, axis=0)\n"
     ]
    },
    {
     "name": "stdout",
     "output_type": "stream",
     "text": [
      "Processing HUP 158\n",
      "ieeg_offset_seconds: 130381.0\n"
     ]
    },
    {
     "name": "stderr",
     "output_type": "stream",
     "text": [
      "/tmp/ipykernel_50756/1984501546.py:209: RuntimeWarning: Mean of empty slice\n",
      "  ad_ratio = np.nanmean(ad_ratio, axis=0)\n"
     ]
    },
    {
     "name": "stdout",
     "output_type": "stream",
     "text": [
      "Processing HUP 157\n",
      "ieeg_offset_seconds: 133791.0\n"
     ]
    },
    {
     "name": "stderr",
     "output_type": "stream",
     "text": [
      "/tmp/ipykernel_50756/1984501546.py:209: RuntimeWarning: Mean of empty slice\n",
      "  ad_ratio = np.nanmean(ad_ratio, axis=0)\n"
     ]
    },
    {
     "name": "stdout",
     "output_type": "stream",
     "text": [
      "Processing HUP 155\n",
      "ieeg_offset_seconds: 130071.0\n"
     ]
    },
    {
     "name": "stderr",
     "output_type": "stream",
     "text": [
      "/tmp/ipykernel_50756/1984501546.py:209: RuntimeWarning: Mean of empty slice\n",
      "  ad_ratio = np.nanmean(ad_ratio, axis=0)\n"
     ]
    },
    {
     "name": "stdout",
     "output_type": "stream",
     "text": [
      "Processing HUP 154\n",
      "ieeg_offset_seconds: 131918.0\n"
     ]
    },
    {
     "name": "stderr",
     "output_type": "stream",
     "text": [
      "/tmp/ipykernel_50756/1984501546.py:209: RuntimeWarning: Mean of empty slice\n",
      "  ad_ratio = np.nanmean(ad_ratio, axis=0)\n"
     ]
    },
    {
     "name": "stdout",
     "output_type": "stream",
     "text": [
      "Processing HUP 151\n",
      "ieeg_offset_seconds: 138542.0\n"
     ]
    },
    {
     "name": "stderr",
     "output_type": "stream",
     "text": [
      "/tmp/ipykernel_50756/1984501546.py:209: RuntimeWarning: Mean of empty slice\n",
      "  ad_ratio = np.nanmean(ad_ratio, axis=0)\n"
     ]
    },
    {
     "name": "stdout",
     "output_type": "stream",
     "text": [
      "Processing HUP 150\n",
      "ieeg_offset_seconds: 132973.0\n"
     ]
    },
    {
     "name": "stderr",
     "output_type": "stream",
     "text": [
      "/tmp/ipykernel_50756/1984501546.py:209: RuntimeWarning: Mean of empty slice\n",
      "  ad_ratio = np.nanmean(ad_ratio, axis=0)\n"
     ]
    },
    {
     "name": "stdout",
     "output_type": "stream",
     "text": [
      "Processing HUP 146\n",
      "ieeg_offset_seconds: 126101.0\n"
     ]
    },
    {
     "name": "stderr",
     "output_type": "stream",
     "text": [
      "/tmp/ipykernel_50756/1984501546.py:209: RuntimeWarning: Mean of empty slice\n",
      "  ad_ratio = np.nanmean(ad_ratio, axis=0)\n"
     ]
    },
    {
     "name": "stdout",
     "output_type": "stream",
     "text": [
      "Processing HUP 145\n",
      "ieeg_offset_seconds: 137942.0\n"
     ]
    },
    {
     "name": "stderr",
     "output_type": "stream",
     "text": [
      "/tmp/ipykernel_50756/1984501546.py:209: RuntimeWarning: Mean of empty slice\n",
      "  ad_ratio = np.nanmean(ad_ratio, axis=0)\n"
     ]
    },
    {
     "name": "stdout",
     "output_type": "stream",
     "text": [
      "Processing HUP 144\n",
      "ieeg_offset_seconds: 134705.0\n"
     ]
    },
    {
     "name": "stderr",
     "output_type": "stream",
     "text": [
      "/tmp/ipykernel_50756/1984501546.py:209: RuntimeWarning: Mean of empty slice\n",
      "  ad_ratio = np.nanmean(ad_ratio, axis=0)\n"
     ]
    },
    {
     "name": "stdout",
     "output_type": "stream",
     "text": [
      "Processing HUP 143\n",
      "ieeg_offset_seconds: 130560.0\n"
     ]
    },
    {
     "name": "stderr",
     "output_type": "stream",
     "text": [
      "/tmp/ipykernel_50756/1984501546.py:209: RuntimeWarning: Mean of empty slice\n",
      "  ad_ratio = np.nanmean(ad_ratio, axis=0)\n"
     ]
    },
    {
     "name": "stdout",
     "output_type": "stream",
     "text": [
      "Processing HUP 142\n",
      "ieeg_offset_seconds: 127857.0\n"
     ]
    },
    {
     "name": "stderr",
     "output_type": "stream",
     "text": [
      "/tmp/ipykernel_50756/1984501546.py:209: RuntimeWarning: Mean of empty slice\n",
      "  ad_ratio = np.nanmean(ad_ratio, axis=0)\n"
     ]
    },
    {
     "name": "stdout",
     "output_type": "stream",
     "text": [
      "Processing HUP 141\n",
      "ieeg_offset_seconds: 133760.0\n"
     ]
    },
    {
     "name": "stderr",
     "output_type": "stream",
     "text": [
      "/tmp/ipykernel_50756/1984501546.py:209: RuntimeWarning: Mean of empty slice\n",
      "  ad_ratio = np.nanmean(ad_ratio, axis=0)\n"
     ]
    },
    {
     "name": "stdout",
     "output_type": "stream",
     "text": [
      "Processing HUP 139\n",
      "ieeg_offset_seconds: 133613.0\n"
     ]
    },
    {
     "name": "stderr",
     "output_type": "stream",
     "text": [
      "/tmp/ipykernel_50756/1984501546.py:209: RuntimeWarning: Mean of empty slice\n",
      "  ad_ratio = np.nanmean(ad_ratio, axis=0)\n"
     ]
    },
    {
     "name": "stdout",
     "output_type": "stream",
     "text": [
      "Processing HUP 138\n",
      "ieeg_offset_seconds: 134989.0\n"
     ]
    },
    {
     "name": "stderr",
     "output_type": "stream",
     "text": [
      "/tmp/ipykernel_50756/1984501546.py:209: RuntimeWarning: Mean of empty slice\n",
      "  ad_ratio = np.nanmean(ad_ratio, axis=0)\n"
     ]
    }
   ],
   "source": [
    "for i, row in patients_df.iterrows():\n",
    "    # Get patient id and weight\n",
    "    patient_hup_id, patient_weight = row.hup_id, row.weight_kg\n",
    "    patient_idx = patient_hup_id_to_index[patient_hup_id]\n",
    "    print(f\"Processing HUP {patient_hup_id}\")\n",
    "\n",
    "    # Find the ieeg_offset_1 value for patient_hup_id in ieeg_offset_df and convert it into float\n",
    "    ieeg_offset_seconds = float(\n",
    "        ieeg_offset_df.loc[\n",
    "            ieeg_offset_df[\"hup_id\"] == patient_hup_id, \"ieeg_offset_1\"\n",
    "        ].values[0]\n",
    "    )\n",
    "    print(f\"ieeg_offset_seconds: {ieeg_offset_seconds}\")\n",
    "    ieeg_offset_minutes = ieeg_offset_seconds / 60\n",
    "\n",
    "    ##############################################\n",
    "    # MEDICATIONS\n",
    "    ##############################################\n",
    "    # Load HUP_{patient_hup_id}.npy from ../../Data/medications\n",
    "    aed_np_file = np.load(\n",
    "        f\"../../Data/medications/HUP_{patient_hup_id}.npy\", allow_pickle=True\n",
    "    )\n",
    "\n",
    "    all_dose_curves_plot = aed_np_file[0]\n",
    "    all_tHr_plot = aed_np_file[1]\n",
    "    all_med_names_plot = aed_np_file[2]\n",
    "\n",
    "    # Construct the time axis\n",
    "    emu_start_time_hrs = min([all_tHr_plot[i][0] for i in range(len(all_tHr_plot))])\n",
    "    emu_end_time_hrs = all_tHr_plot[0][-1]\n",
    "    max_length = max([len(all_tHr_plot[i]) for i in range(len(all_tHr_plot))])\n",
    "    time_axis = np.linspace(emu_start_time_hrs, emu_end_time_hrs, max_length)\n",
    "\n",
    "    first_emu_hr = time_axis[0]\n",
    "\n",
    "    # Create a dataframe that will hold the dose curves for all patients\n",
    "    hourly_patient_features_df = pd.DataFrame(columns=[\"emu_time\"])\n",
    "    hourly_patient_features_df[\"emu_time\"] = time_axis\n",
    "\n",
    "    for potential_med_name in all_med_names:\n",
    "        hourly_patient_features_df[f\"med_{potential_med_name}_raw\"] = np.zeros(\n",
    "            len(time_axis)\n",
    "        )\n",
    "\n",
    "    sum_array = []\n",
    "\n",
    "    ##############################################\n",
    "    # MEDICATIONS Normalize to 1\n",
    "    ##############################################\n",
    "    for med_idx, med_name in enumerate(all_med_names_plot):\n",
    "        dose_times = all_tHr_plot[med_idx].flatten()\n",
    "        dose = all_dose_curves_plot[med_idx].flatten()\n",
    "\n",
    "        interp_func = interpolate.interp1d(\n",
    "            dose_times, dose, bounds_error=False, fill_value=0\n",
    "        )\n",
    "        dose_interp = interp_func(time_axis)\n",
    "\n",
    "        if med_name != \"lorazepam\":\n",
    "            sum_array.append(dose_interp)\n",
    "\n",
    "        hourly_patient_features_df[f\"med_{med_name}_raw\"] = dose_interp\n",
    "\n",
    "    cumulative_dose_curve = np.sum(sum_array, axis=0)\n",
    "    cumulative_dose_curve = cumulative_dose_curve / np.max(cumulative_dose_curve)\n",
    "\n",
    "    assert len(cumulative_dose_curve) == len(\n",
    "        time_axis\n",
    "    ), \"cumulative_dose_curve and time_axis should have the same length\"\n",
    "\n",
    "    hourly_patient_features_df[\"med_sum_no_lorazepam_raw\"] = cumulative_dose_curve\n",
    "\n",
    "    ##############################################\n",
    "    # MEDICATIONS Normalize with DDD\n",
    "    ##############################################\n",
    "    for med_idx, med_name in enumerate(all_med_names_plot):\n",
    "        dose_times = all_tHr_plot[med_idx].flatten()\n",
    "\n",
    "        # Find Avg for medication med_name in aed_ref_ranges_df\n",
    "        if med_name != \"lorazepam\":\n",
    "            ref_range = float(\n",
    "                aed_ref_ranges_df.loc[\n",
    "                    aed_ref_ranges_df[\"Drug\"] == med_name, \"Avg\"\n",
    "                ].values[0]\n",
    "            )\n",
    "        else:\n",
    "            ref_range = 1\n",
    "\n",
    "        dose = all_dose_curves_plot[med_idx].flatten()\n",
    "        dose = dose / ref_range\n",
    "\n",
    "        interp_func = interpolate.interp1d(\n",
    "            dose_times, dose, bounds_error=False, fill_value=0\n",
    "        )\n",
    "        dose_interp = interp_func(time_axis)\n",
    "\n",
    "        if med_name != \"lorazepam\":\n",
    "            sum_array.append(dose_interp)\n",
    "\n",
    "        hourly_patient_features_df[f\"med_{med_name}_raw\"] = dose_interp\n",
    "\n",
    "    cumulative_dose_curve = np.sum(sum_array, axis=0)\n",
    "\n",
    "    assert len(cumulative_dose_curve) == len(\n",
    "        time_axis\n",
    "    ), \"cumulative_dose_curve and time_axis should have the same length\"\n",
    "\n",
    "    hourly_patient_features_df[\"med_sum_no_lorazepam_ddd\"] = cumulative_dose_curve\n",
    "\n",
    "    ##############################################\n",
    "    # Group by 2 minutes and compute mean\n",
    "    ##############################################\n",
    "    hourly_patient_features_df[\"emu_minute\"] = (\n",
    "        (hourly_patient_features_df[\"emu_time\"] * 60).astype(int) // 2 * 2\n",
    "    )\n",
    "    hourly_patient_features_df = hourly_patient_features_df.groupby(\"emu_minute\").mean()\n",
    "    hourly_patient_features_df = hourly_patient_features_df.reset_index()\n",
    "    hourly_patient_features_df = hourly_patient_features_df.drop(columns=[\"emu_time\"])\n",
    "\n",
    "    ##############################################\n",
    "    # SEIZURE COUNT\n",
    "    ##############################################\n",
    "    seizure_times_sec = np.load(\n",
    "        f\"../../Data/seizures/source_mat/HUP_{patient_hup_id}.npy\"\n",
    "    )\n",
    "    seizure_times_sec = seizure_times_sec + ieeg_offset_seconds\n",
    "\n",
    "    # Convert seizure times from seconds to minutes\n",
    "    seizure_times_min = seizure_times_sec / 60\n",
    "\n",
    "    hourly_patient_features_df[\"had_seizure\"] = np.zeros(\n",
    "        len(hourly_patient_features_df), dtype=int\n",
    "    )\n",
    "\n",
    "    for sz_min in seizure_times_min[:, 0]:\n",
    "        hourly_patient_features_df.loc[\n",
    "            hourly_patient_features_df[\"emu_minute\"] == int(sz_min) // 2 * 2,\n",
    "            \"had_seizure\",\n",
    "        ] += 1\n",
    "\n",
    "    ##############################################\n",
    "    # Time since last seizure\n",
    "    ##############################################\n",
    "    # Initialize the list and timer\n",
    "    time_since_last_seizure = []\n",
    "    timer = None\n",
    "\n",
    "    # Loop through the dataframe and calculate the time since the last seizure\n",
    "    for had_seizure in hourly_patient_features_df[\"had_seizure\"]:\n",
    "        if had_seizure == 1:\n",
    "            timer = 0\n",
    "        elif timer is not None:  # if there has been a seizure before\n",
    "            timer += 2\n",
    "        else:\n",
    "            timer = None\n",
    "        time_since_last_seizure.append(timer)\n",
    "\n",
    "    # Add the list as a new column\n",
    "    hourly_patient_features_df[\"time_since_last_seizure\"] = time_since_last_seizure\n",
    "\n",
    "    ##########################################\n",
    "    # SYNCHRONY\n",
    "    ##########################################\n",
    "\n",
    "    # Determine the starting index for the synchrony data\n",
    "    start_index = None\n",
    "    for i, emu_min in enumerate(hourly_patient_features_df[\"emu_minute\"]):\n",
    "        if i < len(hourly_patient_features_df[\"emu_minute\"]) - 1:\n",
    "            next_emu_min = hourly_patient_features_df[\"emu_minute\"].iloc[i + 1]\n",
    "        else:\n",
    "            next_emu_min = emu_min + 2\n",
    "\n",
    "        if emu_min <= ieeg_offset_minutes < next_emu_min:\n",
    "            start_index = i\n",
    "            break\n",
    "\n",
    "    if start_index is None:\n",
    "        print(\"start_index is actually 0...\")\n",
    "        start_index = 0\n",
    "\n",
    "    for frequency_band in frequency_bands:\n",
    "        synchrony_np = np.load(\n",
    "            f\"../../Data/synchrony/all/{frequency_band}/HUP_{patient_hup_id}.npy\"\n",
    "        )\n",
    "\n",
    "        # Initialize the synchrony column with NaNs\n",
    "        hourly_patient_features_df[f\"synchrony_{frequency_band}\"] = np.nan\n",
    "\n",
    "        # Insert synchrony values starting from the appropriate index\n",
    "        end_index = min(\n",
    "            start_index + len(synchrony_np), len(hourly_patient_features_df)\n",
    "        )\n",
    "        hourly_patient_features_df.iloc[\n",
    "            start_index:end_index,\n",
    "            hourly_patient_features_df.columns.get_loc(f\"synchrony_{frequency_band}\"),\n",
    "        ] = synchrony_np[: end_index - start_index]\n",
    "\n",
    "    ##########################################\n",
    "    # AD Ratio\n",
    "    ##########################################\n",
    "    mat_file = scipy.io.loadmat(\n",
    "        f\"../../../erinconr/projects/fc_toolbox/results/analysis/intermediate/HUP{patient_hup_id}.mat\"\n",
    "    )\n",
    "    mat_file = mat_file[\"summ\"][0][0]\n",
    "    ad_ratio = mat_file[17]\n",
    "    num_channels = mat_file[6].shape[0]\n",
    "    assert ad_ratio.shape[0] == num_channels\n",
    "\n",
    "    ad_ratio = np.nanmean(ad_ratio, axis=0)\n",
    "    ad_ratio = (ad_ratio - np.nanmedian(ad_ratio)) / iqr(ad_ratio, nan_policy=\"omit\")\n",
    "    assert np.nansum(ad_ratio) != 0\n",
    "\n",
    "    # Reshape ad_ratio to match the granularity of the dataframe\n",
    "    reshaped_ad_ratio = np.repeat(ad_ratio, 5)\n",
    "\n",
    "    # Initialize the ad_ratio column with NaNs\n",
    "    hourly_patient_features_df[\"ad_ratio\"] = np.nan\n",
    "\n",
    "    # Insert reshaped_ad_ratio values starting from the appropriate index\n",
    "    end_index_ad_ratio = min(\n",
    "        start_index + len(reshaped_ad_ratio), len(hourly_patient_features_df)\n",
    "    )\n",
    "    hourly_patient_features_df.iloc[\n",
    "        start_index:end_index_ad_ratio,\n",
    "        hourly_patient_features_df.columns.get_loc(\"ad_ratio\"),\n",
    "    ] = reshaped_ad_ratio[: end_index_ad_ratio - start_index]\n",
    "\n",
    "    ##########################################\n",
    "    # EEG time\n",
    "    ##########################################\n",
    "    # Create the eeg_time column with NaN values\n",
    "    hourly_patient_features_df[\"eeg_time\"] = np.nan\n",
    "\n",
    "    # Define the eeg_time values starting from start_index\n",
    "    eeg_time_values = np.arange(\n",
    "        0, (end_index_ad_ratio - start_index) * 2, 2\n",
    "    )  # incrementing by 2 since the time is grouped by 2 minutes\n",
    "    hourly_patient_features_df.iloc[\n",
    "        start_index:end_index_ad_ratio,\n",
    "        hourly_patient_features_df.columns.get_loc(\"eeg_time\"),\n",
    "    ] = eeg_time_values\n",
    "\n",
    "    ##############################################\n",
    "    # SAVE TO CSV\n",
    "    ##############################################\n",
    "\n",
    "    hourly_patient_features_df.to_csv(\n",
    "        f\"../../Data/giant_new_tables/HUP_{patient_hup_id}.csv\", index=False\n",
    "    )"
   ]
  }
 ],
 "metadata": {
  "kernelspec": {
   "display_name": "base",
   "language": "python",
   "name": "python3"
  },
  "language_info": {
   "codemirror_mode": {
    "name": "ipython",
    "version": 3
   },
   "file_extension": ".py",
   "mimetype": "text/x-python",
   "name": "python",
   "nbconvert_exporter": "python",
   "pygments_lexer": "ipython3",
   "version": "3.11.4"
  },
  "orig_nbformat": 4
 },
 "nbformat": 4,
 "nbformat_minor": 2
}
