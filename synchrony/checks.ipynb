{
 "cells": [
  {
   "cell_type": "code",
   "execution_count": 1,
   "metadata": {},
   "outputs": [],
   "source": [
    "import os\n",
    "import numpy as np"
   ]
  },
  {
   "cell_type": "code",
   "execution_count": 2,
   "metadata": {},
   "outputs": [],
   "source": [
    "ORIGINAL_SYNCHRONY_BROADBAND_DIRECTORY = \"../../Data/synchrony/all/broadband\"\n",
    "NEW_SYNCHRONY_BROADBAND_DIRECTORY = (\n",
    "    \"../../Data/synchrony/all/broadband_fill_intermediate\"\n",
    ")"
   ]
  },
  {
   "cell_type": "code",
   "execution_count": 3,
   "metadata": {},
   "outputs": [
    {
     "name": "stdout",
     "output_type": "stream",
     "text": [
      "HUP_165.npy\n",
      "new nans:  6371\n",
      "original nans:  8472\n",
      "\n",
      "HUP_162.npy\n",
      "new nans:  7208\n",
      "original nans:  9283\n",
      "\n",
      "HUP_146.npy\n",
      "new nans:  9755\n",
      "original nans:  11081\n",
      "\n",
      "HUP_143.npy\n",
      "new nans:  889\n",
      "original nans:  7500\n",
      "\n",
      "HUP_171.npy\n",
      "new nans:  1384\n",
      "original nans:  8636\n",
      "\n",
      "HUP_160.npy\n",
      "new nans:  741\n",
      "original nans:  2630\n",
      "\n",
      "HUP_155.npy\n",
      "new nans:  813\n",
      "original nans:  4736\n",
      "\n",
      "HUP_139.npy\n",
      "new nans:  805\n",
      "original nans:  4447\n",
      "\n",
      "HUP_161.npy\n",
      "new nans:  1015\n",
      "original nans:  6638\n",
      "\n"
     ]
    }
   ],
   "source": [
    "# For each file in the NEW_SYNCHRONY_BROADBAND_DIRECTORY, check if the file with the same name in ORIGINAL_SYNCHRONY_BROADBAND_DIRECTORY has the same number of nans.\n",
    "\n",
    "for filename in os.listdir(NEW_SYNCHRONY_BROADBAND_DIRECTORY):\n",
    "    new_filepath = os.path.join(NEW_SYNCHRONY_BROADBAND_DIRECTORY, filename)\n",
    "    original_filepath = os.path.join(ORIGINAL_SYNCHRONY_BROADBAND_DIRECTORY, filename)\n",
    "\n",
    "    new_data = np.load(new_filepath)\n",
    "    original_data = np.load(original_filepath)\n",
    "\n",
    "    new_nans = np.isnan(new_data)\n",
    "    original_nans = np.isnan(original_data)\n",
    "\n",
    "    if np.sum(new_nans) != np.sum(original_nans):\n",
    "        print(filename)\n",
    "        print(\"new nans: \", np.sum(new_nans))\n",
    "        print(\"original nans: \", np.sum(original_nans))\n",
    "        print()"
   ]
  },
  {
   "cell_type": "code",
   "execution_count": null,
   "metadata": {},
   "outputs": [],
   "source": []
  }
 ],
 "metadata": {
  "kernelspec": {
   "display_name": "base",
   "language": "python",
   "name": "python3"
  },
  "language_info": {
   "codemirror_mode": {
    "name": "ipython",
    "version": 3
   },
   "file_extension": ".py",
   "mimetype": "text/x-python",
   "name": "python",
   "nbconvert_exporter": "python",
   "pygments_lexer": "ipython3",
   "version": "3.11.4"
  }
 },
 "nbformat": 4,
 "nbformat_minor": 2
}
