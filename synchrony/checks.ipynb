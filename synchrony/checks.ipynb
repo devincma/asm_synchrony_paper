{
 "cells": [
  {
   "cell_type": "code",
   "execution_count": 1,
   "metadata": {},
   "outputs": [],
   "source": [
    "import os\n",
    "import numpy as np"
   ]
  },
  {
   "cell_type": "code",
   "execution_count": 5,
   "metadata": {},
   "outputs": [],
   "source": [
    "ORIGINAL_SYNCHRONY_BROADBAND_DIRECTORY = \"../../Data/synchrony/all/broadband\"\n",
    "NEW_SYNCHRONY_BROADBAND_DIRECTORY = (\n",
    "    \"../../Data/synchrony/all/broadband_fill_intermediate\"\n",
    ")"
   ]
  },
  {
   "cell_type": "code",
   "execution_count": 6,
   "metadata": {},
   "outputs": [
    {
     "name": "stdout",
     "output_type": "stream",
     "text": [
      "HUP_165.npy\n",
      "HUP_165.npy\n",
      "new nans:  2092\n",
      "original nans:  6371\n",
      "\n",
      "HUP_162.npy\n",
      "HUP_162.npy\n",
      "new nans:  5987\n",
      "original nans:  7208\n",
      "\n",
      "HUP_146.npy\n",
      "HUP_146.npy\n",
      "new nans:  8029\n",
      "original nans:  9755\n",
      "\n",
      "._.DS_Store\n"
     ]
    },
    {
     "ename": "ValueError",
     "evalue": "Cannot load file containing pickled data when allow_pickle=False",
     "output_type": "error",
     "traceback": [
      "\u001b[0;31m---------------------------------------------------------------------------\u001b[0m",
      "\u001b[0;31mValueError\u001b[0m                                Traceback (most recent call last)",
      "Cell \u001b[0;32mIn[6], line 8\u001b[0m\n\u001b[1;32m      5\u001b[0m new_filepath \u001b[38;5;241m=\u001b[39m os\u001b[38;5;241m.\u001b[39mpath\u001b[38;5;241m.\u001b[39mjoin(NEW_SYNCHRONY_BROADBAND_DIRECTORY, filename)\n\u001b[1;32m      6\u001b[0m original_filepath \u001b[38;5;241m=\u001b[39m os\u001b[38;5;241m.\u001b[39mpath\u001b[38;5;241m.\u001b[39mjoin(ORIGINAL_SYNCHRONY_BROADBAND_DIRECTORY, filename)\n\u001b[0;32m----> 8\u001b[0m new_data \u001b[38;5;241m=\u001b[39m \u001b[43mnp\u001b[49m\u001b[38;5;241;43m.\u001b[39;49m\u001b[43mload\u001b[49m\u001b[43m(\u001b[49m\u001b[43mnew_filepath\u001b[49m\u001b[43m)\u001b[49m\n\u001b[1;32m      9\u001b[0m original_data \u001b[38;5;241m=\u001b[39m np\u001b[38;5;241m.\u001b[39mload(original_filepath)\n\u001b[1;32m     11\u001b[0m new_nans \u001b[38;5;241m=\u001b[39m np\u001b[38;5;241m.\u001b[39misnan(new_data)\n",
      "File \u001b[0;32m/mnt/leif/littlab/users/devinma/Libraries/miniconda3/lib/python3.11/site-packages/numpy/lib/npyio.py:438\u001b[0m, in \u001b[0;36mload\u001b[0;34m(file, mmap_mode, allow_pickle, fix_imports, encoding, max_header_size)\u001b[0m\n\u001b[1;32m    435\u001b[0m \u001b[38;5;28;01melse\u001b[39;00m:\n\u001b[1;32m    436\u001b[0m     \u001b[38;5;66;03m# Try a pickle\u001b[39;00m\n\u001b[1;32m    437\u001b[0m     \u001b[38;5;28;01mif\u001b[39;00m \u001b[38;5;129;01mnot\u001b[39;00m allow_pickle:\n\u001b[0;32m--> 438\u001b[0m         \u001b[38;5;28;01mraise\u001b[39;00m \u001b[38;5;167;01mValueError\u001b[39;00m(\u001b[38;5;124m\"\u001b[39m\u001b[38;5;124mCannot load file containing pickled data \u001b[39m\u001b[38;5;124m\"\u001b[39m\n\u001b[1;32m    439\u001b[0m                          \u001b[38;5;124m\"\u001b[39m\u001b[38;5;124mwhen allow_pickle=False\u001b[39m\u001b[38;5;124m\"\u001b[39m)\n\u001b[1;32m    440\u001b[0m     \u001b[38;5;28;01mtry\u001b[39;00m:\n\u001b[1;32m    441\u001b[0m         \u001b[38;5;28;01mreturn\u001b[39;00m pickle\u001b[38;5;241m.\u001b[39mload(fid, \u001b[38;5;241m*\u001b[39m\u001b[38;5;241m*\u001b[39mpickle_kwargs)\n",
      "\u001b[0;31mValueError\u001b[0m: Cannot load file containing pickled data when allow_pickle=False"
     ]
    }
   ],
   "source": [
    "# For each file in the NEW_SYNCHRONY_BROADBAND_DIRECTORY, check if the file with the same name in ORIGINAL_SYNCHRONY_BROADBAND_DIRECTORY has the same number of nans.\n",
    "\n",
    "for filename in os.listdir(NEW_SYNCHRONY_BROADBAND_DIRECTORY):\n",
    "    print(filename)\n",
    "    new_filepath = os.path.join(NEW_SYNCHRONY_BROADBAND_DIRECTORY, filename)\n",
    "    original_filepath = os.path.join(ORIGINAL_SYNCHRONY_BROADBAND_DIRECTORY, filename)\n",
    "\n",
    "    new_data = np.load(new_filepath)\n",
    "    original_data = np.load(original_filepath)\n",
    "\n",
    "    new_nans = np.isnan(new_data)\n",
    "    original_nans = np.isnan(original_data)\n",
    "\n",
    "    if np.sum(new_nans) != np.sum(original_nans):\n",
    "        print(filename)\n",
    "        print(\"new nans: \", np.sum(new_nans))\n",
    "        print(\"original nans: \", np.sum(original_nans))\n",
    "        print()"
   ]
  },
  {
   "cell_type": "code",
   "execution_count": null,
   "metadata": {},
   "outputs": [],
   "source": []
  }
 ],
 "metadata": {
  "kernelspec": {
   "display_name": "base",
   "language": "python",
   "name": "python3"
  },
  "language_info": {
   "codemirror_mode": {
    "name": "ipython",
    "version": 3
   },
   "file_extension": ".py",
   "mimetype": "text/x-python",
   "name": "python",
   "nbconvert_exporter": "python",
   "pygments_lexer": "ipython3",
   "version": "3.11.4"
  }
 },
 "nbformat": 4,
 "nbformat_minor": 2
}
