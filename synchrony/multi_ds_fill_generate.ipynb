{
 "cells": [
  {
   "cell_type": "markdown",
   "metadata": {},
   "source": [
    "# Actually generate new synchrony arrays"
   ]
  },
  {
   "cell_type": "code",
   "execution_count": 1,
   "metadata": {},
   "outputs": [],
   "source": [
    "import os\n",
    "import numpy as np"
   ]
  },
  {
   "cell_type": "code",
   "execution_count": 2,
   "metadata": {},
   "outputs": [],
   "source": [
    "ORIGINAL_SYNCHRONY_BROADBAND_DIRECTORY = (\n",
    "    \"../../Data/synchrony/all/broadband_multi_dataset\"\n",
    ")\n",
    "SYNCHRONY_BROADBAND_FILL_DIRECTORY = (\n",
    "    \"../../Data/synchrony/all/broadband_multi_dataset_fill\"\n",
    ")\n",
    "NEW_SYNCHRONY_BROADBAND_DIRECTORY = (\n",
    "    \"../../Data/synchrony/all/broadband_multi_dataset_fill_intermediate\"\n",
    ")"
   ]
  },
  {
   "cell_type": "code",
   "execution_count": 3,
   "metadata": {},
   "outputs": [
    {
     "name": "stdout",
     "output_type": "stream",
     "text": [
      "Processing HUP147 dataset 1\n",
      "HUP_147_ds_1_1311_2819.npy has non-nan values: 786\n",
      "Processing HUP215 dataset 3\n",
      "HUP_215_ds_3_1082_5309.npy has non-nan values: 3510\n",
      "Processing HUP195 dataset 3\n",
      "HUP_195_ds_3_2112_5159.npy has non-nan values: 2176\n",
      "Processing HUP137 dataset 3\n",
      "HUP_137_ds_3_1100_2129.npy has non-nan values: 316\n",
      "Processing HUP209 dataset 1\n",
      "HUP_209_ds_1_3458_5369.npy has non-nan values: 1216\n",
      "Processing HUP159 dataset 2\n",
      "HUP_159_ds_2_464_4499.npy has non-nan values: 2783\n",
      "Processing HUP197 dataset 1\n",
      "HUP_197_ds_1_187_3449.npy has non-nan values: 425\n",
      "Processing HUP214 dataset 2\n",
      "HUP_214_ds_2_805_7289.npy has non-nan values: 5272\n",
      "Processing HUP213 dataset 1\n",
      "HUP_213_ds_1_2183_5579.npy has non-nan values: 2349\n",
      "Processing HUP149 dataset 3\n",
      "HUP_149_ds_3_990_3089.npy has non-nan values: 1370\n",
      "Processing HUP179 dataset 2\n",
      "HUP_179_ds_2_107_2849.npy has non-nan values: 2052\n",
      "Processing HUP213 dataset 2\n",
      "HUP_213_ds_2_5709_12569.npy has non-nan values: 1287\n",
      "Processing HUP153 dataset 1\n",
      "HUP_153_ds_1_365_5699.npy has non-nan values: 584\n",
      "Processing HUP168 dataset 2\n",
      "HUP_168_ds_2_3_6659.npy has non-nan values: 113\n",
      "Processing HUP137 dataset 2\n",
      "HUP_137_ds_2_641_2279.npy has non-nan values: 906\n",
      "Processing HUP208 dataset 2\n",
      "HUP_208_ds_2_1769_4529.npy has non-nan values: 2049\n",
      "Processing HUP179 dataset 1\n",
      "HUP_179_ds_1_4153_6299.npy has non-nan values: 1449\n"
     ]
    }
   ],
   "source": [
    "# Iterate through all files in the directory\n",
    "for filename in os.listdir(SYNCHRONY_BROADBAND_FILL_DIRECTORY):\n",
    "    # Load the file\n",
    "    new_array = np.load(os.path.join(SYNCHRONY_BROADBAND_FILL_DIRECTORY, filename))\n",
    "\n",
    "    if np.isnan(new_array).all():\n",
    "        continue\n",
    "\n",
    "    hup_id = filename.split(\"_\")[1]\n",
    "    ds_index = filename.split(\"_\")[3].split(\".\")[0]\n",
    "    print(f\"Processing HUP{hup_id} dataset {ds_index}\")\n",
    "    # Count number of non-nan values\n",
    "    num_non_nan = np.count_nonzero(~np.isnan(new_array))\n",
    "    print(f\"{filename} has non-nan values: {num_non_nan}\")\n",
    "\n",
    "    og_array_to_fill = np.load(\n",
    "        os.path.join(\n",
    "            ORIGINAL_SYNCHRONY_BROADBAND_DIRECTORY, f\"HUP_{hup_id}_ds_{ds_index}.npy\"\n",
    "        )\n",
    "    )\n",
    "    # count the number of non-nan values in the original array\n",
    "    num_non_nan_og = np.count_nonzero(~np.isnan(og_array_to_fill))\n",
    "\n",
    "    assert og_array_to_fill.shape == new_array.shape\n",
    "\n",
    "    og_array_to_fill[np.isnan(og_array_to_fill)] = new_array[np.isnan(og_array_to_fill)]\n",
    "    assert np.count_nonzero(~np.isnan(og_array_to_fill)) == num_non_nan_og + num_non_nan\n",
    "    # Save the new array\n",
    "    np.save(\n",
    "        os.path.join(\n",
    "            NEW_SYNCHRONY_BROADBAND_DIRECTORY, f\"HUP_{hup_id}_ds_{ds_index}.npy\"\n",
    "        ),\n",
    "        og_array_to_fill,\n",
    "    )"
   ]
  },
  {
   "cell_type": "code",
   "execution_count": null,
   "metadata": {},
   "outputs": [],
   "source": []
  }
 ],
 "metadata": {
  "kernelspec": {
   "display_name": "base",
   "language": "python",
   "name": "python3"
  },
  "language_info": {
   "codemirror_mode": {
    "name": "ipython",
    "version": 3
   },
   "file_extension": ".py",
   "mimetype": "text/x-python",
   "name": "python",
   "nbconvert_exporter": "python",
   "pygments_lexer": "ipython3",
   "version": "3.11.4"
  }
 },
 "nbformat": 4,
 "nbformat_minor": 2
}
