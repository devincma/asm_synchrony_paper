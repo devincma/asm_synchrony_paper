{
 "cells": [
  {
   "cell_type": "code",
   "execution_count": 3,
   "metadata": {},
   "outputs": [],
   "source": [
    "import os, time\n",
    "import numpy as np\n",
    "import pandas as pd\n",
    "from ieeg.auth import Session\n",
    "\n",
    "from get_iEEG_data import *\n",
    "from iEEG_helper_functions import *"
   ]
  },
  {
   "cell_type": "code",
   "execution_count": 4,
   "metadata": {},
   "outputs": [],
   "source": [
    "SPIKES_OUTPUT_DIR = \"../../Data/spikes/devin_spikes/\"\n",
    "SYNCHRONY_broadband_DIRECTORY = \"../../Data/synchrony/all/broadband\""
   ]
  },
  {
   "cell_type": "code",
   "execution_count": 5,
   "metadata": {},
   "outputs": [
    {
     "data": {
      "text/html": [
       "<div>\n",
       "<style scoped>\n",
       "    .dataframe tbody tr th:only-of-type {\n",
       "        vertical-align: middle;\n",
       "    }\n",
       "\n",
       "    .dataframe tbody tr th {\n",
       "        vertical-align: top;\n",
       "    }\n",
       "\n",
       "    .dataframe thead th {\n",
       "        text-align: right;\n",
       "    }\n",
       "</style>\n",
       "<table border=\"1\" class=\"dataframe\">\n",
       "  <thead>\n",
       "    <tr style=\"text-align: right;\">\n",
       "      <th></th>\n",
       "      <th>hup_id</th>\n",
       "      <th>IEEG_Portal_Number</th>\n",
       "      <th>Implant_Date</th>\n",
       "      <th>implant_time</th>\n",
       "      <th>Explant_Date</th>\n",
       "      <th>weight_kg</th>\n",
       "    </tr>\n",
       "  </thead>\n",
       "  <tbody>\n",
       "    <tr>\n",
       "      <th>0</th>\n",
       "      <td>225</td>\n",
       "      <td>HUP225_phaseII</td>\n",
       "      <td>2021-10-18</td>\n",
       "      <td>07:15:00</td>\n",
       "      <td>2021-10-26 17:30:00</td>\n",
       "      <td>58.5</td>\n",
       "    </tr>\n",
       "    <tr>\n",
       "      <th>1</th>\n",
       "      <td>224</td>\n",
       "      <td>HUP224_phaseII</td>\n",
       "      <td>2021-10-13</td>\n",
       "      <td>07:15:00</td>\n",
       "      <td>2021-10-20 00:00:00</td>\n",
       "      <td>85.5</td>\n",
       "    </tr>\n",
       "    <tr>\n",
       "      <th>2</th>\n",
       "      <td>223</td>\n",
       "      <td>HUP223_phaseII</td>\n",
       "      <td>2021-09-29</td>\n",
       "      <td>07:15:00</td>\n",
       "      <td>2021-10-08 08:21:00</td>\n",
       "      <td>101.4</td>\n",
       "    </tr>\n",
       "    <tr>\n",
       "      <th>3</th>\n",
       "      <td>221</td>\n",
       "      <td>HUP221_phaseII</td>\n",
       "      <td>2021-08-16</td>\n",
       "      <td>07:15:00</td>\n",
       "      <td>2021-08-23 00:00:00</td>\n",
       "      <td>124.3</td>\n",
       "    </tr>\n",
       "    <tr>\n",
       "      <th>4</th>\n",
       "      <td>219</td>\n",
       "      <td>HUP219_phaseII</td>\n",
       "      <td>2021-07-12</td>\n",
       "      <td>07:15:00</td>\n",
       "      <td>2021-07-16 08:18:00</td>\n",
       "      <td>101.6</td>\n",
       "    </tr>\n",
       "    <tr>\n",
       "      <th>...</th>\n",
       "      <td>...</td>\n",
       "      <td>...</td>\n",
       "      <td>...</td>\n",
       "      <td>...</td>\n",
       "      <td>...</td>\n",
       "      <td>...</td>\n",
       "    </tr>\n",
       "    <tr>\n",
       "      <th>75</th>\n",
       "      <td>141</td>\n",
       "      <td>HUP141_phaseII</td>\n",
       "      <td>2017-05-24</td>\n",
       "      <td>07:15:00</td>\n",
       "      <td>2017-06-01 00:00:00</td>\n",
       "      <td>85.7</td>\n",
       "    </tr>\n",
       "    <tr>\n",
       "      <th>76</th>\n",
       "      <td>140</td>\n",
       "      <td>HUP140_phaseII_D01-D02</td>\n",
       "      <td>2017-05-10</td>\n",
       "      <td>07:15:00</td>\n",
       "      <td>2017-05-19 00:00:00</td>\n",
       "      <td>56.7</td>\n",
       "    </tr>\n",
       "    <tr>\n",
       "      <th>77</th>\n",
       "      <td>139</td>\n",
       "      <td>HUP139_phaseII</td>\n",
       "      <td>2017-04-26</td>\n",
       "      <td>07:15:00</td>\n",
       "      <td>2017-05-09 00:00:00</td>\n",
       "      <td>69.8</td>\n",
       "    </tr>\n",
       "    <tr>\n",
       "      <th>78</th>\n",
       "      <td>138</td>\n",
       "      <td>HUP138_phaseII</td>\n",
       "      <td>2017-04-12</td>\n",
       "      <td>07:15:00</td>\n",
       "      <td>2017-04-20 00:00:00</td>\n",
       "      <td>84.4</td>\n",
       "    </tr>\n",
       "    <tr>\n",
       "      <th>79</th>\n",
       "      <td>137</td>\n",
       "      <td>HUP137_phaseII_D01-D03</td>\n",
       "      <td>2017-03-22</td>\n",
       "      <td>07:15:00</td>\n",
       "      <td>2017-03-29 13:30:00</td>\n",
       "      <td>141.3</td>\n",
       "    </tr>\n",
       "  </tbody>\n",
       "</table>\n",
       "<p>80 rows × 6 columns</p>\n",
       "</div>"
      ],
      "text/plain": [
       "    hup_id      IEEG_Portal_Number Implant_Date implant_time  \\\n",
       "0      225          HUP225_phaseII   2021-10-18     07:15:00   \n",
       "1      224          HUP224_phaseII   2021-10-13     07:15:00   \n",
       "2      223          HUP223_phaseII   2021-09-29     07:15:00   \n",
       "3      221          HUP221_phaseII   2021-08-16     07:15:00   \n",
       "4      219          HUP219_phaseII   2021-07-12     07:15:00   \n",
       "..     ...                     ...          ...          ...   \n",
       "75     141          HUP141_phaseII   2017-05-24     07:15:00   \n",
       "76     140  HUP140_phaseII_D01-D02   2017-05-10     07:15:00   \n",
       "77     139          HUP139_phaseII   2017-04-26     07:15:00   \n",
       "78     138          HUP138_phaseII   2017-04-12     07:15:00   \n",
       "79     137  HUP137_phaseII_D01-D03   2017-03-22     07:15:00   \n",
       "\n",
       "          Explant_Date  weight_kg  \n",
       "0  2021-10-26 17:30:00       58.5  \n",
       "1  2021-10-20 00:00:00       85.5  \n",
       "2  2021-10-08 08:21:00      101.4  \n",
       "3  2021-08-23 00:00:00      124.3  \n",
       "4  2021-07-16 08:18:00      101.6  \n",
       "..                 ...        ...  \n",
       "75 2017-06-01 00:00:00       85.7  \n",
       "76 2017-05-19 00:00:00       56.7  \n",
       "77 2017-05-09 00:00:00       69.8  \n",
       "78 2017-04-20 00:00:00       84.4  \n",
       "79 2017-03-29 13:30:00      141.3  \n",
       "\n",
       "[80 rows x 6 columns]"
      ]
     },
     "execution_count": 5,
     "metadata": {},
     "output_type": "execute_result"
    }
   ],
   "source": [
    "# Load HUP_implant_dates.xlsx\n",
    "nina_patients_df = pd.read_excel(\"../../Data/HUP_implant_dates.xlsx\")\n",
    "# Make the hup_id column integers\n",
    "nina_patients_df[\"hup_id\"] = nina_patients_df[\"hup_id\"].astype(int)\n",
    "nina_patients_df"
   ]
  },
  {
   "cell_type": "markdown",
   "metadata": {},
   "source": [
    "## Select a batch"
   ]
  },
  {
   "cell_type": "code",
   "execution_count": 6,
   "metadata": {},
   "outputs": [
    {
     "data": {
      "text/html": [
       "<div>\n",
       "<style scoped>\n",
       "    .dataframe tbody tr th:only-of-type {\n",
       "        vertical-align: middle;\n",
       "    }\n",
       "\n",
       "    .dataframe tbody tr th {\n",
       "        vertical-align: top;\n",
       "    }\n",
       "\n",
       "    .dataframe thead th {\n",
       "        text-align: right;\n",
       "    }\n",
       "</style>\n",
       "<table border=\"1\" class=\"dataframe\">\n",
       "  <thead>\n",
       "    <tr style=\"text-align: right;\">\n",
       "      <th></th>\n",
       "      <th>hup_id</th>\n",
       "      <th>IEEG_Portal_Number</th>\n",
       "      <th>Implant_Date</th>\n",
       "      <th>implant_time</th>\n",
       "      <th>Explant_Date</th>\n",
       "      <th>weight_kg</th>\n",
       "    </tr>\n",
       "  </thead>\n",
       "  <tbody>\n",
       "    <tr>\n",
       "      <th>0</th>\n",
       "      <td>143</td>\n",
       "      <td>HUP143_phaseII</td>\n",
       "      <td>2017-07-17</td>\n",
       "      <td>07:15:00</td>\n",
       "      <td>2017-07-29</td>\n",
       "      <td>61.5</td>\n",
       "    </tr>\n",
       "  </tbody>\n",
       "</table>\n",
       "</div>"
      ],
      "text/plain": [
       "   hup_id IEEG_Portal_Number Implant_Date implant_time Explant_Date  weight_kg\n",
       "0     143     HUP143_phaseII   2017-07-17     07:15:00   2017-07-29       61.5"
      ]
     },
     "execution_count": 6,
     "metadata": {},
     "output_type": "execute_result"
    }
   ],
   "source": [
    "batch = nina_patients_df[nina_patients_df[\"hup_id\"] == 143].reset_index(drop=True)\n",
    "batch"
   ]
  },
  {
   "cell_type": "code",
   "execution_count": 7,
   "metadata": {},
   "outputs": [
    {
     "name": "stdout",
     "output_type": "stream",
     "text": [
      "Using Carlos session\n"
     ]
    }
   ],
   "source": [
    "print(\"Using Carlos session\")\n",
    "with open(\"agu_ieeglogin.bin\", \"r\") as f:\n",
    "    session = Session(\"aguilac\", f.read())"
   ]
  },
  {
   "cell_type": "code",
   "execution_count": 12,
   "metadata": {},
   "outputs": [
    {
     "name": "stdout",
     "output_type": "stream",
     "text": [
      "HUP143_phaseII\n",
      "Opening HUP143_phaseII with duration 239 hours\n",
      "Getting iEEG data for interval 717 out of 7890\n",
      "Finished calculating synchrony for interval 717\n",
      "Getting iEEG data for interval 718 out of 7890\n",
      "Finished calculating synchrony for interval 718\n",
      "Getting iEEG data for interval 719 out of 7890\n",
      "Finished calculating synchrony for interval 719\n",
      "Getting iEEG data for interval 720 out of 7890\n",
      "Finished calculating synchrony for interval 720\n",
      "Getting iEEG data for interval 721 out of 7890\n",
      "Finished calculating synchrony for interval 721\n",
      "Getting iEEG data for interval 722 out of 7890\n",
      "Finished calculating synchrony for interval 722\n",
      "Getting iEEG data for interval 723 out of 7890\n",
      "Finished calculating synchrony for interval 723\n",
      "Getting iEEG data for interval 724 out of 7890\n",
      "Finished calculating synchrony for interval 724\n",
      "Getting iEEG data for interval 725 out of 7890\n",
      "Finished calculating synchrony for interval 725\n",
      "Getting iEEG data for interval 726 out of 7890\n",
      "Finished calculating synchrony for interval 726\n"
     ]
    }
   ],
   "source": [
    "# Iterate through every row in batch\n",
    "for index, row in batch.iterrows():\n",
    "    hup_id = row[\"hup_id\"]\n",
    "    dataset_name = row[\"IEEG_Portal_Number\"]\n",
    "    print(dataset_name)\n",
    "\n",
    "    dataset = session.open_dataset(dataset_name)\n",
    "\n",
    "    all_channel_labels = np.array(dataset.get_channel_labels())\n",
    "    channel_labels_to_download = all_channel_labels[\n",
    "        electrode_selection(all_channel_labels)\n",
    "    ]\n",
    "\n",
    "    duration_usec = dataset.get_time_series_details(\n",
    "        channel_labels_to_download[0]\n",
    "    ).duration\n",
    "    duration_hours = int(duration_usec / 1000000 / 60 / 60)\n",
    "    enlarged_duration_hours = duration_hours + 24\n",
    "\n",
    "    print(f\"Opening {dataset_name} with duration {duration_hours} hours\")\n",
    "\n",
    "    # Calculate the total number of 2-minute intervals in the enlarged duration\n",
    "    total_intervals = enlarged_duration_hours * 30  # 60min/hour / 2min = 30\n",
    "\n",
    "    synchrony_broadband_vector_to_save = np.full(total_intervals, np.nan)\n",
    "\n",
    "    # Loop through each 2-minute interval\n",
    "    for interval in range(717, 727):\n",
    "        print(f\"Getting iEEG data for interval {interval} out of {total_intervals}\")\n",
    "        duration_usec = 1.2e8  # 2 minutes\n",
    "        start_time_usec = interval * 2 * 60 * 1e6  # 2 minutes in microseconds\n",
    "        stop_time_usec = start_time_usec + duration_usec\n",
    "\n",
    "        try:\n",
    "            ieeg_data, fs = get_iEEG_data(\n",
    "                \"aguilac\",\n",
    "                \"agu_ieeglogin.bin\",\n",
    "                dataset_name,\n",
    "                start_time_usec,\n",
    "                stop_time_usec,\n",
    "                channel_labels_to_download,\n",
    "            )\n",
    "            fs = int(fs)\n",
    "        except Exception as e:\n",
    "            # handle the exception\n",
    "            print(f\"Error: {e}\")\n",
    "            break\n",
    "\n",
    "        # Drop rows that has any nan\n",
    "        ieeg_data = ieeg_data.dropna(axis=0, how=\"any\")\n",
    "        if ieeg_data.empty:\n",
    "            print(\"Empty dataframe after dropping nan, skip...\")\n",
    "            continue\n",
    "\n",
    "        good_channels_res = detect_bad_channels_optimized(ieeg_data.to_numpy(), fs)\n",
    "        good_channel_indicies = good_channels_res[0]\n",
    "        good_channel_labels = channel_labels_to_download[good_channel_indicies]\n",
    "        ieeg_data = ieeg_data[good_channel_labels].to_numpy()\n",
    "\n",
    "        # Check if ieeg_data is empty after dropping bad channels\n",
    "        if ieeg_data.size == 0:\n",
    "            print(\"Empty dataframe after dropping bad channels, skip...\")\n",
    "            continue\n",
    "\n",
    "        ieeg_data = common_average_montage(ieeg_data)\n",
    "\n",
    "        # Apply the filters directly on the DataFrame\n",
    "        ieeg_data = notch_filter(ieeg_data, 59, 61, fs)\n",
    "\n",
    "        ##############################\n",
    "        # Calculate synchrony (broadband)\n",
    "        ##############################\n",
    "        _, R = calculate_synchrony(ieeg_data.T)\n",
    "        synchrony_broadband_vector_to_save[interval] = R\n",
    "\n",
    "        print(f\"Finished calculating synchrony for interval {interval}\")\n",
    "\n",
    "    # ##############################\n",
    "    # # Save the synchrony output\n",
    "    # ##############################\n",
    "    # np.save(\n",
    "    #     os.path.join(SYNCHRONY_broadband_DIRECTORY, f\"HUP_{hup_id}.npy\"),\n",
    "    #     synchrony_broadband_vector_to_save,\n",
    "    # )\n",
    "    # print(f\"Saved synchrony output for HUP {hup_id}\")"
   ]
  },
  {
   "cell_type": "code",
   "execution_count": 13,
   "metadata": {},
   "outputs": [
    {
     "data": {
      "text/plain": [
       "array([nan, nan, nan, ..., nan, nan, nan])"
      ]
     },
     "execution_count": 13,
     "metadata": {},
     "output_type": "execute_result"
    }
   ],
   "source": [
    "synchrony_broadband_vector_to_save"
   ]
  },
  {
   "cell_type": "code",
   "execution_count": 14,
   "metadata": {},
   "outputs": [
    {
     "data": {
      "text/plain": [
       "726"
      ]
     },
     "execution_count": 14,
     "metadata": {},
     "output_type": "execute_result"
    }
   ],
   "source": [
    "interval"
   ]
  },
  {
   "cell_type": "code",
   "execution_count": 15,
   "metadata": {},
   "outputs": [],
   "source": [
    "# Load SYNCHRONY_broadband_DIRECTORY/HUP_143.npy\n",
    "test = np.load(os.path.join(SYNCHRONY_broadband_DIRECTORY, \"HUP_143.npy\"))"
   ]
  },
  {
   "cell_type": "code",
   "execution_count": 16,
   "metadata": {},
   "outputs": [
    {
     "data": {
      "text/plain": [
       "array([nan, nan, nan, nan, nan, nan, nan, nan, nan, nan])"
      ]
     },
     "execution_count": 16,
     "metadata": {},
     "output_type": "execute_result"
    }
   ],
   "source": [
    "test[717:727]"
   ]
  },
  {
   "cell_type": "code",
   "execution_count": 17,
   "metadata": {},
   "outputs": [
    {
     "data": {
      "text/plain": [
       "array([0.10153952, 0.10376881, 0.10443899, 0.1003387 , 0.10931986,\n",
       "       0.1040436 , 0.09842504, 0.11012924, 0.10523555, 0.10845476])"
      ]
     },
     "execution_count": 17,
     "metadata": {},
     "output_type": "execute_result"
    }
   ],
   "source": [
    "synchrony_broadband_vector_to_save[717:727]"
   ]
  },
  {
   "cell_type": "code",
   "execution_count": null,
   "metadata": {},
   "outputs": [],
   "source": []
  },
  {
   "cell_type": "code",
   "execution_count": null,
   "metadata": {},
   "outputs": [],
   "source": []
  }
 ],
 "metadata": {
  "kernelspec": {
   "display_name": "base",
   "language": "python",
   "name": "python3"
  },
  "language_info": {
   "codemirror_mode": {
    "name": "ipython",
    "version": 3
   },
   "file_extension": ".py",
   "mimetype": "text/x-python",
   "name": "python",
   "nbconvert_exporter": "python",
   "pygments_lexer": "ipython3",
   "version": "3.11.4"
  },
  "orig_nbformat": 4
 },
 "nbformat": 4,
 "nbformat_minor": 2
}
