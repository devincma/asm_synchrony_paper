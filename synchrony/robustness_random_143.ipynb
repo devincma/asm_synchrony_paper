{
 "cells": [
  {
   "cell_type": "code",
   "execution_count": null,
   "metadata": {},
   "outputs": [],
   "source": [
    "import os\n",
    "import numpy as np\n",
    "import pandas as pd\n",
    "from ieeg.auth import Session\n",
    "\n",
    "from get_iEEG_data import *\n",
    "from iEEG_helper_functions import *"
   ]
  },
  {
   "cell_type": "code",
   "execution_count": null,
   "metadata": {},
   "outputs": [],
   "source": [
    "SYNCHRONY_ROBUSTNESS_DIRECTORY = \"../../Data/synchrony/all/robustness\"\n",
    "completed_hup_ids = [143]"
   ]
  },
  {
   "cell_type": "code",
   "execution_count": null,
   "metadata": {},
   "outputs": [],
   "source": [
    "# Load HUP_implant_dates.xlsx\n",
    "nina_patients_df = pd.read_excel(\"../../Data/HUP_implant_dates.xlsx\")\n",
    "# Make the hup_id column integers\n",
    "nina_patients_df[\"hup_id\"] = nina_patients_df[\"hup_id\"].astype(int)\n",
    "nina_patients_df"
   ]
  },
  {
   "cell_type": "code",
   "execution_count": null,
   "metadata": {},
   "outputs": [],
   "source": [
    "# Only keep the rows in nina_patients_df that have hup_ids not in completed_hup_ids\n",
    "nina_patients_df = nina_patients_df[nina_patients_df[\"hup_id\"].isin(completed_hup_ids)]\n",
    "# Reset the index\n",
    "nina_patients_df = nina_patients_df.reset_index(drop=True)\n",
    "nina_patients_df"
   ]
  },
  {
   "cell_type": "code",
   "execution_count": null,
   "metadata": {},
   "outputs": [],
   "source": [
    "# Add a boolean column in nina_patients_df called is_single_dataset and make it True if IEEG_Portal_Number ends with \"phaseII\"\n",
    "nina_patients_df[\"is_single_dataset\"] = nina_patients_df[\n",
    "    \"IEEG_Portal_Number\"\n",
    "].str.endswith(\"phaseII\")\n",
    "nina_patients_df"
   ]
  },
  {
   "cell_type": "code",
   "execution_count": null,
   "metadata": {},
   "outputs": [],
   "source": [
    "print(\"Using Carlos session\")\n",
    "with open(\"agu_ieeglogin.bin\", \"r\") as f:\n",
    "    session = Session(\"aguilac\", f.read())"
   ]
  },
  {
   "cell_type": "code",
   "execution_count": null,
   "metadata": {},
   "outputs": [],
   "source": [
    "electrode_counts = list(range(10, 101, 10))\n",
    "\n",
    "# Iterate through every row in batch\n",
    "for index, row in nina_patients_df.iterrows():\n",
    "    hup_id = row[\"hup_id\"]\n",
    "    dataset_name = row[\"IEEG_Portal_Number\"]\n",
    "\n",
    "    dataset = session.open_dataset(dataset_name)\n",
    "\n",
    "    all_channel_labels = np.array(dataset.get_channel_labels())\n",
    "    channel_labels_to_download = all_channel_labels[\n",
    "        electrode_selection(all_channel_labels)\n",
    "    ]\n",
    "\n",
    "    duration_usec = dataset.get_time_series_details(\n",
    "        channel_labels_to_download[0]\n",
    "    ).duration\n",
    "    duration_hours = int(duration_usec / 1000000 / 60 / 60)\n",
    "    enlarged_duration_hours = duration_hours + 24\n",
    "\n",
    "    print(f\"Opening {dataset_name} with duration {duration_hours} hours\")\n",
    "\n",
    "    # Calculate the total number of 2-minute intervals in the enlarged duration\n",
    "    total_intervals = enlarged_duration_hours * 30  # 60min/hour / 2min = 30\n",
    "\n",
    "    # Store synchrony vectors for different electrode counts in a dictionary for convenience\n",
    "    synchrony_vectors_to_save = {}\n",
    "\n",
    "    # Initialize arrays for each electrode count\n",
    "    for count in electrode_counts:\n",
    "        synchrony_vectors_to_save[count] = np.full(total_intervals, np.nan)\n",
    "\n",
    "    for interval in range(total_intervals):\n",
    "        print(f\"Getting iEEG data for interval {interval} out of {total_intervals}\")\n",
    "        duration_usec = 1.2e8  # 2 minutes\n",
    "        start_time_usec = interval * 2 * 60 * 1e6  # 2 minutes in microseconds\n",
    "        stop_time_usec = start_time_usec + duration_usec\n",
    "\n",
    "        try:\n",
    "            ieeg_data, fs = get_iEEG_data(\n",
    "                \"aguilac\",\n",
    "                \"agu_ieeglogin.bin\",\n",
    "                dataset_name,\n",
    "                start_time_usec,\n",
    "                stop_time_usec,\n",
    "                channel_labels_to_download,\n",
    "            )\n",
    "            fs = int(fs)\n",
    "        except Exception as e:\n",
    "            # handle the exception\n",
    "            print(f\"Error: {e}\")\n",
    "            break\n",
    "\n",
    "        # Drop rows that has any nan\n",
    "        ieeg_data = ieeg_data.dropna(axis=0, how=\"any\")\n",
    "        if ieeg_data.empty:\n",
    "            print(\"Empty dataframe after dropping nan, skip...\")\n",
    "            continue\n",
    "\n",
    "        good_channels_res = detect_bad_channels_optimized(ieeg_data.to_numpy(), fs)\n",
    "        good_channel_indicies = good_channels_res[0]\n",
    "        good_channel_labels = channel_labels_to_download[good_channel_indicies]\n",
    "\n",
    "        # If the len of good_channel_labels is less than 2, skip\n",
    "        if len(good_channel_labels) < 2:\n",
    "            print(\"Less than 2 good channels, skip...\")\n",
    "            continue\n",
    "\n",
    "        for count in electrode_counts:\n",
    "            # Randomly select electrodes given the constraints\n",
    "            num_to_select = min(len(good_channel_labels), count)\n",
    "            print(\n",
    "                f\"Selecting {num_to_select} electrodes out of {len(good_channel_labels)} good channels\"\n",
    "            )\n",
    "            selected_labels = np.random.choice(\n",
    "                good_channel_labels, num_to_select, replace=False\n",
    "            )\n",
    "\n",
    "            selected_ieeg_data = ieeg_data[selected_labels].to_numpy()\n",
    "\n",
    "            # Check if selected_ieeg_data is empty after dropping bad channels\n",
    "            if selected_ieeg_data.size == 0:\n",
    "                print(f\"Empty dataframe after selecting {count} electrodes, skip...\")\n",
    "                continue\n",
    "\n",
    "            selected_ieeg_data = common_average_montage(selected_ieeg_data)\n",
    "            selected_ieeg_data = notch_filter(selected_ieeg_data, 59, 61, fs)\n",
    "\n",
    "            # Calculate synchrony for the selected electrodes\n",
    "            _, R = calculate_synchrony(selected_ieeg_data.T)\n",
    "            synchrony_vectors_to_save[count][interval] = R\n",
    "\n",
    "    # Save the synchrony output for each electrode count\n",
    "    for count in electrode_counts:\n",
    "        np.save(\n",
    "            os.path.join(\n",
    "                SYNCHRONY_ROBUSTNESS_DIRECTORY, f\"HUP_{hup_id}_random_{count}.npy\"\n",
    "            ),\n",
    "            synchrony_vectors_to_save[count],\n",
    "        )\n",
    "        print(f\"Saved synchrony output for HUP {hup_id} with {count} electrodes\")"
   ]
  },
  {
   "cell_type": "code",
   "execution_count": 1,
   "metadata": {},
   "outputs": [
    {
     "name": "stdout",
     "output_type": "stream",
     "text": [
      "[NbConvertApp] Converting notebook robustness_random_143.ipynb to python\n",
      "[NbConvertApp] Writing 5186 bytes to robustness_random_143.py\n"
     ]
    }
   ],
   "source": [
    "!jupyter nbconvert --to python robustness_random_143.ipynb"
   ]
  },
  {
   "cell_type": "code",
   "execution_count": null,
   "metadata": {},
   "outputs": [],
   "source": []
  }
 ],
 "metadata": {
  "kernelspec": {
   "display_name": "base",
   "language": "python",
   "name": "python3"
  },
  "language_info": {
   "codemirror_mode": {
    "name": "ipython",
    "version": 3
   },
   "file_extension": ".py",
   "mimetype": "text/x-python",
   "name": "python",
   "nbconvert_exporter": "python",
   "pygments_lexer": "ipython3",
   "version": "3.11.4"
  }
 },
 "nbformat": 4,
 "nbformat_minor": 2
}
