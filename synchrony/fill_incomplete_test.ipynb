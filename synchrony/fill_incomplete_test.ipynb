{
 "cells": [
  {
   "cell_type": "code",
   "execution_count": 1,
   "metadata": {},
   "outputs": [],
   "source": [
    "import os\n",
    "import numpy as np"
   ]
  },
  {
   "cell_type": "code",
   "execution_count": 2,
   "metadata": {},
   "outputs": [],
   "source": [
    "SYNCHRONY_BROADBAND_FILL_DIRECTORY = \"../../Data/synchrony/all/broadband_fill\""
   ]
  },
  {
   "cell_type": "code",
   "execution_count": 5,
   "metadata": {},
   "outputs": [
    {
     "name": "stdout",
     "output_type": "stream",
     "text": [
      "HUP_205_23_619.npy is all nan\n",
      "HUP_172_6728_7046.npy is all nan\n",
      "HUP_174_7811_8519.npy is all nan\n",
      "HUP_185_6985_7679.npy is all nan\n",
      "HUP_180_2291_2666.npy is all nan\n",
      "HUP_182_990_1308.npy is all nan\n",
      "HUP_191_488_757.npy is all nan\n",
      "HUP_210_4040_8519.npy is not all nan\n",
      "HUP_185_975_1229.npy is all nan\n",
      "HUP_205_5931_6629.npy is all nan\n",
      "HUP_210_20_550.npy is all nan\n",
      "HUP_196_5570_6269.npy is all nan\n",
      "HUP_174_4529_4871.npy is all nan\n",
      "HUP_191_6472_7199.npy is all nan\n",
      "HUP_180_5015_5729.npy is all nan\n",
      "HUP_202_3827_4117.npy is all nan\n",
      "HUP_172_7191_7889.npy is all nan\n",
      "HUP_202_5720_6419.npy is all nan\n",
      "HUP_182_6630_8489.npy is not all nan\n",
      "HUP_196_4304_4848.npy is all nan\n"
     ]
    }
   ],
   "source": [
    "# Iterate through all files in the directory\n",
    "for filename in os.listdir(SYNCHRONY_BROADBAND_FILL_DIRECTORY):\n",
    "    # Load the file\n",
    "    data = np.load(os.path.join(SYNCHRONY_BROADBAND_FILL_DIRECTORY, filename))\n",
    "\n",
    "    # print if data is all nan\n",
    "    if np.isnan(data).all():\n",
    "        print(f\"{filename} is all nan\")\n",
    "    else:\n",
    "        print(f\"{filename} is not all nan\")"
   ]
  },
  {
   "cell_type": "code",
   "execution_count": null,
   "metadata": {},
   "outputs": [],
   "source": []
  }
 ],
 "metadata": {
  "kernelspec": {
   "display_name": "base",
   "language": "python",
   "name": "python3"
  },
  "language_info": {
   "codemirror_mode": {
    "name": "ipython",
    "version": 3
   },
   "file_extension": ".py",
   "mimetype": "text/x-python",
   "name": "python",
   "nbconvert_exporter": "python",
   "pygments_lexer": "ipython3",
   "version": "3.11.4"
  }
 },
 "nbformat": 4,
 "nbformat_minor": 2
}
