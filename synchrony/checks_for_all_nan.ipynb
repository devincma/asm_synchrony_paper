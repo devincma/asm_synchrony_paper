{
 "cells": [
  {
   "cell_type": "code",
   "execution_count": 4,
   "metadata": {},
   "outputs": [],
   "source": [
    "import os\n",
    "import numpy as np"
   ]
  },
  {
   "cell_type": "code",
   "execution_count": 5,
   "metadata": {},
   "outputs": [
    {
     "name": "stdout",
     "output_type": "stream",
     "text": [
      "[138, 139, 141, 142, 143, 144, 145, 146, 150, 151, 154, 155, 157, 158, 160, 161, 162, 163, 164, 165, 166, 169, 170, 171, 172, 173, 174, 175, 177, 178, 180, 182, 184, 185, 186, 187, 188, 189, 190, 191, 192, 196, 199, 202, 204, 205, 206, 207, 210, 217, 219, 221, 223, 225]\n"
     ]
    },
    {
     "data": {
      "text/plain": [
       "54"
      ]
     },
     "execution_count": 5,
     "metadata": {},
     "output_type": "execute_result"
    }
   ],
   "source": [
    "def get_patient_hup_ids(directory):\n",
    "    # List all files in the directory\n",
    "    files = os.listdir(directory)\n",
    "\n",
    "    # Filter out files based on the given pattern and extract patient_hup_id as integers\n",
    "    patient_hup_ids = [\n",
    "        int(f.split(\"_\")[1].split(\".\")[0])\n",
    "        for f in files\n",
    "        if f.startswith(\"HUP_\") and f.endswith(\".npy\")\n",
    "    ]\n",
    "\n",
    "    return patient_hup_ids\n",
    "\n",
    "\n",
    "directory = \"../../Data/synchrony/all/broadband/\"\n",
    "completed_hup_ids = get_patient_hup_ids(directory)\n",
    "completed_hup_ids.sort()\n",
    "print(completed_hup_ids)\n",
    "len(completed_hup_ids)"
   ]
  },
  {
   "cell_type": "code",
   "execution_count": 6,
   "metadata": {},
   "outputs": [],
   "source": [
    "# Iterate over all the patient_hup_ids and check if the corresponding file exists\n",
    "for patient_hup_id in completed_hup_ids:\n",
    "    filename = f\"HUP_{patient_hup_id}.npy\"\n",
    "    path = os.path.join(directory, filename)\n",
    "    # Open the npy file\n",
    "    data = np.load(path)\n",
    "    # If data is all nan, print the patient_hup_id\n",
    "    if np.isnan(data).all():\n",
    "        print(patient_hup_id)"
   ]
  },
  {
   "cell_type": "code",
   "execution_count": null,
   "metadata": {},
   "outputs": [],
   "source": []
  }
 ],
 "metadata": {
  "kernelspec": {
   "display_name": "base",
   "language": "python",
   "name": "python3"
  },
  "language_info": {
   "codemirror_mode": {
    "name": "ipython",
    "version": 3
   },
   "file_extension": ".py",
   "mimetype": "text/x-python",
   "name": "python",
   "nbconvert_exporter": "python",
   "pygments_lexer": "ipython3",
   "version": "3.11.4"
  },
  "orig_nbformat": 4
 },
 "nbformat": 4,
 "nbformat_minor": 2
}
