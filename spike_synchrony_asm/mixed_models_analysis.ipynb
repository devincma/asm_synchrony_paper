{
 "cells": [
  {
   "cell_type": "markdown",
   "metadata": {},
   "source": [
    "# Mixed Models for ASM+Spikes+Synchrony"
   ]
  },
  {
   "cell_type": "code",
   "execution_count": 1,
   "metadata": {},
   "outputs": [],
   "source": [
    "import os\n",
    "import numpy as np\n",
    "import pandas as pd\n",
    "import seaborn as sns\n",
    "import matplotlib.pyplot as plt\n",
    "import statsmodels.api as sm\n",
    "import statsmodels.formula.api as smf"
   ]
  },
  {
   "cell_type": "code",
   "execution_count": 2,
   "metadata": {},
   "outputs": [],
   "source": [
    "TABLES_DIRECTORY = \"../../Data/giant_new_tables\"\n",
    "\n",
    "# Set up the seaborn style\n",
    "sns.set_style(\"whitegrid\")"
   ]
  },
  {
   "cell_type": "code",
   "execution_count": 3,
   "metadata": {},
   "outputs": [],
   "source": [
    "# Initialize an empty list to hold the data\n",
    "# completed_hup_ids = [160, 172, 141, 145, 157, 161, 138, 142, 151, 171, 175, 187]\n",
    "completed_hup_ids = [\n",
    "    160,\n",
    "    172,\n",
    "    # 141, # not enough time before first seizure\n",
    "    145,\n",
    "    138,\n",
    "    142,\n",
    "    151,\n",
    "    187,\n",
    "    180,\n",
    "    184,\n",
    "    # 192, # incomplete data\n",
    "    # 196, # not enough time before first seizure\n",
    "    # 204, # not enough time before first seizure\n",
    "    # 165, # incomplete data\n",
    "    # 169, # not enough time after the last seizure\n",
    "    173,\n",
    "    # 150, # not enough time before first seizure\n",
    "    # 154, # incomplete data\n",
    "    # 158, # incomplete data\n",
    "    # 207, # not enough time before first seizure\n",
    "    223,\n",
    "    # 192,  ## Monday, August 21, 2023 additions this line and below # incomplete data\n",
    "    # 196, # not enough time before first seizure\n",
    "    # 204, # not enough time before first seizure\n",
    "    177,\n",
    "    185,\n",
    "    # 189, # not enough time before first seizure\n",
    "    # 205, # not enough time before first seizure\n",
    "    166,\n",
    "    # 170, # not enough time before first seizure\n",
    "    # 174, # not enough time before first seizure\n",
    "]\n",
    "# Sort completed_hup_ids in ascending order\n",
    "completed_hup_ids.sort()"
   ]
  },
  {
   "cell_type": "code",
   "execution_count": 4,
   "metadata": {},
   "outputs": [],
   "source": [
    "def get_relevant_data(df, hours_before=12):\n",
    "    # Find the first seizure time\n",
    "    first_seizure_time = df[df[\"had_seizure\"] >= 1][\"emu_minute\"].min()\n",
    "\n",
    "    # Find the last seizure time\n",
    "    last_seizure_time = df[df[\"had_seizure\"] >= 1][\"emu_minute\"].max()\n",
    "\n",
    "    # Calculate the start time for the 12-hour period before the first seizure\n",
    "    start_time = (\n",
    "        first_seizure_time - 2 * hours_before * 30\n",
    "    )  # Since each row represents 2 minutes\n",
    "\n",
    "    # Select the data for the period before the first seizure\n",
    "    pre_seizure_data = df[\n",
    "        (df[\"emu_minute\"] >= start_time) & (df[\"emu_minute\"] < first_seizure_time)\n",
    "    ]\n",
    "\n",
    "    # Select the data after the last seizure\n",
    "    post_seizure_data = df[df[\"emu_minute\"] > last_seizure_time]\n",
    "\n",
    "    # Return the combined data\n",
    "    return pd.concat([pre_seizure_data, post_seizure_data])\n",
    "\n",
    "\n",
    "# Prepare dataframes for all patients\n",
    "dfs = []\n",
    "for patient_hup_id in completed_hup_ids:\n",
    "    patient_features_df = pd.read_csv(\n",
    "        os.path.join(TABLES_DIRECTORY, f\"HUP_{str(patient_hup_id)}.csv\")\n",
    "    )\n",
    "\n",
    "    # Only keep emu_minute, synchrony_broadband,med_sum_no_lorazepam_raw, and had_seizure columns\n",
    "    patient_features_df = patient_features_df[\n",
    "        [\n",
    "            \"emu_minute\",\n",
    "            \"synchrony_broadband\",\n",
    "            \"med_sum_no_lorazepam_raw\",\n",
    "            \"time_since_last_seizure\",\n",
    "            \"ad_ratio\",\n",
    "            \"spike_rate\",\n",
    "            \"spike_fano_factor\",\n",
    "            \"spike_num_channels\",\n",
    "            \"had_seizure\",\n",
    "        ]\n",
    "    ]\n",
    "\n",
    "    # Add a column for patient_hup_id\n",
    "    patient_features_df[\"patient_hup_id\"] = patient_hup_id\n",
    "\n",
    "    # dfs.append(get_relevant_data(patient_features_df))\n",
    "    dfs.append(get_relevant_data(patient_features_df))\n",
    "\n",
    "\n",
    "# Combine them into one dataframe\n",
    "all_data = pd.concat(dfs).reset_index(drop=True)\n",
    "# drop rows with any missing values\n",
    "all_data = all_data.dropna()\n",
    "# Reset the index\n",
    "all_data = all_data.reset_index(drop=True)"
   ]
  },
  {
   "cell_type": "markdown",
   "metadata": {},
   "source": [
    "## Effect on synchrony from spikes"
   ]
  },
  {
   "cell_type": "code",
   "execution_count": 5,
   "metadata": {},
   "outputs": [
    {
     "name": "stdout",
     "output_type": "stream",
     "text": [
      "              Mixed Linear Model Regression Results\n",
      "=================================================================\n",
      "Model:            MixedLM Dependent Variable: synchrony_broadband\n",
      "No. Observations: 21076   Method:             REML               \n",
      "No. Groups:       14      Scale:              0.0007             \n",
      "Min. group size:  248     Log-Likelihood:     47007.1891         \n",
      "Max. group size:  4192    Converged:          Yes                \n",
      "Mean group size:  1505.4                                         \n",
      "------------------------------------------------------------------\n",
      "                    Coef.  Std.Err.    z     P>|z|  [0.025  0.975]\n",
      "------------------------------------------------------------------\n",
      "Intercept           0.238     0.076   3.135  0.002   0.089   0.387\n",
      "spike_num_channels  0.025     0.002  12.829  0.000   0.021   0.028\n",
      "spike_fano_factor   0.000     0.000   1.685  0.092  -0.000   0.000\n",
      "spike_rate          0.060     0.002  31.899  0.000   0.056   0.064\n",
      "ad_ratio            0.003     0.000  12.056  0.000   0.003   0.004\n",
      "Group Var           0.081     1.138                               \n",
      "=================================================================\n",
      "\n"
     ]
    }
   ],
   "source": [
    "# Prepare the model\n",
    "model = smf.mixedlm(\n",
    "    \"synchrony_broadband ~ spike_num_channels + spike_fano_factor + spike_rate + ad_ratio\",\n",
    "    all_data,\n",
    "    groups=all_data[\"patient_hup_id\"],\n",
    ")\n",
    "\n",
    "# Fit the model\n",
    "result = model.fit()\n",
    "print(result.summary())"
   ]
  },
  {
   "cell_type": "markdown",
   "metadata": {},
   "source": [
    "rerun things without spikes"
   ]
  },
  {
   "cell_type": "code",
   "execution_count": 6,
   "metadata": {},
   "outputs": [
    {
     "data": {
      "image/png": "[encoded data removed]",
      "text/plain": [
       "<Figure size 500x300 with 1 Axes>"
      ]
     },
     "metadata": {},
     "output_type": "display_data"
    }
   ],
   "source": [
    "# Drop Group Var and Intercept from the results\n",
    "coefficients = result.params.drop([\"Group Var\", \"Intercept\"]).values\n",
    "predictors = result.params.drop([\"Group Var\", \"Intercept\"]).index\n",
    "std_errors = result.bse.drop([\"Group Var\", \"Intercept\"]).values\n",
    "\n",
    "# For a 95% confidence interval, z value is approximately 1.96\n",
    "z_value = 1.96\n",
    "conf_intervals = [\n",
    "    (coef - z_value * se, coef + z_value * se)\n",
    "    for coef, se in zip(coefficients, std_errors)\n",
    "]\n",
    "\n",
    "# Calculate lower and upper errors for each coefficient\n",
    "lower_errors = [\n",
    "    coef - ci_low for coef, (ci_low, ci_high) in zip(coefficients, conf_intervals)\n",
    "]\n",
    "upper_errors = [\n",
    "    ci_high - coef for coef, (ci_low, ci_high) in zip(coefficients, conf_intervals)\n",
    "]\n",
    "\n",
    "\n",
    "# Create the coefficient plot\n",
    "plt.figure(figsize=(5, 3))\n",
    "for idx, (coef, predictor) in enumerate(zip(coefficients, predictors)):\n",
    "    plt.errorbar(\n",
    "        coef,\n",
    "        idx,\n",
    "        xerr=[[lower_errors[idx]], [upper_errors[idx]]],\n",
    "        fmt=\"o\",\n",
    "        color=\"blue\",\n",
    "        ecolor=\"gray\",\n",
    "        elinewidth=2,\n",
    "        capsize=5,\n",
    "    )\n",
    "\n",
    "# Formatting\n",
    "plt.yticks(range(len(predictors)), predictors)\n",
    "plt.axvline(0, color=\"red\", linestyle=\"--\")  # Add a vertical line for 0\n",
    "plt.xlabel(\"Coefficient Value\")\n",
    "plt.ylabel(\"Predictors\")\n",
    "# plt.title(\"Mixed Model Coefficients with 95% Confidence Intervals\")\n",
    "plt.tight_layout()\n",
    "plt.show()"
   ]
  },
  {
   "cell_type": "code",
   "execution_count": 7,
   "metadata": {},
   "outputs": [
    {
     "data": {
      "image/png": "[encoded data removed]",
      "text/plain": [
       "<Figure size 600x300 with 1 Axes>"
      ]
     },
     "metadata": {},
     "output_type": "display_data"
    }
   ],
   "source": [
    "# Number of bootstraps\n",
    "n_boots = 1000\n",
    "\n",
    "# List of predictors\n",
    "predictors = [\n",
    "    \"spike_num_channels\",\n",
    "    \"spike_fano_factor\",\n",
    "    \"spike_rate\",\n",
    "    \"ad_ratio\",\n",
    "]\n",
    "coefficients = {pred: [] for pred in predictors}\n",
    "\n",
    "for _ in range(n_boots):\n",
    "    # Sample data with replacement\n",
    "    boot_data = all_data.sample(frac=1, replace=True)\n",
    "\n",
    "    # Fit model on bootstrap sample\n",
    "    model = smf.mixedlm(\n",
    "        \"synchrony_broadband ~ spike_num_channels + spike_fano_factor + spike_rate + ad_ratio\",\n",
    "        boot_data,\n",
    "        groups=boot_data[\"patient_hup_id\"],\n",
    "    )\n",
    "    result = model.fit()\n",
    "\n",
    "    # Store coefficients\n",
    "    for pred in predictors:\n",
    "        coefficients[pred].append(result.params[pred])\n",
    "\n",
    "# Calculate variability (standard deviation) of coefficients for each predictor\n",
    "relative_importance = {pred: np.std(coefficients[pred]) for pred in predictors}\n",
    "\n",
    "# Compute standard error for each predictor\n",
    "standard_errors = {\n",
    "    pred: std / np.sqrt(n_boots) for pred, std in relative_importance.items()\n",
    "}\n",
    "\n",
    "# Sort the predictors based on relative importance\n",
    "sorted_predictors = sorted(\n",
    "    relative_importance, key=relative_importance.get, reverse=True\n",
    ")\n",
    "\n",
    "# Visualization\n",
    "plt.figure(figsize=(6, 3))\n",
    "plt.bar(\n",
    "    sorted_predictors,\n",
    "    [relative_importance[pred] for pred in sorted_predictors],\n",
    "    yerr=[standard_errors[pred] for pred in sorted_predictors],\n",
    "    capsize=10,\n",
    ")\n",
    "plt.ylabel(\"Standard Deviation of Coefficients\")\n",
    "plt.title(\"Relative Importance of Predictors with Error Bars\")\n",
    "plt.xticks(rotation=45)  # Rotate predictor names for better readability\n",
    "plt.show()"
   ]
  },
  {
   "cell_type": "markdown",
   "metadata": {},
   "source": [
    "## Effect on spike rate from ASM"
   ]
  },
  {
   "cell_type": "code",
   "execution_count": 8,
   "metadata": {},
   "outputs": [],
   "source": [
    "clause = \"spike_rate ~ med_sum_no_lorazepam_raw + ad_ratio\""
   ]
  },
  {
   "cell_type": "code",
   "execution_count": 9,
   "metadata": {},
   "outputs": [
    {
     "name": "stdout",
     "output_type": "stream",
     "text": [
      "               Mixed Linear Model Regression Results\n",
      "====================================================================\n",
      "Model:                MixedLM     Dependent Variable:     spike_rate\n",
      "No. Observations:     21076       Method:                 REML      \n",
      "No. Groups:           14          Scale:                  0.0083    \n",
      "Min. group size:      248         Log-Likelihood:         20476.1430\n",
      "Max. group size:      4192        Converged:              Yes       \n",
      "Mean group size:      1505.4                                        \n",
      "--------------------------------------------------------------------\n",
      "                         Coef.  Std.Err.    z    P>|z| [0.025 0.975]\n",
      "--------------------------------------------------------------------\n",
      "Intercept                 0.124    0.023   5.443 0.000  0.079  0.168\n",
      "med_sum_no_lorazepam_raw -0.126    0.003 -41.922 0.000 -0.132 -0.120\n",
      "ad_ratio                 -0.028    0.001 -31.938 0.000 -0.030 -0.026\n",
      "Group Var                 0.007    0.031                            \n",
      "====================================================================\n",
      "\n"
     ]
    },
    {
     "name": "stderr",
     "output_type": "stream",
     "text": [
      "/mnt/leif/littlab/users/devinma/Libraries/miniconda3/lib/python3.11/site-packages/statsmodels/regression/mixed_linear_model.py:2237: ConvergenceWarning: The MLE may be on the boundary of the parameter space.\n",
      "  warnings.warn(msg, ConvergenceWarning)\n"
     ]
    },
    {
     "data": {
      "image/png": "[encoded data removed]",
      "text/plain": [
       "<Figure size 500x300 with 1 Axes>"
      ]
     },
     "metadata": {},
     "output_type": "display_data"
    }
   ],
   "source": [
    "# Prepare the model\n",
    "model = smf.mixedlm(\n",
    "    clause,\n",
    "    all_data,\n",
    "    groups=all_data[\"patient_hup_id\"],\n",
    ")\n",
    "\n",
    "# Fit the model\n",
    "result = model.fit()\n",
    "print(result.summary())\n",
    "\n",
    "# Drop Group Var and Intercept from the results\n",
    "coefficients = result.params.drop([\"Group Var\", \"Intercept\"]).values\n",
    "predictors = result.params.drop([\"Group Var\", \"Intercept\"]).index\n",
    "std_errors = result.bse.drop([\"Group Var\", \"Intercept\"]).values\n",
    "\n",
    "# For a 95% confidence interval, z value is approximately 1.96\n",
    "z_value = 1.96\n",
    "conf_intervals = [\n",
    "    (coef - z_value * se, coef + z_value * se)\n",
    "    for coef, se in zip(coefficients, std_errors)\n",
    "]\n",
    "\n",
    "# Calculate lower and upper errors for each coefficient\n",
    "lower_errors = [\n",
    "    coef - ci_low for coef, (ci_low, ci_high) in zip(coefficients, conf_intervals)\n",
    "]\n",
    "upper_errors = [\n",
    "    ci_high - coef for coef, (ci_low, ci_high) in zip(coefficients, conf_intervals)\n",
    "]\n",
    "\n",
    "\n",
    "# Create the coefficient plot\n",
    "plt.figure(figsize=(5, 3))\n",
    "for idx, (coef, predictor) in enumerate(zip(coefficients, predictors)):\n",
    "    plt.errorbar(\n",
    "        coef,\n",
    "        idx,\n",
    "        xerr=[[lower_errors[idx]], [upper_errors[idx]]],\n",
    "        fmt=\"o\",\n",
    "        color=\"blue\",\n",
    "        ecolor=\"gray\",\n",
    "        elinewidth=2,\n",
    "        capsize=5,\n",
    "    )\n",
    "\n",
    "# Formatting\n",
    "plt.yticks(range(len(predictors)), predictors)\n",
    "plt.axvline(0, color=\"red\", linestyle=\"--\")  # Add a vertical line for 0\n",
    "plt.xlabel(\"Coefficient Value\")\n",
    "plt.ylabel(\"Predictors\")\n",
    "# plt.title(\"Mixed Model Coefficients with 95% Confidence Intervals\")\n",
    "plt.tight_layout()\n",
    "plt.show()"
   ]
  },
  {
   "cell_type": "markdown",
   "metadata": {},
   "source": [
    "within each patient, "
   ]
  },
  {
   "cell_type": "code",
   "execution_count": 10,
   "metadata": {},
   "outputs": [],
   "source": [
    "clause = \"spike_fano_factor ~ med_sum_no_lorazepam_raw + ad_ratio\""
   ]
  },
  {
   "cell_type": "code",
   "execution_count": 11,
   "metadata": {},
   "outputs": [
    {
     "name": "stdout",
     "output_type": "stream",
     "text": [
      "               Mixed Linear Model Regression Results\n",
      "====================================================================\n",
      "Model:               MixedLM  Dependent Variable:  spike_fano_factor\n",
      "No. Observations:    21076    Method:              REML             \n",
      "No. Groups:          14       Scale:               108.5941         \n",
      "Min. group size:     248      Log-Likelihood:      -79348.3290      \n",
      "Max. group size:     4192     Converged:           Yes              \n",
      "Mean group size:     1505.4                                         \n",
      "--------------------------------------------------------------------\n",
      "                         Coef.  Std.Err.    z    P>|z| [0.025 0.975]\n",
      "--------------------------------------------------------------------\n",
      "Intercept                16.241    2.319   7.002 0.000 11.695 20.787\n",
      "med_sum_no_lorazepam_raw -0.354    0.344  -1.029 0.304 -1.028  0.320\n",
      "ad_ratio                 -1.211    0.100 -12.161 0.000 -1.406 -1.015\n",
      "Group Var                75.010    2.847                            \n",
      "====================================================================\n",
      "\n"
     ]
    },
    {
     "data": {
      "image/png": "[encoded data removed]",
      "text/plain": [
       "<Figure size 500x300 with 1 Axes>"
      ]
     },
     "metadata": {},
     "output_type": "display_data"
    }
   ],
   "source": [
    "# Prepare the model\n",
    "model = smf.mixedlm(\n",
    "    clause,\n",
    "    all_data,\n",
    "    groups=all_data[\"patient_hup_id\"],\n",
    ")\n",
    "\n",
    "# Fit the model\n",
    "result = model.fit()\n",
    "print(result.summary())\n",
    "\n",
    "# Drop Group Var and Intercept from the results\n",
    "coefficients = result.params.drop([\"Group Var\", \"Intercept\"]).values\n",
    "predictors = result.params.drop([\"Group Var\", \"Intercept\"]).index\n",
    "std_errors = result.bse.drop([\"Group Var\", \"Intercept\"]).values\n",
    "\n",
    "# For a 95% confidence interval, z value is approximately 1.96\n",
    "z_value = 1.96\n",
    "conf_intervals = [\n",
    "    (coef - z_value * se, coef + z_value * se)\n",
    "    for coef, se in zip(coefficients, std_errors)\n",
    "]\n",
    "\n",
    "# Calculate lower and upper errors for each coefficient\n",
    "lower_errors = [\n",
    "    coef - ci_low for coef, (ci_low, ci_high) in zip(coefficients, conf_intervals)\n",
    "]\n",
    "upper_errors = [\n",
    "    ci_high - coef for coef, (ci_low, ci_high) in zip(coefficients, conf_intervals)\n",
    "]\n",
    "\n",
    "\n",
    "# Create the coefficient plot\n",
    "plt.figure(figsize=(5, 3))\n",
    "for idx, (coef, predictor) in enumerate(zip(coefficients, predictors)):\n",
    "    plt.errorbar(\n",
    "        coef,\n",
    "        idx,\n",
    "        xerr=[[lower_errors[idx]], [upper_errors[idx]]],\n",
    "        fmt=\"o\",\n",
    "        color=\"blue\",\n",
    "        ecolor=\"gray\",\n",
    "        elinewidth=2,\n",
    "        capsize=5,\n",
    "    )\n",
    "\n",
    "# Formatting\n",
    "plt.yticks(range(len(predictors)), predictors)\n",
    "plt.axvline(0, color=\"red\", linestyle=\"--\")  # Add a vertical line for 0\n",
    "plt.xlabel(\"Coefficient Value\")\n",
    "plt.ylabel(\"Predictors\")\n",
    "# plt.title(\"Mixed Model Coefficients with 95% Confidence Intervals\")\n",
    "plt.tight_layout()\n",
    "plt.show()"
   ]
  },
  {
   "cell_type": "markdown",
   "metadata": {},
   "source": [
    "The lower the ASM level (worse brain state), the lower the fano factor is, the more homogeneous the interspike intervals are. This makes sense."
   ]
  },
  {
   "cell_type": "code",
   "execution_count": 12,
   "metadata": {},
   "outputs": [],
   "source": [
    "clause = (\n",
    "    \"spike_num_channels ~ med_sum_no_lorazepam_raw + time_since_last_seizure + ad_ratio\"\n",
    ")"
   ]
  },
  {
   "cell_type": "code",
   "execution_count": 13,
   "metadata": {},
   "outputs": [
    {
     "name": "stdout",
     "output_type": "stream",
     "text": [
      "               Mixed Linear Model Regression Results\n",
      "===================================================================\n",
      "Model:             MixedLM  Dependent Variable:  spike_num_channels\n",
      "No. Observations:  21076    Method:              REML              \n",
      "No. Groups:        14       Scale:               0.0086            \n",
      "Min. group size:   248      Log-Likelihood:      20202.5480        \n",
      "Max. group size:   4192     Converged:           Yes               \n",
      "Mean group size:   1505.4                                          \n",
      "-------------------------------------------------------------------\n",
      "                         Coef.  Std.Err.   z    P>|z| [0.025 0.975]\n",
      "-------------------------------------------------------------------\n",
      "Intercept                 0.004    0.003  1.488 0.137 -0.001  0.010\n",
      "med_sum_no_lorazepam_raw -0.006    0.004 -1.562 0.118 -0.013  0.002\n",
      "time_since_last_seizure   0.000    0.000  5.005 0.000  0.000  0.000\n",
      "ad_ratio                 -0.003    0.001 -3.814 0.000 -0.005 -0.002\n",
      "Group Var                 0.000    0.000                           \n",
      "===================================================================\n",
      "\n"
     ]
    },
    {
     "name": "stderr",
     "output_type": "stream",
     "text": [
      "/mnt/leif/littlab/users/devinma/Libraries/miniconda3/lib/python3.11/site-packages/statsmodels/regression/mixed_linear_model.py:2237: ConvergenceWarning: The MLE may be on the boundary of the parameter space.\n",
      "  warnings.warn(msg, ConvergenceWarning)\n"
     ]
    },
    {
     "data": {
      "image/png": "[encoded data removed]",
      "text/plain": [
       "<Figure size 500x300 with 1 Axes>"
      ]
     },
     "metadata": {},
     "output_type": "display_data"
    }
   ],
   "source": [
    "# Prepare the model\n",
    "model = smf.mixedlm(\n",
    "    clause,\n",
    "    all_data,\n",
    "    groups=all_data[\"patient_hup_id\"],\n",
    ")\n",
    "\n",
    "# Fit the model\n",
    "result = model.fit()\n",
    "print(result.summary())\n",
    "\n",
    "# Drop Group Var and Intercept from the results\n",
    "coefficients = result.params.drop([\"Group Var\", \"Intercept\"]).values\n",
    "predictors = result.params.drop([\"Group Var\", \"Intercept\"]).index\n",
    "std_errors = result.bse.drop([\"Group Var\", \"Intercept\"]).values\n",
    "\n",
    "# For a 95% confidence interval, z value is approximately 1.96\n",
    "z_value = 1.96\n",
    "conf_intervals = [\n",
    "    (coef - z_value * se, coef + z_value * se)\n",
    "    for coef, se in zip(coefficients, std_errors)\n",
    "]\n",
    "\n",
    "# Calculate lower and upper errors for each coefficient\n",
    "lower_errors = [\n",
    "    coef - ci_low for coef, (ci_low, ci_high) in zip(coefficients, conf_intervals)\n",
    "]\n",
    "upper_errors = [\n",
    "    ci_high - coef for coef, (ci_low, ci_high) in zip(coefficients, conf_intervals)\n",
    "]\n",
    "\n",
    "\n",
    "# Create the coefficient plot\n",
    "plt.figure(figsize=(5, 3))\n",
    "for idx, (coef, predictor) in enumerate(zip(coefficients, predictors)):\n",
    "    plt.errorbar(\n",
    "        coef,\n",
    "        idx,\n",
    "        xerr=[[lower_errors[idx]], [upper_errors[idx]]],\n",
    "        fmt=\"o\",\n",
    "        color=\"blue\",\n",
    "        ecolor=\"gray\",\n",
    "        elinewidth=2,\n",
    "        capsize=5,\n",
    "    )\n",
    "\n",
    "# Formatting\n",
    "plt.yticks(range(len(predictors)), predictors)\n",
    "plt.axvline(0, color=\"red\", linestyle=\"--\")  # Add a vertical line for 0\n",
    "plt.xlabel(\"Coefficient Value\")\n",
    "plt.ylabel(\"Predictors\")\n",
    "# plt.title(\"Mixed Model Coefficients with 95% Confidence Intervals\")\n",
    "plt.tight_layout()\n",
    "plt.show()"
   ]
  },
  {
   "cell_type": "markdown",
   "metadata": {},
   "source": [
    "The lower the ASM level (worse brain state), the more channels have spikes. Potentially related to spike cascades."
   ]
  }
 ],
 "metadata": {
  "kernelspec": {
   "display_name": "base",
   "language": "python",
   "name": "python3"
  },
  "language_info": {
   "codemirror_mode": {
    "name": "ipython",
    "version": 3
   },
   "file_extension": ".py",
   "mimetype": "text/x-python",
   "name": "python",
   "nbconvert_exporter": "python",
   "pygments_lexer": "ipython3",
   "version": "3.11.4"
  },
  "orig_nbformat": 4
 },
 "nbformat": 4,
 "nbformat_minor": 2
}
