{
 "cells": [
  {
   "cell_type": "code",
   "execution_count": null,
   "metadata": {},
   "outputs": [],
   "source": [
    "import numpy as np\n",
    "import pandas as pd\n",
    "import matplotlib.pyplot as plt\n",
    "\n",
    "from get_iEEG_data import *\n",
    "from spike_detector import *\n",
    "from spike_morphology import *\n",
    "from iEEG_helper_functions import *"
   ]
  },
  {
   "cell_type": "code",
   "execution_count": null,
   "metadata": {},
   "outputs": [],
   "source": [
    "def create_pwd_file(username, password, fname=None):\n",
    "    if fname is None:\n",
    "        fname = \"{}_ieeglogin.bin\".format(username[:3])\n",
    "    with open(fname, \"wb\") as f:\n",
    "        f.write(password.encode())\n",
    "    print(\"-- -- IEEG password file saved -- --\")\n",
    "\n",
    "\n",
    "create_pwd_file(\"dma\", \"mycqEv-pevfo4-roqfan\")\n",
    "\n",
    "with open(\"dma_ieeglogin.bin\", \"r\") as f:\n",
    "    s = Session(\"dma\", f.read())\n",
    "\n",
    "ds = s.open_dataset(\"HUP210_phaseII\")\n",
    "all_channel_labels = np.array(ds.get_channel_labels())\n",
    "label_idxs = electrode_selection(all_channel_labels)\n",
    "labels = all_channel_labels[label_idxs]"
   ]
  },
  {
   "cell_type": "code",
   "execution_count": null,
   "metadata": {},
   "outputs": [],
   "source": [
    "ieeg_data, fs = get_iEEG_data(\n",
    "    \"dma\",\n",
    "    \"dma_ieeglogin.bin\",\n",
    "    \"HUP210_phaseII\",\n",
    "    (179677 + (72600 / 1024)) * 1e6,\n",
    "    (179677 + (72600 / 1024) + 120) * 1e6,\n",
    "    labels,\n",
    ")\n",
    "\n",
    "fs = int(fs)"
   ]
  },
  {
   "cell_type": "code",
   "execution_count": null,
   "metadata": {},
   "outputs": [],
   "source": [
    "good_channels_res = detect_bad_channels_optimized(ieeg_data.to_numpy(), fs)\n",
    "good_channel_indicies = good_channels_res[0]\n",
    "good_labels = labels[good_channel_indicies]\n",
    "ieeg_data = ieeg_data[good_labels]\n",
    "\n",
    "ieeg_data = common_average_montage(ieeg_data)\n",
    "\n",
    "\n",
    "# Apply the filters directly on the DataFrame\n",
    "ieeg_data = pd.DataFrame(notch_filter(ieeg_data.values, 59, 61, fs))\n",
    "ieeg_data = pd.DataFrame(bandpass_filter(ieeg_data.values, 1, 70, fs))\n",
    "\n",
    "ieeg_data"
   ]
  },
  {
   "cell_type": "code",
   "execution_count": null,
   "metadata": {},
   "outputs": [],
   "source": [
    "output = spike_detector(\n",
    "    data=ieeg_data,\n",
    "    fs=fs,\n",
    "    labels=good_labels,\n",
    ")\n",
    "print(f\"{len(np.unique(output[:, 2]))} spikes detected\")"
   ]
  },
  {
   "cell_type": "code",
   "execution_count": null,
   "metadata": {},
   "outputs": [],
   "source": [
    "output = output.astype(int)\n",
    "output"
   ]
  },
  {
   "cell_type": "code",
   "execution_count": null,
   "metadata": {},
   "outputs": [],
   "source": [
    "num_good = 0\n",
    "\n",
    "for spike in output[45:]:\n",
    "    channel_id = spike[1]\n",
    "    peak_index = spike[0]\n",
    "    spike_signal = ieeg_data[peak_index - 1000 : peak_index + 1000][\n",
    "        channel_id\n",
    "    ].to_numpy()\n",
    "\n",
    "    basic_features, advanced_features, is_valid, bad_reason = extract_spike_morphology(\n",
    "        spike_signal\n",
    "    )\n",
    "\n",
    "    if is_valid:\n",
    "        num_good += 1\n",
    "        peak, left_point, right_point, slow_end, slow_max = basic_features\n",
    "        print(basic_features)\n",
    "        print(advanced_features)\n",
    "        plt.plot(spike_signal)\n",
    "        plt.plot(peak, spike_signal[peak], \"x\")\n",
    "        plt.plot(left_point, spike_signal[left_point], \"o\")\n",
    "        plt.plot(right_point, spike_signal[right_point], \"o\")\n",
    "        plt.plot(slow_end, spike_signal[slow_end], \"o\", color=\"k\")\n",
    "        plt.title(\"A spike\")\n",
    "        plt.xlim(250, 1750)\n",
    "        plt.show()\n",
    "    elif bad_reason != \"Short segment\":\n",
    "        print(bad_reason)\n",
    "        # plt.plot(spike_signal)\n",
    "        # plt.title(f\"NOT a spike because of {bad_reason}\")\n",
    "        # plt.xlim(250, 1750)\n",
    "        # plt.show()"
   ]
  },
  {
   "cell_type": "code",
   "execution_count": null,
   "metadata": {},
   "outputs": [],
   "source": []
  }
 ],
 "metadata": {
  "kernelspec": {
   "display_name": "base",
   "language": "python",
   "name": "python3"
  },
  "language_info": {
   "codemirror_mode": {
    "name": "ipython",
    "version": 3
   },
   "file_extension": ".py",
   "mimetype": "text/x-python",
   "name": "python",
   "nbconvert_exporter": "python",
   "pygments_lexer": "ipython3",
   "version": "3.11.4"
  },
  "orig_nbformat": 4
 },
 "nbformat": 4,
 "nbformat_minor": 2
}
