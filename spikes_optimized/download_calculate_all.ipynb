{
 "cells": [
  {
   "cell_type": "code",
   "execution_count": 1,
   "metadata": {},
   "outputs": [],
   "source": [
    "import os\n",
    "import numpy as np\n",
    "import pandas as pd\n",
    "import matplotlib.pyplot as plt\n",
    "from ieeg.auth import Session\n",
    "\n",
    "from get_iEEG_data import *\n",
    "from spike_detector import *\n",
    "from spike_morphology import *\n",
    "from iEEG_helper_functions import *"
   ]
  },
  {
   "cell_type": "code",
   "execution_count": 2,
   "metadata": {},
   "outputs": [],
   "source": [
    "SPIKES_OUTPUT_DIR = \"../../Data/spikes/devin_spikes/\"\n",
    "SYNCHRONY_60_100_DIRECTORY = \"../../Data/synchrony/hourly/60_100\""
   ]
  },
  {
   "cell_type": "code",
   "execution_count": 4,
   "metadata": {},
   "outputs": [
    {
     "data": {
      "text/plain": [
       "array([137, 138, 139, 140, 141, 142, 143, 145, 146, 148, 150, 151, 152,\n",
       "       153, 154, 156, 157, 158, 159, 160, 161, 162, 163, 164, 165, 166,\n",
       "       167, 168, 169, 170, 171, 172, 173, 174, 175, 177, 178, 179, 180,\n",
       "       181, 182, 184, 185, 186, 187, 188, 189, 190, 191, 192, 196, 197,\n",
       "       199, 201, 202, 204, 205, 206, 207, 209, 210, 211, 213, 214, 215,\n",
       "       219, 221, 223, 224, 225])"
      ]
     },
     "execution_count": 4,
     "metadata": {},
     "output_type": "execute_result"
    }
   ],
   "source": [
    "# Load good_hup_ids_for_spike_detector.npy\n",
    "good_hup_ids_for_spike_detector = np.load(\"good_hup_ids_for_spike_detector.npy\")\n",
    "good_hup_ids_for_spike_detector"
   ]
  },
  {
   "cell_type": "code",
   "execution_count": null,
   "metadata": {},
   "outputs": [],
   "source": []
  }
 ],
 "metadata": {
  "kernelspec": {
   "display_name": "base",
   "language": "python",
   "name": "python3"
  },
  "language_info": {
   "codemirror_mode": {
    "name": "ipython",
    "version": 3
   },
   "file_extension": ".py",
   "mimetype": "text/x-python",
   "name": "python",
   "nbconvert_exporter": "python",
   "pygments_lexer": "ipython3",
   "version": "3.11.4"
  },
  "orig_nbformat": 4
 },
 "nbformat": 4,
 "nbformat_minor": 2
}
