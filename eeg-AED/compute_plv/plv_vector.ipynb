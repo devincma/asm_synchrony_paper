{
 "cells": [
  {
   "cell_type": "markdown",
   "metadata": {},
   "source": [
    "# Compute Phase Locking Value Vectors"
   ]
  },
  {
   "cell_type": "code",
   "execution_count": 9,
   "metadata": {},
   "outputs": [],
   "source": [
    "import scipy.io\n",
    "import numpy as np\n",
    "import os, pickle, re\n",
    "import pandas as pd\n",
    "\n",
    "IEEG_DIRECTORY = \"../../../Data/ieeg/temporal_neocortical\"\n",
    "OUTPUT_DIRECTORY = \"../../../Data/plv/vector\""
   ]
  },
  {
   "cell_type": "code",
   "execution_count": 10,
   "metadata": {},
   "outputs": [],
   "source": [
    "patient_hup_ids = []"
   ]
  },
  {
   "cell_type": "code",
   "execution_count": 11,
   "metadata": {},
   "outputs": [
    {
     "data": {
      "text/html": [
       "<div>\n",
       "<style scoped>\n",
       "    .dataframe tbody tr th:only-of-type {\n",
       "        vertical-align: middle;\n",
       "    }\n",
       "\n",
       "    .dataframe tbody tr th {\n",
       "        vertical-align: top;\n",
       "    }\n",
       "\n",
       "    .dataframe thead th {\n",
       "        text-align: right;\n",
       "    }\n",
       "</style>\n",
       "<table border=\"1\" class=\"dataframe\">\n",
       "  <thead>\n",
       "    <tr style=\"text-align: right;\">\n",
       "      <th></th>\n",
       "      <th>hup_id</th>\n",
       "      <th>max_hour</th>\n",
       "      <th>sample_rate</th>\n",
       "    </tr>\n",
       "  </thead>\n",
       "  <tbody>\n",
       "  </tbody>\n",
       "</table>\n",
       "</div>"
      ],
      "text/plain": [
       "Empty DataFrame\n",
       "Columns: [hup_id, max_hour, sample_rate]\n",
       "Index: []"
      ]
     },
     "execution_count": 11,
     "metadata": {},
     "output_type": "execute_result"
    }
   ],
   "source": [
    "def parse_files_in_directory(directory_path):\n",
    "    # Initialize dictionaries for HUP id to maximum hour and sample rate\n",
    "    max_hours = {}\n",
    "    sample_rates = {}\n",
    "\n",
    "    # Iterate over each file in the directory\n",
    "    for filename in os.listdir(directory_path):\n",
    "        # Check if filename contains \"D0\"\n",
    "        if \"D0\" in filename:\n",
    "            continue\n",
    "        # Use regular expression to extract the values from the filename\n",
    "        match = re.match(r\"HUP(\\d+)_phaseII_hr_(\\d+)_fs_(\\d+).pkl\", filename)\n",
    "        if match:\n",
    "            hup_id, hour, sample_rate = map(int, match.groups())\n",
    "\n",
    "            # If this HUP id is not in max_hours dictionary, or the current hour is greater\n",
    "            # than the stored maximum hour, update the maximum hour\n",
    "            if hup_id not in max_hours or hour > max_hours[hup_id]:\n",
    "                max_hours[hup_id] = hour\n",
    "\n",
    "            # If this HUP id is not in the sample_rates dictionary, add it\n",
    "            if hup_id not in sample_rates:\n",
    "                sample_rates[hup_id] = sample_rate\n",
    "\n",
    "    # Convert the dictionaries into lists\n",
    "    hup_ids = list(max_hours.keys())\n",
    "    max_hours = list(max_hours.values())\n",
    "    sample_rates = [sample_rates[hup_id] for hup_id in hup_ids]\n",
    "\n",
    "    return hup_ids, max_hours, sample_rates\n",
    "\n",
    "\n",
    "# Call the function\n",
    "hup_ids, max_hours, sample_rates = parse_files_in_directory(IEEG_DIRECTORY)\n",
    "\n",
    "# create a dataframe with the HUP id, maximum hour, and sample rate, sort by HUP id\n",
    "datasets_df = pd.DataFrame(\n",
    "    {\"hup_id\": hup_ids, \"max_hour\": max_hours, \"sample_rate\": sample_rates}\n",
    ")\n",
    "datasets_df = datasets_df.sort_values(by=\"hup_id\")\n",
    "datasets_df = datasets_df.reset_index(drop=True)\n",
    "datasets_df"
   ]
  }
 ],
 "metadata": {
  "kernelspec": {
   "display_name": "base",
   "language": "python",
   "name": "python3"
  },
  "language_info": {
   "codemirror_mode": {
    "name": "ipython",
    "version": 3
   },
   "file_extension": ".py",
   "mimetype": "text/x-python",
   "name": "python",
   "nbconvert_exporter": "python",
   "pygments_lexer": "ipython3",
   "version": "3.11.4"
  },
  "orig_nbformat": 4
 },
 "nbformat": 4,
 "nbformat_minor": 2
}
