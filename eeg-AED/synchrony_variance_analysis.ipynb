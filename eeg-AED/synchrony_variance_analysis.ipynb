{
 "cells": [
  {
   "cell_type": "code",
   "execution_count": null,
   "metadata": {},
   "outputs": [],
   "source": [
    "import os, math\n",
    "import numpy as np\n",
    "import pandas as pd\n",
    "from scipy import stats\n",
    "import matplotlib.pyplot as plt"
   ]
  },
  {
   "cell_type": "code",
   "execution_count": null,
   "metadata": {},
   "outputs": [],
   "source": [
    "TABLES_DIRECTORY = \"../../Data/giant_tables\""
   ]
  },
  {
   "cell_type": "code",
   "execution_count": null,
   "metadata": {},
   "outputs": [],
   "source": [
    "patient_hup_ids = []\n",
    "# Iterate through all files in TABLES_DIRECTORY\n",
    "for filename in os.listdir(TABLES_DIRECTORY):\n",
    "    # Only look at filename that are .csv files and does not begin with .\n",
    "    if filename.endswith(\".csv\") and not filename.startswith(\".\"):\n",
    "        # Get the patient_hup_id from the filename which is after _ and before .\n",
    "        patient_hup_id = int(filename.split(\"_\")[1].split(\".\")[0])\n",
    "        patient_hup_ids.append(patient_hup_id)\n",
    "\n",
    "patient_hup_ids = sorted(patient_hup_ids)\n",
    "# Exclude 141, 147, 150, 156, 159, 170, 174, 175, 178, 179, 186, 188, 189, 194, 196, 204, 207, 213\n",
    "exclusion_list = [\n",
    "    141,\n",
    "    147,\n",
    "    150,\n",
    "    156,\n",
    "    159,\n",
    "    170,\n",
    "    172,\n",
    "    174,\n",
    "    175,\n",
    "    178,\n",
    "    179,\n",
    "    185,\n",
    "    186,\n",
    "    188,\n",
    "    189,\n",
    "    194,\n",
    "    196,\n",
    "    204,\n",
    "    207,\n",
    "    213,\n",
    "    224,\n",
    "]\n",
    "patient_hup_ids = [x for x in patient_hup_ids if x not in exclusion_list]\n",
    "len(patient_hup_ids)"
   ]
  },
  {
   "cell_type": "code",
   "execution_count": null,
   "metadata": {},
   "outputs": [],
   "source": [
    "for patient_hup_id in patient_hup_ids:\n",
    "    # Read in the giant table for this patient\n",
    "    hourly_patient_features_df = pd.read_csv(\n",
    "        os.path.join(TABLES_DIRECTORY, f\"HUP_{str(patient_hup_id)}.csv\")\n",
    "    )\n",
    "\n",
    "    sync_delta = hourly_patient_features_df[\"kuramoto_delta\"]\n",
    "\n",
    "    synchrony_series = pd.Series(sync_delta)\n",
    "    rolling_variance = synchrony_series.rolling(window=2).var()  # 24-hour window\n",
    "\n",
    "    plt.plot(synchrony_series)\n",
    "    plt.show()\n",
    "    rolling_variance.plot()\n",
    "    plt.show()"
   ]
  },
  {
   "cell_type": "code",
   "execution_count": null,
   "metadata": {},
   "outputs": [],
   "source": []
  }
 ],
 "metadata": {
  "kernelspec": {
   "display_name": "base",
   "language": "python",
   "name": "python3"
  },
  "language_info": {
   "codemirror_mode": {
    "name": "ipython",
    "version": 3
   },
   "file_extension": ".py",
   "mimetype": "text/x-python",
   "name": "python",
   "nbconvert_exporter": "python",
   "pygments_lexer": "ipython3",
   "version": "3.11.4"
  },
  "orig_nbformat": 4
 },
 "nbformat": 4,
 "nbformat_minor": 2
}
