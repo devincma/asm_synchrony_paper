{
 "cells": [
  {
   "cell_type": "code",
   "execution_count": 1,
   "metadata": {},
   "outputs": [],
   "source": [
    "import matplotlib.pyplot as plt\n",
    "import numpy as np\n",
    "import pandas as pd\n",
    "import os\n",
    "\n",
    "TABLES_DIRECTORY = \"../../Data/giant_tables\""
   ]
  },
  {
   "cell_type": "code",
   "execution_count": 2,
   "metadata": {},
   "outputs": [
    {
     "data": {
      "text/plain": [
       "62"
      ]
     },
     "execution_count": 2,
     "metadata": {},
     "output_type": "execute_result"
    }
   ],
   "source": [
    "patient_hup_ids = []\n",
    "# Iterate through all files in TABLES_DIRECTORY\n",
    "for filename in os.listdir(TABLES_DIRECTORY):\n",
    "    # Only look at filename that are .csv files and does not begin with .\n",
    "    if filename.endswith(\".csv\") and not filename.startswith(\".\"):\n",
    "        # Get the patient_hup_id from the filename which is after _ and before .\n",
    "        patient_hup_id = filename.split(\"_\")[1].split(\".\")[0]\n",
    "        patient_hup_ids.append(patient_hup_id)\n",
    "\n",
    "patient_hup_ids = sorted(patient_hup_ids)\n",
    "len(patient_hup_ids)"
   ]
  },
  {
   "cell_type": "code",
   "execution_count": 3,
   "metadata": {},
   "outputs": [],
   "source": [
    "from sklearn.preprocessing import MinMaxScaler\n",
    "\n",
    "\n",
    "def preprocess_data(data, lookback=5):\n",
    "    X, Y = [], []\n",
    "    for i in range(len(data) - lookback - 1):\n",
    "        X.append(data[i : (i + lookback)])\n",
    "        Y.append(data[\"num_seizures\"][i + lookback] > 0)\n",
    "\n",
    "    # scale features between 0 and 1\n",
    "    scaler = MinMaxScaler(feature_range=(0, 1))\n",
    "    X = np.array(X)\n",
    "    X = scaler.fit_transform(X.reshape(-1, X.shape[-1])).reshape(X.shape)\n",
    "\n",
    "    # labels are already binary, so no need to scale\n",
    "    Y = np.array(Y)\n",
    "    return X, Y"
   ]
  },
  {
   "cell_type": "code",
   "execution_count": 4,
   "metadata": {},
   "outputs": [],
   "source": [
    "import torch\n",
    "import torch.nn as nn\n",
    "\n",
    "\n",
    "class LSTMModel(nn.Module):\n",
    "    def __init__(self, input_size, hidden_size, num_layers, output_size):\n",
    "        super(LSTMModel, self).__init__()\n",
    "        self.hidden_size = hidden_size\n",
    "        self.num_layers = num_layers\n",
    "        self.lstm = nn.LSTM(input_size, hidden_size, num_layers, batch_first=True)\n",
    "        self.fc = nn.Linear(hidden_size, output_size)\n",
    "        self.sigmoid = nn.Sigmoid()\n",
    "\n",
    "    def forward(self, x):\n",
    "        h0 = torch.zeros(self.num_layers, x.size(0), self.hidden_size).to(x.device)\n",
    "        c0 = torch.zeros(self.num_layers, x.size(0), self.hidden_size).to(x.device)\n",
    "        out, _ = self.lstm(x, (h0, c0))\n",
    "        out = self.fc(out[:, -1, :])\n",
    "        out = self.sigmoid(out)\n",
    "        return out"
   ]
  },
  {
   "cell_type": "code",
   "execution_count": 5,
   "metadata": {},
   "outputs": [],
   "source": [
    "class GRUModel(nn.Module):\n",
    "    def __init__(self, input_size, hidden_size, num_layers, output_size):\n",
    "        super(GRUModel, self).__init__()\n",
    "        self.hidden_size = hidden_size\n",
    "        self.num_layers = num_layers\n",
    "        self.gru = nn.GRU(input_size, hidden_size, num_layers, batch_first=True)\n",
    "        self.fc = nn.Linear(hidden_size, output_size)\n",
    "        self.sigmoid = nn.Sigmoid()\n",
    "\n",
    "    def forward(self, x):\n",
    "        h0 = torch.zeros(self.num_layers, x.size(0), self.hidden_size).to(x.device)\n",
    "        out, _ = self.gru(x, h0)\n",
    "        out = self.fc(out[:, -1, :])\n",
    "        out = self.sigmoid(out)\n",
    "        return out"
   ]
  },
  {
   "cell_type": "code",
   "execution_count": 6,
   "metadata": {},
   "outputs": [
    {
     "data": {
      "text/plain": [
       "device(type='cpu')"
      ]
     },
     "execution_count": 6,
     "metadata": {},
     "output_type": "execute_result"
    }
   ],
   "source": [
    "# Assume device is already defined\n",
    "device = torch.device(\"cuda\" if torch.cuda.is_available() else \"cpu\")\n",
    "device"
   ]
  },
  {
   "cell_type": "code",
   "execution_count": 22,
   "metadata": {},
   "outputs": [
    {
     "name": "stdout",
     "output_type": "stream",
     "text": [
      "Patient 138, LSTM Accuracy: 0.9565217391304348, GRU Accuracy: 0.9565217391304348\n",
      "Patient 140, LSTM Accuracy: 0.9772727272727273, GRU Accuracy: 0.9772727272727273\n",
      "Patient 141, LSTM Accuracy: 0.7916666666666666, GRU Accuracy: 0.49166666666666664\n"
     ]
    }
   ],
   "source": [
    "import torch.optim as optim\n",
    "\n",
    "# Hyperparameters\n",
    "input_size = 30  # adjust as necessary\n",
    "hidden_size = 50\n",
    "num_layers = 2\n",
    "output_size = 1\n",
    "num_epochs = 100\n",
    "learning_rate = 0.001\n",
    "batch_size = 20\n",
    "\n",
    "for patient_hup_id in patient_hup_ids:\n",
    "    # Read in the giant table for this patient\n",
    "    hourly_patient_features_df = pd.read_csv(\n",
    "        os.path.join(TABLES_DIRECTORY, f\"HUP_{patient_hup_id}.csv\")\n",
    "    )\n",
    "\n",
    "    # Fill NaN values with 0\n",
    "    hourly_patient_features_df = hourly_patient_features_df.fillna(0)\n",
    "\n",
    "    # Preprocess the data\n",
    "    X, Y = preprocess_data(hourly_patient_features_df)\n",
    "\n",
    "    # Split the data into training and testing sets (you can adjust the proportions as needed)\n",
    "    train_proportion = 0.3\n",
    "    train_index = int(len(X) * train_proportion)\n",
    "    X_train, X_test = X[:train_index], X[train_index:]\n",
    "    Y_train, Y_test = Y[:train_index], Y[train_index:]\n",
    "\n",
    "    # Convert the data into PyTorch tensors\n",
    "    X_train = torch.tensor(X_train, dtype=torch.float32)\n",
    "    Y_train = torch.tensor(Y_train, dtype=torch.float32)\n",
    "    X_test = torch.tensor(X_test, dtype=torch.float32)\n",
    "    Y_test = torch.tensor(Y_test, dtype=torch.float32)\n",
    "\n",
    "    # Create dataloaders\n",
    "    train_data = torch.utils.data.TensorDataset(X_train, Y_train)\n",
    "    train_loader = torch.utils.data.DataLoader(train_data, batch_size=batch_size)\n",
    "\n",
    "    # Define the models\n",
    "    lstm_model = LSTMModel(input_size, hidden_size, num_layers, output_size).to(device)\n",
    "    gru_model = GRUModel(input_size, hidden_size, num_layers, output_size).to(device)\n",
    "\n",
    "    # Define the loss and optimizer\n",
    "    criterion = nn.BCELoss()\n",
    "    lstm_optimizer = optim.Adam(lstm_model.parameters(), lr=learning_rate)\n",
    "    gru_optimizer = optim.Adam(gru_model.parameters(), lr=learning_rate)\n",
    "\n",
    "    for epoch in range(num_epochs):\n",
    "        for i, (features, labels) in enumerate(train_loader):\n",
    "            features = features.to(device)\n",
    "            labels = labels.to(device).view(\n",
    "                -1, 1\n",
    "            )  # reshape labels to match output shape\n",
    "\n",
    "            # Forward pass and loss computation\n",
    "            lstm_outputs = lstm_model(features)\n",
    "            lstm_loss = criterion(lstm_outputs, labels)\n",
    "\n",
    "            gru_outputs = gru_model(features)\n",
    "            gru_loss = criterion(gru_outputs, labels)\n",
    "\n",
    "            # Backward pass and optimization\n",
    "            lstm_optimizer.zero_grad()\n",
    "            lstm_loss.backward()\n",
    "            lstm_optimizer.step()\n",
    "\n",
    "            gru_optimizer.zero_grad()\n",
    "            gru_loss.backward()\n",
    "            gru_optimizer.step()\n",
    "\n",
    "            if (i + 1) % 100 == 0:\n",
    "                print(\n",
    "                    f\"Epoch {epoch+1}/{num_epochs}, Step {i+1}/{len(train_loader)}, LSTM Loss: {lstm_loss.item()}, GRU Loss: {gru_loss.item()}\"\n",
    "                )\n",
    "\n",
    "    # Testing the models (you can use an appropriate performance metric such as accuracy, F1 score, AUC-ROC, etc.)\n",
    "    with torch.no_grad():\n",
    "        lstm_outputs = (lstm_model(X_test.to(device)) > 0.5).cpu().numpy()\n",
    "        gru_outputs = (gru_model(X_test.to(device)) > 0.5).cpu().numpy()\n",
    "\n",
    "        lstm_accuracy = np.mean(lstm_outputs == Y_test.numpy())\n",
    "        gru_accuracy = np.mean(gru_outputs == Y_test.numpy())\n",
    "\n",
    "        print(\n",
    "            f\"Patient {patient_hup_id}, LSTM Accuracy: {lstm_accuracy}, GRU Accuracy: {gru_accuracy}\"\n",
    "        )"
   ]
  }
 ],
 "metadata": {
  "kernelspec": {
   "display_name": "base",
   "language": "python",
   "name": "python3"
  },
  "language_info": {
   "codemirror_mode": {
    "name": "ipython",
    "version": 3
   },
   "file_extension": ".py",
   "mimetype": "text/x-python",
   "name": "python",
   "nbconvert_exporter": "python",
   "pygments_lexer": "ipython3",
   "version": "3.11.4"
  },
  "orig_nbformat": 4
 },
 "nbformat": 4,
 "nbformat_minor": 2
}
