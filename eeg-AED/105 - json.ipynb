{
 "cells": [
  {
   "cell_type": "code",
   "execution_count": 9,
   "metadata": {},
   "outputs": [
    {
     "data": {
      "text/plain": [
       "dict_keys(['HUP060', 'HUP064', 'HUP065', 'HUP068', 'HUP070', 'HUP073', 'HUP074', 'HUP075', 'HUP078', 'HUP080', 'HUP082', 'HUP083', 'HUP086', 'HUP087', 'HUP088', 'HUP089', 'HUP094', 'HUP097', 'HUP099', 'HUP105', 'HUP106', 'HUP107', 'HUP111', 'HUP112', 'HUP114', 'HUP116', 'HUP117', 'HUP123', 'HUP125', 'HUP126', 'HUP130', 'HUP132', 'HUP133', 'HUP134', 'HUP135', 'HUP138', 'HUP139', 'HUP140', 'HUP141', 'HUP142', 'HUP144', 'HUP146', 'HUP148', 'HUP150', 'HUP151', 'HUP157', 'HUP158', 'HUP160', 'HUP162', 'HUP163', 'HUP164', 'HUP165', 'HUP166', 'HUP170', 'HUP171', 'HUP172', 'HUP173', 'HUP177', 'HUP179', 'HUP180', 'HUP181', 'HUP185', 'HUP187', 'HUP188', 'HUP190', 'HUP191'])"
      ]
     },
     "execution_count": 9,
     "metadata": {},
     "output_type": "execute_result"
    }
   ],
   "source": [
    "# Import json\n",
    "import json\n",
    "\n",
    "# import ../Data/Patients/DATA_MASTER.json\n",
    "with open(\"../../Data/Patients/DATA_MASTER.json\") as f:\n",
    "    data_master = json.load(f)\n",
    "\n",
    "data_master[\"PATIENTS\"].keys()"
   ]
  },
  {
   "cell_type": "code",
   "execution_count": 27,
   "metadata": {},
   "outputs": [],
   "source": [
    "import scipy.io\n",
    "\n",
    "mat_file = scipy.io.loadmat(\n",
    "    \"../../../erinconr/projects/fc_toolbox/results/analysis/intermediate/HUP217.mat\"\n",
    ")\n",
    "mat_file = mat_file[\"summ\"][0]"
   ]
  },
  {
   "cell_type": "code",
   "execution_count": 30,
   "metadata": {},
   "outputs": [
    {
     "name": "stdout",
     "output_type": "stream",
     "text": [
      "0 soz (1, 1)\n",
      "1 name (1,)\n",
      "2 times (2392, 1)\n",
      "3 spikes (161, 2392)\n",
      "4 coi_global (2392, 1)\n",
      "5 rl (161, 2392)\n",
      "6 labels (161, 1)\n",
      "7 bipolar_labels (161, 1)\n",
      "8 bipolar_pair (148, 2)\n",
      "9 locs (161, 3)\n",
      "10 bipolar_locs (161, 3)\n",
      "11 anatomy (161, 1)\n",
      "12 bad_anatomy_flag (1, 1)\n",
      "13 ana_loc (161, 1)\n",
      "14 ana_lat (161, 1)\n",
      "15 file_times (2392, 1)\n",
      "16 file_index (2392, 1)\n",
      "17 ad (161, 2392)\n",
      "18 block_dur (1, 1)\n",
      "19 ns (161, 2392)\n",
      "20 n_rm_ictal (1, 1)\n",
      "21 sz_times (3, 2)\n",
      "22 sz_semiology (3, 1)\n",
      "23 rid (1, 1)\n",
      "24 avg_fc (161, 161)\n",
      "25 seq_info (2, 2392)\n",
      "26 clinical (1, 1)\n",
      "27 leader (161, 2392)\n",
      "28 mod_midnight (2392, 1)\n",
      "29 ns_car (161, 2392)\n",
      "30 avg_fc_car (161, 161)\n",
      "31 ns_bi (161, 2392)\n",
      "32 avg_fc_bi (161, 161)\n",
      "33 bp (161, 5, 2392)\n",
      "34 bp_bi (161, 5, 2392)\n",
      "35 avg_coh (12880, 6)\n",
      "36 avg_coh_bi (12880, 6)\n",
      "37 good_spikes (1, 1)\n",
      "38 native_locs (161, 3)\n",
      "39 native_bipolar_locs (161, 3)\n",
      "40 fc_car_ws (2, 1)\n",
      "41 fc_bi_ws (2, 1)\n",
      "42 spikes_ws (2, 1)\n",
      "43 rl_ws (2, 1)\n",
      "44 coh_car_ws (2, 1)\n",
      "45 coh_bi_ws (2, 1)\n",
      "46 bp_bi_ws (2, 1)\n",
      "47 bp_car_ws (2, 1)\n"
     ]
    }
   ],
   "source": [
    "for index, key in enumerate(mat_file.dtype.names):\n",
    "    print(index, key, mat_file[0][index].shape)"
   ]
  },
  {
   "cell_type": "code",
   "execution_count": 25,
   "metadata": {},
   "outputs": [
    {
     "data": {
      "text/plain": [
       "(161, 2392)"
      ]
     },
     "execution_count": 25,
     "metadata": {},
     "output_type": "execute_result"
    }
   ],
   "source": [
    "mat_file[\"summ\"][0][0][17].shape"
   ]
  },
  {
   "cell_type": "code",
   "execution_count": null,
   "metadata": {},
   "outputs": [],
   "source": []
  }
 ],
 "metadata": {
  "kernelspec": {
   "display_name": "base",
   "language": "python",
   "name": "python3"
  },
  "language_info": {
   "codemirror_mode": {
    "name": "ipython",
    "version": 3
   },
   "file_extension": ".py",
   "mimetype": "text/x-python",
   "name": "python",
   "nbconvert_exporter": "python",
   "pygments_lexer": "ipython3",
   "version": "3.11.4"
  },
  "orig_nbformat": 4
 },
 "nbformat": 4,
 "nbformat_minor": 2
}
